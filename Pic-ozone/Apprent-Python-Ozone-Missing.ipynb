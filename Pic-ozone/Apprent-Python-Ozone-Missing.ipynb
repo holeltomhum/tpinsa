{
 "cells": [
  {
   "cell_type": "markdown",
   "metadata": {},
   "source": [
    "<center>\n",
    "<a href=\"http://www.insa-toulouse.fr/\" ><img src=\"http://www.math.univ-toulouse.fr/~besse/Wikistat/Images/logo-insa.jpg\" style=\"float:left; max-width: 120px; display: inline\" alt=\"INSA\"/></a> \n",
    "\n",
    "<a href=\"http://wikistat.fr/\" ><img src=\"http://www.math.univ-toulouse.fr/~besse/Wikistat/Images/wikistat.jpg\" style=\"float:right; max-width: 250px; display: inline\"  alt=\"Wikistat\"/></a>\n",
    "\n",
    "</center>"
   ]
  },
  {
   "cell_type": "markdown",
   "metadata": {},
   "source": [
    "# [Scénarios d'Apprentissage Statistique](https://github.com/wikistat/Apprentissage)"
   ]
  },
  {
   "cell_type": "markdown",
   "metadata": {},
   "source": [
    "\n",
    "\n",
    "# Gestion des données manquantes sur les données d'Ozone avec  <a href=\"https://www.python.org/\"><img src=\"https://upload.wikimedia.org/wikipedia/commons/thumb/f/f8/Python_logo_and_wordmark.svg/390px-Python_logo_and_wordmark.svg.png\" style=\"max-width: 120px; display: inline\" alt=\"Python\"/></a>  <a href=\"http://scikit-learn.org/stable/#\"><img src=\"http://scikit-learn.org/stable/_static/scikit-learn-logo-small.png\" style=\"max-width: 100px; display: inline\" alt=\"Scikit-learn\"/></a>"
   ]
  },
  {
   "cell_type": "markdown",
   "metadata": {},
   "source": [
    "**Résumé**: \n",
    "- Création d'un jeu de données contenant des données manquantes à partir des données ozone \n",
    "- Visualisation des données manquantes \n",
    "- Comparaison de diverses méthodes de complétion pour les données quantitatives\n",
    "- Complétion avec MissForest de l'ensemble des données (quantitaives et qualitatives) et impact sur les résultats de classification relativement au jeu de données initial complet"
   ]
  },
  {
   "cell_type": "markdown",
   "metadata": {},
   "source": [
    "## Prise en charge des données </font>\n",
    "### Lesture des données"
   ]
  },
  {
   "cell_type": "markdown",
   "metadata": {},
   "source": [
    "Les données ont été extraites et mises en forme par le service concerné de Météo France. Elles sont décrites par les variables suivantes:\n",
    "\n",
    "* **JOUR** Le type de jour ; férié (1) ou pas (0) ;\n",
    "* **O3obs** La concentration d'ozone effectivement observée le lendemain à 17h locales correspondant souvent au maximum de pollution observée ;\n",
    "* **MOCAGE** Prévision de cette pollution obtenue par un modèle déterministe de mécanique des fluides (équation de Navier et Stockes);\n",
    "* **TEMPE** Température prévue par MétéoFrance pour le lendemain 17h ;\n",
    "* **RMH2O** Rapport d'humidité ;\n",
    "* **NO2** Concentration en dioxyde d'azote ;\n",
    "* **NO** Concentration en monoxyde d'azote ;\n",
    "* **STATION** Lieu de l'observation : Aix-en-Provence, Rambouillet, Munchhausen, Cadarache et Plan de Cuques ;\n",
    "* **VentMOD** Force du vent ;\n",
    "* **VentANG** Orientation du vent. \n",
    "\n",
    "Ce sont des données \"propres\", sans trous, bien codées et de petites tailles. Elles présentent avant tout un caractère pédagogique.\n",
    "\n",
    "Il est choisi ici de lire les données avec la librairie `pandas` pour bénéficier de la classe DataFrame. Ce n'est pas nécessaire pour l'objectif de prévision car les variables qualitatives ainsi construites ne peuvent être utilisées pour l'interprétation des modèles obtenus dans `scikit-learn` qui ne reconnaît pas la classe DataFrame."
   ]
  },
  {
   "cell_type": "code",
   "execution_count": 1,
   "metadata": {
    "ExecuteTime": {
     "end_time": "2019-11-18T09:19:10.756181Z",
     "start_time": "2019-11-18T09:19:10.033317Z"
    },
    "tags": []
   },
   "outputs": [
    {
     "data": {
      "text/html": [
       "<div>\n",
       "<style scoped>\n",
       "    .dataframe tbody tr th:only-of-type {\n",
       "        vertical-align: middle;\n",
       "    }\n",
       "\n",
       "    .dataframe tbody tr th {\n",
       "        vertical-align: top;\n",
       "    }\n",
       "\n",
       "    .dataframe thead th {\n",
       "        text-align: right;\n",
       "    }\n",
       "</style>\n",
       "<table border=\"1\" class=\"dataframe\">\n",
       "  <thead>\n",
       "    <tr style=\"text-align: right;\">\n",
       "      <th></th>\n",
       "      <th>JOUR</th>\n",
       "      <th>O3obs</th>\n",
       "      <th>MOCAGE</th>\n",
       "      <th>TEMPE</th>\n",
       "      <th>RMH2O</th>\n",
       "      <th>NO2</th>\n",
       "      <th>NO</th>\n",
       "      <th>STATION</th>\n",
       "      <th>VentMOD</th>\n",
       "      <th>VentANG</th>\n",
       "    </tr>\n",
       "  </thead>\n",
       "  <tbody>\n",
       "    <tr>\n",
       "      <th>0</th>\n",
       "      <td>1</td>\n",
       "      <td>91</td>\n",
       "      <td>93.2</td>\n",
       "      <td>21.5</td>\n",
       "      <td>0.00847</td>\n",
       "      <td>1.602</td>\n",
       "      <td>0.424</td>\n",
       "      <td>Aix</td>\n",
       "      <td>9.5000</td>\n",
       "      <td>-0.64350</td>\n",
       "    </tr>\n",
       "    <tr>\n",
       "      <th>1</th>\n",
       "      <td>1</td>\n",
       "      <td>100</td>\n",
       "      <td>104.6</td>\n",
       "      <td>20.2</td>\n",
       "      <td>0.00881</td>\n",
       "      <td>2.121</td>\n",
       "      <td>0.531</td>\n",
       "      <td>Aix</td>\n",
       "      <td>8.0100</td>\n",
       "      <td>-0.04996</td>\n",
       "    </tr>\n",
       "    <tr>\n",
       "      <th>2</th>\n",
       "      <td>0</td>\n",
       "      <td>82</td>\n",
       "      <td>103.6</td>\n",
       "      <td>17.4</td>\n",
       "      <td>0.00951</td>\n",
       "      <td>1.657</td>\n",
       "      <td>0.467</td>\n",
       "      <td>Aix</td>\n",
       "      <td>9.3771</td>\n",
       "      <td>-0.12832</td>\n",
       "    </tr>\n",
       "    <tr>\n",
       "      <th>3</th>\n",
       "      <td>0</td>\n",
       "      <td>94</td>\n",
       "      <td>94.8</td>\n",
       "      <td>18.8</td>\n",
       "      <td>0.00855</td>\n",
       "      <td>2.350</td>\n",
       "      <td>0.701</td>\n",
       "      <td>Aix</td>\n",
       "      <td>9.4578</td>\n",
       "      <td>-0.34516</td>\n",
       "    </tr>\n",
       "    <tr>\n",
       "      <th>4</th>\n",
       "      <td>0</td>\n",
       "      <td>107</td>\n",
       "      <td>99.0</td>\n",
       "      <td>23.7</td>\n",
       "      <td>0.00731</td>\n",
       "      <td>1.653</td>\n",
       "      <td>0.452</td>\n",
       "      <td>Aix</td>\n",
       "      <td>7.8791</td>\n",
       "      <td>-0.41822</td>\n",
       "    </tr>\n",
       "  </tbody>\n",
       "</table>\n",
       "</div>"
      ],
      "text/plain": [
       "   JOUR  O3obs  MOCAGE  TEMPE    RMH2O    NO2     NO STATION  VentMOD  VentANG\n",
       "0     1     91    93.2   21.5  0.00847  1.602  0.424     Aix   9.5000 -0.64350\n",
       "1     1    100   104.6   20.2  0.00881  2.121  0.531     Aix   8.0100 -0.04996\n",
       "2     0     82   103.6   17.4  0.00951  1.657  0.467     Aix   9.3771 -0.12832\n",
       "3     0     94    94.8   18.8  0.00855  2.350  0.701     Aix   9.4578 -0.34516\n",
       "4     0    107    99.0   23.7  0.00731  1.653  0.452     Aix   7.8791 -0.41822"
      ]
     },
     "execution_count": 1,
     "metadata": {},
     "output_type": "execute_result"
    }
   ],
   "source": [
    "import pandas as pd\n",
    "import numpy as np\n",
    "from matplotlib import pyplot as plt\n",
    "import seaborn as sns\n",
    "\n",
    "# Lecture des données\n",
    "## Charger les données ou les lire directement en précisant le chemin\n",
    "path=\"\"\n",
    "ozone=pd.read_csv(path+\"depSeuil.dat\",sep=\",\",header=0)\n",
    "# Vérification du contenu\n",
    "ozone.head()"
   ]
  },
  {
   "cell_type": "markdown",
   "metadata": {},
   "source": [
    "Ce qui suit permet d'affecter le bon type aux variables."
   ]
  },
  {
   "cell_type": "code",
   "execution_count": 2,
   "metadata": {
    "ExecuteTime": {
     "end_time": "2019-11-18T09:19:10.784429Z",
     "start_time": "2019-11-18T09:19:10.762200Z"
    },
    "tags": []
   },
   "outputs": [
    {
     "data": {
      "text/plain": [
       "JOUR       category\n",
       "O3obs       float64\n",
       "MOCAGE      float64\n",
       "TEMPE       float64\n",
       "RMH2O       float64\n",
       "NO2         float64\n",
       "NO          float64\n",
       "STATION    category\n",
       "VentMOD     float64\n",
       "VentANG     float64\n",
       "dtype: object"
      ]
     },
     "execution_count": 2,
     "metadata": {},
     "output_type": "execute_result"
    }
   ],
   "source": [
    "ozone[\"STATION\"]=pd.Categorical(ozone[\"STATION\"],ordered=False)\n",
    "ozone[\"JOUR\"]=pd.Categorical(ozone[\"JOUR\"],ordered=False)\n",
    "ozone[\"O3obs\"]=pd.DataFrame(ozone[\"O3obs\"], dtype=float)\n",
    "ozone.dtypes"
   ]
  },
  {
   "cell_type": "code",
   "execution_count": 3,
   "metadata": {
    "ExecuteTime": {
     "end_time": "2019-11-18T09:19:10.823473Z",
     "start_time": "2019-11-18T09:19:10.787257Z"
    },
    "tags": []
   },
   "outputs": [
    {
     "data": {
      "text/html": [
       "<div>\n",
       "<style scoped>\n",
       "    .dataframe tbody tr th:only-of-type {\n",
       "        vertical-align: middle;\n",
       "    }\n",
       "\n",
       "    .dataframe tbody tr th {\n",
       "        vertical-align: top;\n",
       "    }\n",
       "\n",
       "    .dataframe thead th {\n",
       "        text-align: right;\n",
       "    }\n",
       "</style>\n",
       "<table border=\"1\" class=\"dataframe\">\n",
       "  <thead>\n",
       "    <tr style=\"text-align: right;\">\n",
       "      <th></th>\n",
       "      <th>O3obs</th>\n",
       "      <th>MOCAGE</th>\n",
       "      <th>TEMPE</th>\n",
       "      <th>RMH2O</th>\n",
       "      <th>NO2</th>\n",
       "      <th>NO</th>\n",
       "      <th>VentMOD</th>\n",
       "      <th>VentANG</th>\n",
       "    </tr>\n",
       "  </thead>\n",
       "  <tbody>\n",
       "    <tr>\n",
       "      <th>count</th>\n",
       "      <td>1041.000000</td>\n",
       "      <td>1041.000000</td>\n",
       "      <td>1041.000000</td>\n",
       "      <td>1041.000000</td>\n",
       "      <td>1041.000000</td>\n",
       "      <td>1041.000000</td>\n",
       "      <td>1041.000000</td>\n",
       "      <td>1041.000000</td>\n",
       "    </tr>\n",
       "    <tr>\n",
       "      <th>mean</th>\n",
       "      <td>115.400576</td>\n",
       "      <td>127.219693</td>\n",
       "      <td>23.883381</td>\n",
       "      <td>0.010251</td>\n",
       "      <td>3.504645</td>\n",
       "      <td>0.657417</td>\n",
       "      <td>5.907186</td>\n",
       "      <td>0.163111</td>\n",
       "    </tr>\n",
       "    <tr>\n",
       "      <th>std</th>\n",
       "      <td>40.999155</td>\n",
       "      <td>39.820186</td>\n",
       "      <td>5.217462</td>\n",
       "      <td>0.003731</td>\n",
       "      <td>4.043308</td>\n",
       "      <td>0.844180</td>\n",
       "      <td>3.054307</td>\n",
       "      <td>0.708288</td>\n",
       "    </tr>\n",
       "    <tr>\n",
       "      <th>min</th>\n",
       "      <td>19.000000</td>\n",
       "      <td>46.400000</td>\n",
       "      <td>10.400000</td>\n",
       "      <td>0.002850</td>\n",
       "      <td>0.258000</td>\n",
       "      <td>0.001000</td>\n",
       "      <td>0.141420</td>\n",
       "      <td>-1.570790</td>\n",
       "    </tr>\n",
       "    <tr>\n",
       "      <th>25%</th>\n",
       "      <td>87.000000</td>\n",
       "      <td>97.500000</td>\n",
       "      <td>20.200000</td>\n",
       "      <td>0.007630</td>\n",
       "      <td>1.248000</td>\n",
       "      <td>0.236000</td>\n",
       "      <td>3.962320</td>\n",
       "      <td>-0.394790</td>\n",
       "    </tr>\n",
       "    <tr>\n",
       "      <th>50%</th>\n",
       "      <td>109.000000</td>\n",
       "      <td>125.600000</td>\n",
       "      <td>23.800000</td>\n",
       "      <td>0.009850</td>\n",
       "      <td>2.109000</td>\n",
       "      <td>0.388000</td>\n",
       "      <td>5.597300</td>\n",
       "      <td>0.278300</td>\n",
       "    </tr>\n",
       "    <tr>\n",
       "      <th>75%</th>\n",
       "      <td>135.000000</td>\n",
       "      <td>153.600000</td>\n",
       "      <td>27.600000</td>\n",
       "      <td>0.012440</td>\n",
       "      <td>4.062000</td>\n",
       "      <td>0.744000</td>\n",
       "      <td>7.106300</td>\n",
       "      <td>0.692640</td>\n",
       "    </tr>\n",
       "    <tr>\n",
       "      <th>max</th>\n",
       "      <td>319.000000</td>\n",
       "      <td>284.700000</td>\n",
       "      <td>38.000000</td>\n",
       "      <td>0.027530</td>\n",
       "      <td>44.396000</td>\n",
       "      <td>9.429000</td>\n",
       "      <td>19.891000</td>\n",
       "      <td>1.570790</td>\n",
       "    </tr>\n",
       "  </tbody>\n",
       "</table>\n",
       "</div>"
      ],
      "text/plain": [
       "             O3obs       MOCAGE        TEMPE        RMH2O          NO2  \\\n",
       "count  1041.000000  1041.000000  1041.000000  1041.000000  1041.000000   \n",
       "mean    115.400576   127.219693    23.883381     0.010251     3.504645   \n",
       "std      40.999155    39.820186     5.217462     0.003731     4.043308   \n",
       "min      19.000000    46.400000    10.400000     0.002850     0.258000   \n",
       "25%      87.000000    97.500000    20.200000     0.007630     1.248000   \n",
       "50%     109.000000   125.600000    23.800000     0.009850     2.109000   \n",
       "75%     135.000000   153.600000    27.600000     0.012440     4.062000   \n",
       "max     319.000000   284.700000    38.000000     0.027530    44.396000   \n",
       "\n",
       "                NO      VentMOD      VentANG  \n",
       "count  1041.000000  1041.000000  1041.000000  \n",
       "mean      0.657417     5.907186     0.163111  \n",
       "std       0.844180     3.054307     0.708288  \n",
       "min       0.001000     0.141420    -1.570790  \n",
       "25%       0.236000     3.962320    -0.394790  \n",
       "50%       0.388000     5.597300     0.278300  \n",
       "75%       0.744000     7.106300     0.692640  \n",
       "max       9.429000    19.891000     1.570790  "
      ]
     },
     "execution_count": 3,
     "metadata": {},
     "output_type": "execute_result"
    }
   ],
   "source": [
    "ozone.describe()"
   ]
  },
  {
   "cell_type": "markdown",
   "metadata": {},
   "source": [
    "### Transformations des données"
   ]
  },
  {
   "cell_type": "code",
   "execution_count": 4,
   "metadata": {
    "ExecuteTime": {
     "end_time": "2019-11-18T09:19:11.275823Z",
     "start_time": "2019-11-18T09:19:11.264575Z"
    },
    "tags": []
   },
   "outputs": [],
   "source": [
    "from math import sqrt, log\n",
    "ozone[\"SRMH2O\"]=ozone[\"RMH2O\"].map(lambda x: sqrt(x))\n",
    "ozone[\"LNO2\"]=ozone[\"NO2\"].map(lambda x: log(x))\n",
    "ozone[\"LNO\"]=ozone[\"NO\"].map(lambda x: log(x))\n",
    "del ozone[\"RMH2O\"]\n",
    "del ozone[\"NO2\"]\n",
    "del ozone[\"NO\"]\n"
   ]
  },
  {
   "cell_type": "code",
   "execution_count": 5,
   "metadata": {
    "ExecuteTime": {
     "end_time": "2019-11-18T09:19:11.297416Z",
     "start_time": "2019-11-18T09:19:11.279311Z"
    },
    "tags": []
   },
   "outputs": [
    {
     "data": {
      "text/html": [
       "<div>\n",
       "<style scoped>\n",
       "    .dataframe tbody tr th:only-of-type {\n",
       "        vertical-align: middle;\n",
       "    }\n",
       "\n",
       "    .dataframe tbody tr th {\n",
       "        vertical-align: top;\n",
       "    }\n",
       "\n",
       "    .dataframe thead th {\n",
       "        text-align: right;\n",
       "    }\n",
       "</style>\n",
       "<table border=\"1\" class=\"dataframe\">\n",
       "  <thead>\n",
       "    <tr style=\"text-align: right;\">\n",
       "      <th></th>\n",
       "      <th>JOUR</th>\n",
       "      <th>O3obs</th>\n",
       "      <th>MOCAGE</th>\n",
       "      <th>TEMPE</th>\n",
       "      <th>STATION</th>\n",
       "      <th>VentMOD</th>\n",
       "      <th>VentANG</th>\n",
       "      <th>SRMH2O</th>\n",
       "      <th>LNO2</th>\n",
       "      <th>LNO</th>\n",
       "      <th>DepSeuil</th>\n",
       "    </tr>\n",
       "  </thead>\n",
       "  <tbody>\n",
       "    <tr>\n",
       "      <th>0</th>\n",
       "      <td>1</td>\n",
       "      <td>91.0</td>\n",
       "      <td>93.2</td>\n",
       "      <td>21.5</td>\n",
       "      <td>Aix</td>\n",
       "      <td>9.5000</td>\n",
       "      <td>-0.64350</td>\n",
       "      <td>0.092033</td>\n",
       "      <td>0.471253</td>\n",
       "      <td>-0.858022</td>\n",
       "      <td>False</td>\n",
       "    </tr>\n",
       "    <tr>\n",
       "      <th>1</th>\n",
       "      <td>1</td>\n",
       "      <td>100.0</td>\n",
       "      <td>104.6</td>\n",
       "      <td>20.2</td>\n",
       "      <td>Aix</td>\n",
       "      <td>8.0100</td>\n",
       "      <td>-0.04996</td>\n",
       "      <td>0.093862</td>\n",
       "      <td>0.751888</td>\n",
       "      <td>-0.632993</td>\n",
       "      <td>False</td>\n",
       "    </tr>\n",
       "    <tr>\n",
       "      <th>2</th>\n",
       "      <td>0</td>\n",
       "      <td>82.0</td>\n",
       "      <td>103.6</td>\n",
       "      <td>17.4</td>\n",
       "      <td>Aix</td>\n",
       "      <td>9.3771</td>\n",
       "      <td>-0.12832</td>\n",
       "      <td>0.097519</td>\n",
       "      <td>0.505009</td>\n",
       "      <td>-0.761426</td>\n",
       "      <td>False</td>\n",
       "    </tr>\n",
       "    <tr>\n",
       "      <th>3</th>\n",
       "      <td>0</td>\n",
       "      <td>94.0</td>\n",
       "      <td>94.8</td>\n",
       "      <td>18.8</td>\n",
       "      <td>Aix</td>\n",
       "      <td>9.4578</td>\n",
       "      <td>-0.34516</td>\n",
       "      <td>0.092466</td>\n",
       "      <td>0.854415</td>\n",
       "      <td>-0.355247</td>\n",
       "      <td>False</td>\n",
       "    </tr>\n",
       "    <tr>\n",
       "      <th>4</th>\n",
       "      <td>0</td>\n",
       "      <td>107.0</td>\n",
       "      <td>99.0</td>\n",
       "      <td>23.7</td>\n",
       "      <td>Aix</td>\n",
       "      <td>7.8791</td>\n",
       "      <td>-0.41822</td>\n",
       "      <td>0.085499</td>\n",
       "      <td>0.502592</td>\n",
       "      <td>-0.794073</td>\n",
       "      <td>False</td>\n",
       "    </tr>\n",
       "  </tbody>\n",
       "</table>\n",
       "</div>"
      ],
      "text/plain": [
       "  JOUR  O3obs  MOCAGE  TEMPE STATION  VentMOD  VentANG    SRMH2O      LNO2  \\\n",
       "0    1   91.0    93.2   21.5     Aix   9.5000 -0.64350  0.092033  0.471253   \n",
       "1    1  100.0   104.6   20.2     Aix   8.0100 -0.04996  0.093862  0.751888   \n",
       "2    0   82.0   103.6   17.4     Aix   9.3771 -0.12832  0.097519  0.505009   \n",
       "3    0   94.0    94.8   18.8     Aix   9.4578 -0.34516  0.092466  0.854415   \n",
       "4    0  107.0    99.0   23.7     Aix   7.8791 -0.41822  0.085499  0.502592   \n",
       "\n",
       "        LNO  DepSeuil  \n",
       "0 -0.858022     False  \n",
       "1 -0.632993     False  \n",
       "2 -0.761426     False  \n",
       "3 -0.355247     False  \n",
       "4 -0.794073     False  "
      ]
     },
     "execution_count": 5,
     "metadata": {},
     "output_type": "execute_result"
    }
   ],
   "source": [
    "ozone[\"DepSeuil\"]=ozone[\"O3obs\"].map(lambda x: x > 150)\n",
    "ozone.head()"
   ]
  },
  {
   "cell_type": "code",
   "execution_count": 6,
   "metadata": {
    "tags": []
   },
   "outputs": [],
   "source": [
    "# variable à expliquer binaire\n",
    "Yb=ozone[\"DepSeuil\"].map(lambda x: int(x))\n"
   ]
  },
  {
   "cell_type": "markdown",
   "metadata": {},
   "source": [
    "### Séparation des variables quantitatives et qualitatives"
   ]
  },
  {
   "cell_type": "code",
   "execution_count": 7,
   "metadata": {
    "ExecuteTime": {
     "end_time": "2019-11-18T09:19:20.610161Z",
     "start_time": "2019-11-18T09:19:20.594438Z"
    },
    "tags": []
   },
   "outputs": [
    {
     "data": {
      "text/html": [
       "<div>\n",
       "<style scoped>\n",
       "    .dataframe tbody tr th:only-of-type {\n",
       "        vertical-align: middle;\n",
       "    }\n",
       "\n",
       "    .dataframe tbody tr th {\n",
       "        vertical-align: top;\n",
       "    }\n",
       "\n",
       "    .dataframe thead th {\n",
       "        text-align: right;\n",
       "    }\n",
       "</style>\n",
       "<table border=\"1\" class=\"dataframe\">\n",
       "  <thead>\n",
       "    <tr style=\"text-align: right;\">\n",
       "      <th></th>\n",
       "      <th>JOUR</th>\n",
       "      <th>O3obs</th>\n",
       "      <th>MOCAGE</th>\n",
       "      <th>TEMPE</th>\n",
       "      <th>STATION</th>\n",
       "      <th>VentMOD</th>\n",
       "      <th>VentANG</th>\n",
       "      <th>SRMH2O</th>\n",
       "      <th>LNO2</th>\n",
       "      <th>LNO</th>\n",
       "      <th>DepSeuil</th>\n",
       "    </tr>\n",
       "  </thead>\n",
       "  <tbody>\n",
       "    <tr>\n",
       "      <th>0</th>\n",
       "      <td>1</td>\n",
       "      <td>91.0</td>\n",
       "      <td>93.2</td>\n",
       "      <td>21.5</td>\n",
       "      <td>Aix</td>\n",
       "      <td>9.5000</td>\n",
       "      <td>-0.64350</td>\n",
       "      <td>0.092033</td>\n",
       "      <td>0.471253</td>\n",
       "      <td>-0.858022</td>\n",
       "      <td>False</td>\n",
       "    </tr>\n",
       "    <tr>\n",
       "      <th>1</th>\n",
       "      <td>1</td>\n",
       "      <td>100.0</td>\n",
       "      <td>104.6</td>\n",
       "      <td>20.2</td>\n",
       "      <td>Aix</td>\n",
       "      <td>8.0100</td>\n",
       "      <td>-0.04996</td>\n",
       "      <td>0.093862</td>\n",
       "      <td>0.751888</td>\n",
       "      <td>-0.632993</td>\n",
       "      <td>False</td>\n",
       "    </tr>\n",
       "    <tr>\n",
       "      <th>2</th>\n",
       "      <td>0</td>\n",
       "      <td>82.0</td>\n",
       "      <td>103.6</td>\n",
       "      <td>17.4</td>\n",
       "      <td>Aix</td>\n",
       "      <td>9.3771</td>\n",
       "      <td>-0.12832</td>\n",
       "      <td>0.097519</td>\n",
       "      <td>0.505009</td>\n",
       "      <td>-0.761426</td>\n",
       "      <td>False</td>\n",
       "    </tr>\n",
       "    <tr>\n",
       "      <th>3</th>\n",
       "      <td>0</td>\n",
       "      <td>94.0</td>\n",
       "      <td>94.8</td>\n",
       "      <td>18.8</td>\n",
       "      <td>Aix</td>\n",
       "      <td>9.4578</td>\n",
       "      <td>-0.34516</td>\n",
       "      <td>0.092466</td>\n",
       "      <td>0.854415</td>\n",
       "      <td>-0.355247</td>\n",
       "      <td>False</td>\n",
       "    </tr>\n",
       "    <tr>\n",
       "      <th>4</th>\n",
       "      <td>0</td>\n",
       "      <td>107.0</td>\n",
       "      <td>99.0</td>\n",
       "      <td>23.7</td>\n",
       "      <td>Aix</td>\n",
       "      <td>7.8791</td>\n",
       "      <td>-0.41822</td>\n",
       "      <td>0.085499</td>\n",
       "      <td>0.502592</td>\n",
       "      <td>-0.794073</td>\n",
       "      <td>False</td>\n",
       "    </tr>\n",
       "  </tbody>\n",
       "</table>\n",
       "</div>"
      ],
      "text/plain": [
       "  JOUR  O3obs  MOCAGE  TEMPE STATION  VentMOD  VentANG    SRMH2O      LNO2  \\\n",
       "0    1   91.0    93.2   21.5     Aix   9.5000 -0.64350  0.092033  0.471253   \n",
       "1    1  100.0   104.6   20.2     Aix   8.0100 -0.04996  0.093862  0.751888   \n",
       "2    0   82.0   103.6   17.4     Aix   9.3771 -0.12832  0.097519  0.505009   \n",
       "3    0   94.0    94.8   18.8     Aix   9.4578 -0.34516  0.092466  0.854415   \n",
       "4    0  107.0    99.0   23.7     Aix   7.8791 -0.41822  0.085499  0.502592   \n",
       "\n",
       "        LNO  DepSeuil  \n",
       "0 -0.858022     False  \n",
       "1 -0.632993     False  \n",
       "2 -0.761426     False  \n",
       "3 -0.355247     False  \n",
       "4 -0.794073     False  "
      ]
     },
     "execution_count": 7,
     "metadata": {},
     "output_type": "execute_result"
    }
   ],
   "source": [
    "ozone.head()"
   ]
  },
  {
   "cell_type": "code",
   "execution_count": 8,
   "metadata": {
    "ExecuteTime": {
     "end_time": "2019-11-18T09:19:20.645052Z",
     "start_time": "2019-11-18T09:19:20.611990Z"
    },
    "tags": []
   },
   "outputs": [
    {
     "data": {
      "text/html": [
       "<div>\n",
       "<style scoped>\n",
       "    .dataframe tbody tr th:only-of-type {\n",
       "        vertical-align: middle;\n",
       "    }\n",
       "\n",
       "    .dataframe tbody tr th {\n",
       "        vertical-align: top;\n",
       "    }\n",
       "\n",
       "    .dataframe thead th {\n",
       "        text-align: right;\n",
       "    }\n",
       "</style>\n",
       "<table border=\"1\" class=\"dataframe\">\n",
       "  <thead>\n",
       "    <tr style=\"text-align: right;\">\n",
       "      <th></th>\n",
       "      <th>JOUR_1</th>\n",
       "      <th>STATION_Aix</th>\n",
       "      <th>STATION_Als</th>\n",
       "      <th>STATION_Cad</th>\n",
       "      <th>STATION_Pla</th>\n",
       "      <th>STATION_Ram</th>\n",
       "      <th>MOCAGE</th>\n",
       "      <th>TEMPE</th>\n",
       "      <th>VentMOD</th>\n",
       "      <th>VentANG</th>\n",
       "      <th>SRMH2O</th>\n",
       "      <th>LNO2</th>\n",
       "      <th>LNO</th>\n",
       "    </tr>\n",
       "  </thead>\n",
       "  <tbody>\n",
       "    <tr>\n",
       "      <th>0</th>\n",
       "      <td>1</td>\n",
       "      <td>1</td>\n",
       "      <td>0</td>\n",
       "      <td>0</td>\n",
       "      <td>0</td>\n",
       "      <td>0</td>\n",
       "      <td>93.2</td>\n",
       "      <td>21.5</td>\n",
       "      <td>9.5000</td>\n",
       "      <td>-0.64350</td>\n",
       "      <td>0.092033</td>\n",
       "      <td>0.471253</td>\n",
       "      <td>-0.858022</td>\n",
       "    </tr>\n",
       "    <tr>\n",
       "      <th>1</th>\n",
       "      <td>1</td>\n",
       "      <td>1</td>\n",
       "      <td>0</td>\n",
       "      <td>0</td>\n",
       "      <td>0</td>\n",
       "      <td>0</td>\n",
       "      <td>104.6</td>\n",
       "      <td>20.2</td>\n",
       "      <td>8.0100</td>\n",
       "      <td>-0.04996</td>\n",
       "      <td>0.093862</td>\n",
       "      <td>0.751888</td>\n",
       "      <td>-0.632993</td>\n",
       "    </tr>\n",
       "    <tr>\n",
       "      <th>2</th>\n",
       "      <td>0</td>\n",
       "      <td>1</td>\n",
       "      <td>0</td>\n",
       "      <td>0</td>\n",
       "      <td>0</td>\n",
       "      <td>0</td>\n",
       "      <td>103.6</td>\n",
       "      <td>17.4</td>\n",
       "      <td>9.3771</td>\n",
       "      <td>-0.12832</td>\n",
       "      <td>0.097519</td>\n",
       "      <td>0.505009</td>\n",
       "      <td>-0.761426</td>\n",
       "    </tr>\n",
       "    <tr>\n",
       "      <th>3</th>\n",
       "      <td>0</td>\n",
       "      <td>1</td>\n",
       "      <td>0</td>\n",
       "      <td>0</td>\n",
       "      <td>0</td>\n",
       "      <td>0</td>\n",
       "      <td>94.8</td>\n",
       "      <td>18.8</td>\n",
       "      <td>9.4578</td>\n",
       "      <td>-0.34516</td>\n",
       "      <td>0.092466</td>\n",
       "      <td>0.854415</td>\n",
       "      <td>-0.355247</td>\n",
       "    </tr>\n",
       "    <tr>\n",
       "      <th>4</th>\n",
       "      <td>0</td>\n",
       "      <td>1</td>\n",
       "      <td>0</td>\n",
       "      <td>0</td>\n",
       "      <td>0</td>\n",
       "      <td>0</td>\n",
       "      <td>99.0</td>\n",
       "      <td>23.7</td>\n",
       "      <td>7.8791</td>\n",
       "      <td>-0.41822</td>\n",
       "      <td>0.085499</td>\n",
       "      <td>0.502592</td>\n",
       "      <td>-0.794073</td>\n",
       "    </tr>\n",
       "  </tbody>\n",
       "</table>\n",
       "</div>"
      ],
      "text/plain": [
       "   JOUR_1  STATION_Aix  STATION_Als  STATION_Cad  STATION_Pla  STATION_Ram  \\\n",
       "0       1            1            0            0            0            0   \n",
       "1       1            1            0            0            0            0   \n",
       "2       0            1            0            0            0            0   \n",
       "3       0            1            0            0            0            0   \n",
       "4       0            1            0            0            0            0   \n",
       "\n",
       "   MOCAGE  TEMPE  VentMOD  VentANG    SRMH2O      LNO2       LNO  \n",
       "0    93.2   21.5   9.5000 -0.64350  0.092033  0.471253 -0.858022  \n",
       "1   104.6   20.2   8.0100 -0.04996  0.093862  0.751888 -0.632993  \n",
       "2   103.6   17.4   9.3771 -0.12832  0.097519  0.505009 -0.761426  \n",
       "3    94.8   18.8   9.4578 -0.34516  0.092466  0.854415 -0.355247  \n",
       "4    99.0   23.7   7.8791 -0.41822  0.085499  0.502592 -0.794073  "
      ]
     },
     "execution_count": 8,
     "metadata": {},
     "output_type": "execute_result"
    }
   ],
   "source": [
    "# Variables explicatives\n",
    "# On transforme les variables qualitatives en paquets d'indicatrice pour la phase d'apprentissage.\n",
    "\n",
    "ozoneDum=pd.get_dummies(ozone[[\"JOUR\",\"STATION\"]])\n",
    "del ozoneDum[\"JOUR_0\"]\n",
    "ozoneQuant=ozone[[\"MOCAGE\",\"TEMPE\",\"VentMOD\",\"VentANG\",\"SRMH2O\",\"LNO2\",\"LNO\"]]\n",
    "\n",
    "dfC=pd.concat([ozoneDum,ozoneQuant],axis=1)\n",
    "dfC.head()"
   ]
  },
  {
   "cell_type": "code",
   "execution_count": 9,
   "metadata": {
    "tags": []
   },
   "outputs": [
    {
     "data": {
      "text/html": [
       "<div>\n",
       "<style scoped>\n",
       "    .dataframe tbody tr th:only-of-type {\n",
       "        vertical-align: middle;\n",
       "    }\n",
       "\n",
       "    .dataframe tbody tr th {\n",
       "        vertical-align: top;\n",
       "    }\n",
       "\n",
       "    .dataframe thead th {\n",
       "        text-align: right;\n",
       "    }\n",
       "</style>\n",
       "<table border=\"1\" class=\"dataframe\">\n",
       "  <thead>\n",
       "    <tr style=\"text-align: right;\">\n",
       "      <th></th>\n",
       "      <th>MOCAGE</th>\n",
       "      <th>TEMPE</th>\n",
       "      <th>VentMOD</th>\n",
       "      <th>VentANG</th>\n",
       "      <th>SRMH2O</th>\n",
       "      <th>LNO2</th>\n",
       "      <th>LNO</th>\n",
       "    </tr>\n",
       "  </thead>\n",
       "  <tbody>\n",
       "    <tr>\n",
       "      <th>0</th>\n",
       "      <td>93.2</td>\n",
       "      <td>21.5</td>\n",
       "      <td>9.5000</td>\n",
       "      <td>-0.64350</td>\n",
       "      <td>0.092033</td>\n",
       "      <td>0.471253</td>\n",
       "      <td>-0.858022</td>\n",
       "    </tr>\n",
       "    <tr>\n",
       "      <th>1</th>\n",
       "      <td>104.6</td>\n",
       "      <td>20.2</td>\n",
       "      <td>8.0100</td>\n",
       "      <td>-0.04996</td>\n",
       "      <td>0.093862</td>\n",
       "      <td>0.751888</td>\n",
       "      <td>-0.632993</td>\n",
       "    </tr>\n",
       "    <tr>\n",
       "      <th>2</th>\n",
       "      <td>103.6</td>\n",
       "      <td>17.4</td>\n",
       "      <td>9.3771</td>\n",
       "      <td>-0.12832</td>\n",
       "      <td>0.097519</td>\n",
       "      <td>0.505009</td>\n",
       "      <td>-0.761426</td>\n",
       "    </tr>\n",
       "    <tr>\n",
       "      <th>3</th>\n",
       "      <td>94.8</td>\n",
       "      <td>18.8</td>\n",
       "      <td>9.4578</td>\n",
       "      <td>-0.34516</td>\n",
       "      <td>0.092466</td>\n",
       "      <td>0.854415</td>\n",
       "      <td>-0.355247</td>\n",
       "    </tr>\n",
       "    <tr>\n",
       "      <th>4</th>\n",
       "      <td>99.0</td>\n",
       "      <td>23.7</td>\n",
       "      <td>7.8791</td>\n",
       "      <td>-0.41822</td>\n",
       "      <td>0.085499</td>\n",
       "      <td>0.502592</td>\n",
       "      <td>-0.794073</td>\n",
       "    </tr>\n",
       "  </tbody>\n",
       "</table>\n",
       "</div>"
      ],
      "text/plain": [
       "   MOCAGE  TEMPE  VentMOD  VentANG    SRMH2O      LNO2       LNO\n",
       "0    93.2   21.5   9.5000 -0.64350  0.092033  0.471253 -0.858022\n",
       "1   104.6   20.2   8.0100 -0.04996  0.093862  0.751888 -0.632993\n",
       "2   103.6   17.4   9.3771 -0.12832  0.097519  0.505009 -0.761426\n",
       "3    94.8   18.8   9.4578 -0.34516  0.092466  0.854415 -0.355247\n",
       "4    99.0   23.7   7.8791 -0.41822  0.085499  0.502592 -0.794073"
      ]
     },
     "execution_count": 9,
     "metadata": {},
     "output_type": "execute_result"
    }
   ],
   "source": [
    "ozoneQuant.head()"
   ]
  },
  {
   "cell_type": "markdown",
   "metadata": {},
   "source": [
    "## [Gestion des données manquantes](http://wikistat.fr/pdf/st-m-app-idm.pdf)\n",
    "Les vraies données sont le plus souvent mitées par l'absence de données, conséquences d'erreurs de saisie, de pannes de capteurs... Les librairies de Python (`pandas`) offrent des choix rudimentaires pour faire des imputations de données manquantes quand celles-ci le sont de façon complètement aléatoire. \n",
    "\n",
    "Le calepin R d'analyse de ces mêmes données propose une comparaison assez détaillée de deux stratégiées afin d'évaluer leurs performances respectives. \n",
    "\n",
    "La **première stratégie** commence par imputer les données manquantes en les prévoyant par l'algorithme `missForest`. Une fois les données manquantes imputées, on utilise les forêts aléatoires pour construire un algorithme de prédiction du dépassement du seuil.\n",
    "\n",
    "La **deuxième stratégie** évite l'étape d'imputation en exécutant directement un algorithme de prévision tolérant des données manquantes. Peu le font, c'est le cas de `XGBoost`.\n",
    "\n",
    "Sur ces données, mais sans gros effort d'optimisation de `XGBoost`, la première stratégie enchaînant `missForest` puis `randomForest` conduit à de meilleurs résultats. Seule celle-ci est employée dans ce calepin mais, bien évidemment, l'exécution de `xgboost` sans imputation préalable est une option également possible en Python.\n",
    "\n",
    "Bien moins de méthodes sont proposées en Python, `Scikit-learn` ne proposant que des imputations basiques par la moyenne ou la médiane comme dans `pandas`. Néanmoins une imputation par prévision utilisant *k*-nn,  ou des forêts aléatoires (Missforest) est disponible dans la librairie `sklearn.impute`. Le souci est que Python ne gère pas bien les deux types de variables : quantitatives et qualitatives. Pour simplifier dans ce TP, nous allons donc ne considérer des données manquantes que dans les variables quantitatives. \n",
    "\n",
    "Les commandes ci-dessous font appel aux fichiers suivants:\n",
    "- `X` données complètes initiales : **ozoneQuant**\n",
    "- `Xna` les données avec des trous, \n",
    "- `XnaImp` les données avec imputations \n",
    "\n",
    "\n",
    "### Préparation des trous dans `ozone`\n",
    "Les variables explicatives quantitatives de la base `ozone` sont reprises. La première opération consiste à générer aléatoirement un certain taux de données manquantes par la fonction définie ci-dessous."
   ]
  },
  {
   "cell_type": "code",
   "execution_count": 10,
   "metadata": {
    "ExecuteTime": {
     "end_time": "2019-07-03T14:54:34.117257Z",
     "start_time": "2019-07-03T14:54:34.110315Z"
    },
    "tags": []
   },
   "outputs": [],
   "source": [
    "import numpy as np\n",
    "import numpy.ma as ma\n",
    "import random\n",
    "\n",
    "def input_nan(x, tx):\n",
    "    \"\"\"\n",
    "    x : a 2D matrix of float dtype\n",
    "    tx: the rate of nan value to put in the matrix\n",
    "    \"\"\"\n",
    "    n_total = x.shape[0] * x.shape[1]\n",
    "    mask = np.array([random.random() for _ in range(n_total)]).reshape(x.shape)<tx\n",
    "    mx = ma.masked_array(x, mask=mask, fill_value=np.nan)\n",
    "    return mx.filled()"
   ]
  },
  {
   "cell_type": "code",
   "execution_count": 11,
   "metadata": {
    "ExecuteTime": {
     "end_time": "2019-07-03T14:54:35.714762Z",
     "start_time": "2019-07-03T14:54:35.707142Z"
    },
    "tags": []
   },
   "outputs": [
    {
     "data": {
      "text/html": [
       "<div>\n",
       "<style scoped>\n",
       "    .dataframe tbody tr th:only-of-type {\n",
       "        vertical-align: middle;\n",
       "    }\n",
       "\n",
       "    .dataframe tbody tr th {\n",
       "        vertical-align: top;\n",
       "    }\n",
       "\n",
       "    .dataframe thead th {\n",
       "        text-align: right;\n",
       "    }\n",
       "</style>\n",
       "<table border=\"1\" class=\"dataframe\">\n",
       "  <thead>\n",
       "    <tr style=\"text-align: right;\">\n",
       "      <th></th>\n",
       "      <th>MOCAGE</th>\n",
       "      <th>TEMPE</th>\n",
       "      <th>VentMOD</th>\n",
       "      <th>VentANG</th>\n",
       "      <th>SRMH2O</th>\n",
       "      <th>LNO2</th>\n",
       "      <th>LNO</th>\n",
       "    </tr>\n",
       "  </thead>\n",
       "  <tbody>\n",
       "    <tr>\n",
       "      <th>0</th>\n",
       "      <td>93.2</td>\n",
       "      <td>21.5</td>\n",
       "      <td>NaN</td>\n",
       "      <td>NaN</td>\n",
       "      <td>0.092033</td>\n",
       "      <td>0.471253</td>\n",
       "      <td>NaN</td>\n",
       "    </tr>\n",
       "    <tr>\n",
       "      <th>1</th>\n",
       "      <td>104.6</td>\n",
       "      <td>NaN</td>\n",
       "      <td>NaN</td>\n",
       "      <td>-0.04996</td>\n",
       "      <td>0.093862</td>\n",
       "      <td>0.751888</td>\n",
       "      <td>-0.632993</td>\n",
       "    </tr>\n",
       "    <tr>\n",
       "      <th>2</th>\n",
       "      <td>103.6</td>\n",
       "      <td>NaN</td>\n",
       "      <td>9.3771</td>\n",
       "      <td>NaN</td>\n",
       "      <td>0.097519</td>\n",
       "      <td>0.505009</td>\n",
       "      <td>NaN</td>\n",
       "    </tr>\n",
       "    <tr>\n",
       "      <th>3</th>\n",
       "      <td>94.8</td>\n",
       "      <td>18.8</td>\n",
       "      <td>NaN</td>\n",
       "      <td>NaN</td>\n",
       "      <td>0.092466</td>\n",
       "      <td>0.854415</td>\n",
       "      <td>NaN</td>\n",
       "    </tr>\n",
       "    <tr>\n",
       "      <th>4</th>\n",
       "      <td>99.0</td>\n",
       "      <td>NaN</td>\n",
       "      <td>NaN</td>\n",
       "      <td>NaN</td>\n",
       "      <td>0.085499</td>\n",
       "      <td>0.502592</td>\n",
       "      <td>-0.794073</td>\n",
       "    </tr>\n",
       "  </tbody>\n",
       "</table>\n",
       "</div>"
      ],
      "text/plain": [
       "   MOCAGE  TEMPE  VentMOD  VentANG    SRMH2O      LNO2       LNO\n",
       "0    93.2   21.5      NaN      NaN  0.092033  0.471253       NaN\n",
       "1   104.6    NaN      NaN -0.04996  0.093862  0.751888 -0.632993\n",
       "2   103.6    NaN   9.3771      NaN  0.097519  0.505009       NaN\n",
       "3    94.8   18.8      NaN      NaN  0.092466  0.854415       NaN\n",
       "4    99.0    NaN      NaN      NaN  0.085499  0.502592 -0.794073"
      ]
     },
     "execution_count": 11,
     "metadata": {},
     "output_type": "execute_result"
    }
   ],
   "source": [
    "# données initiales \n",
    "X=ozoneQuant \n",
    "# Génération de 30% de valeurs manquantes\n",
    "Xna=input_nan(X, .3)\n",
    "\n",
    "Xna_df = pd.DataFrame(Xna, columns=ozoneQuant.columns)\n",
    "\n",
    "Xna_df.head()"
   ]
  },
  {
   "cell_type": "markdown",
   "metadata": {},
   "source": [
    "### Visualisation des données manquantes"
   ]
  },
  {
   "cell_type": "code",
   "execution_count": 12,
   "metadata": {
    "tags": []
   },
   "outputs": [
    {
     "data": {
      "text/plain": [
       "MOCAGE     0.263208\n",
       "TEMPE      0.304515\n",
       "VentMOD    0.292988\n",
       "VentANG    0.286263\n",
       "SRMH2O     0.301633\n",
       "LNO2       0.291066\n",
       "LNO        0.309318\n",
       "dtype: float64"
      ]
     },
     "execution_count": 12,
     "metadata": {},
     "output_type": "execute_result"
    }
   ],
   "source": [
    "nrows = len(Xna)\n",
    "missing_rates = 1-Xna_df.count(axis=0)/nrows\n",
    "missing_rates"
   ]
  },
  {
   "cell_type": "code",
   "execution_count": 13,
   "metadata": {
    "scrolled": true,
    "tags": []
   },
   "outputs": [
    {
     "data": {
      "text/plain": [
       "<Axes: >"
      ]
     },
     "execution_count": 13,
     "metadata": {},
     "output_type": "execute_result"
    },
    {
     "data": {
      "image/png": "[encoded data removed]",
      "text/plain": [
       "<Figure size 640x480 with 1 Axes>"
      ]
     },
     "metadata": {},
     "output_type": "display_data"
    }
   ],
   "source": [
    "missing_rates.plot.bar()"
   ]
  },
  {
   "cell_type": "markdown",
   "metadata": {},
   "source": [
    "## Imputation  des données manquantes\n",
    "\n",
    "### Imputation simple"
   ]
  },
  {
   "cell_type": "code",
   "execution_count": 14,
   "metadata": {
    "tags": []
   },
   "outputs": [],
   "source": [
    "from sklearn.impute import SimpleImputer\n",
    "\n",
    "X_mean = SimpleImputer().fit_transform(Xna)\n"
   ]
  },
  {
   "cell_type": "markdown",
   "metadata": {},
   "source": [
    "**Question** Regarder quelles sont les options proposées par SimpleImputer. Quelle est l'option par défaut utilisée ci dessus ?"
   ]
  },
  {
   "cell_type": "code",
   "execution_count": 15,
   "metadata": {
    "tags": []
   },
   "outputs": [],
   "source": [
    "X_meanImp=pd.DataFrame(X_mean, columns=ozoneQuant.columns)"
   ]
  },
  {
   "cell_type": "code",
   "execution_count": 16,
   "metadata": {
    "tags": []
   },
   "outputs": [
    {
     "data": {
      "text/html": [
       "<div>\n",
       "<style scoped>\n",
       "    .dataframe tbody tr th:only-of-type {\n",
       "        vertical-align: middle;\n",
       "    }\n",
       "\n",
       "    .dataframe tbody tr th {\n",
       "        vertical-align: top;\n",
       "    }\n",
       "\n",
       "    .dataframe thead th {\n",
       "        text-align: right;\n",
       "    }\n",
       "</style>\n",
       "<table border=\"1\" class=\"dataframe\">\n",
       "  <thead>\n",
       "    <tr style=\"text-align: right;\">\n",
       "      <th></th>\n",
       "      <th>MOCAGE</th>\n",
       "      <th>TEMPE</th>\n",
       "      <th>VentMOD</th>\n",
       "      <th>VentANG</th>\n",
       "      <th>SRMH2O</th>\n",
       "      <th>LNO2</th>\n",
       "      <th>LNO</th>\n",
       "    </tr>\n",
       "  </thead>\n",
       "  <tbody>\n",
       "    <tr>\n",
       "      <th>0</th>\n",
       "      <td>93.2</td>\n",
       "      <td>21.500000</td>\n",
       "      <td>5.893473</td>\n",
       "      <td>0.160272</td>\n",
       "      <td>0.092033</td>\n",
       "      <td>0.471253</td>\n",
       "      <td>-0.844047</td>\n",
       "    </tr>\n",
       "    <tr>\n",
       "      <th>1</th>\n",
       "      <td>104.6</td>\n",
       "      <td>23.877348</td>\n",
       "      <td>5.893473</td>\n",
       "      <td>-0.049960</td>\n",
       "      <td>0.093862</td>\n",
       "      <td>0.751888</td>\n",
       "      <td>-0.632993</td>\n",
       "    </tr>\n",
       "    <tr>\n",
       "      <th>2</th>\n",
       "      <td>103.6</td>\n",
       "      <td>23.877348</td>\n",
       "      <td>9.377100</td>\n",
       "      <td>0.160272</td>\n",
       "      <td>0.097519</td>\n",
       "      <td>0.505009</td>\n",
       "      <td>-0.844047</td>\n",
       "    </tr>\n",
       "    <tr>\n",
       "      <th>3</th>\n",
       "      <td>94.8</td>\n",
       "      <td>18.800000</td>\n",
       "      <td>5.893473</td>\n",
       "      <td>0.160272</td>\n",
       "      <td>0.092466</td>\n",
       "      <td>0.854415</td>\n",
       "      <td>-0.844047</td>\n",
       "    </tr>\n",
       "    <tr>\n",
       "      <th>4</th>\n",
       "      <td>99.0</td>\n",
       "      <td>23.877348</td>\n",
       "      <td>5.893473</td>\n",
       "      <td>0.160272</td>\n",
       "      <td>0.085499</td>\n",
       "      <td>0.502592</td>\n",
       "      <td>-0.794073</td>\n",
       "    </tr>\n",
       "  </tbody>\n",
       "</table>\n",
       "</div>"
      ],
      "text/plain": [
       "   MOCAGE      TEMPE   VentMOD   VentANG    SRMH2O      LNO2       LNO\n",
       "0    93.2  21.500000  5.893473  0.160272  0.092033  0.471253 -0.844047\n",
       "1   104.6  23.877348  5.893473 -0.049960  0.093862  0.751888 -0.632993\n",
       "2   103.6  23.877348  9.377100  0.160272  0.097519  0.505009 -0.844047\n",
       "3    94.8  18.800000  5.893473  0.160272  0.092466  0.854415 -0.844047\n",
       "4    99.0  23.877348  5.893473  0.160272  0.085499  0.502592 -0.794073"
      ]
     },
     "execution_count": 16,
     "metadata": {},
     "output_type": "execute_result"
    }
   ],
   "source": [
    "X_meanImp.head()"
   ]
  },
  {
   "cell_type": "markdown",
   "metadata": {},
   "source": [
    "**Question** Sur la variable 'Température', reprendre l'analyse qui avait été faite en R : boxplot des erreurs d'imputation avec les diverses méthodes (moyenne, médiane, ..)"
   ]
  },
  {
   "cell_type": "markdown",
   "metadata": {},
   "source": [
    "### Imputation avec KNN"
   ]
  },
  {
   "cell_type": "code",
   "execution_count": 17,
   "metadata": {
    "tags": []
   },
   "outputs": [],
   "source": [
    "from sklearn.impute import  KNNImputer\n",
    "knn_imputer = KNNImputer(n_neighbors=5)\n",
    "X_kNN = knn_imputer.fit_transform(Xna)"
   ]
  },
  {
   "cell_type": "code",
   "execution_count": 18,
   "metadata": {
    "tags": []
   },
   "outputs": [],
   "source": [
    "X_kNNImp=pd.DataFrame(X_kNN, columns=ozoneQuant.columns)"
   ]
  },
  {
   "cell_type": "code",
   "execution_count": 19,
   "metadata": {
    "tags": []
   },
   "outputs": [
    {
     "data": {
      "text/html": [
       "<div>\n",
       "<style scoped>\n",
       "    .dataframe tbody tr th:only-of-type {\n",
       "        vertical-align: middle;\n",
       "    }\n",
       "\n",
       "    .dataframe tbody tr th {\n",
       "        vertical-align: top;\n",
       "    }\n",
       "\n",
       "    .dataframe thead th {\n",
       "        text-align: right;\n",
       "    }\n",
       "</style>\n",
       "<table border=\"1\" class=\"dataframe\">\n",
       "  <thead>\n",
       "    <tr style=\"text-align: right;\">\n",
       "      <th></th>\n",
       "      <th>MOCAGE</th>\n",
       "      <th>TEMPE</th>\n",
       "      <th>VentMOD</th>\n",
       "      <th>VentANG</th>\n",
       "      <th>SRMH2O</th>\n",
       "      <th>LNO2</th>\n",
       "      <th>LNO</th>\n",
       "    </tr>\n",
       "  </thead>\n",
       "  <tbody>\n",
       "    <tr>\n",
       "      <th>0</th>\n",
       "      <td>93.2</td>\n",
       "      <td>21.50</td>\n",
       "      <td>6.263104</td>\n",
       "      <td>-0.239562</td>\n",
       "      <td>0.092033</td>\n",
       "      <td>0.471253</td>\n",
       "      <td>-1.224513</td>\n",
       "    </tr>\n",
       "    <tr>\n",
       "      <th>1</th>\n",
       "      <td>104.6</td>\n",
       "      <td>23.46</td>\n",
       "      <td>6.704960</td>\n",
       "      <td>-0.049960</td>\n",
       "      <td>0.093862</td>\n",
       "      <td>0.751888</td>\n",
       "      <td>-0.632993</td>\n",
       "    </tr>\n",
       "    <tr>\n",
       "      <th>2</th>\n",
       "      <td>103.6</td>\n",
       "      <td>27.16</td>\n",
       "      <td>9.377100</td>\n",
       "      <td>-0.305544</td>\n",
       "      <td>0.097519</td>\n",
       "      <td>0.505009</td>\n",
       "      <td>-1.010223</td>\n",
       "    </tr>\n",
       "    <tr>\n",
       "      <th>3</th>\n",
       "      <td>94.8</td>\n",
       "      <td>18.80</td>\n",
       "      <td>6.263104</td>\n",
       "      <td>0.101684</td>\n",
       "      <td>0.092466</td>\n",
       "      <td>0.854415</td>\n",
       "      <td>-0.964573</td>\n",
       "    </tr>\n",
       "    <tr>\n",
       "      <th>4</th>\n",
       "      <td>99.0</td>\n",
       "      <td>22.78</td>\n",
       "      <td>7.592966</td>\n",
       "      <td>-0.177184</td>\n",
       "      <td>0.085499</td>\n",
       "      <td>0.502592</td>\n",
       "      <td>-0.794073</td>\n",
       "    </tr>\n",
       "  </tbody>\n",
       "</table>\n",
       "</div>"
      ],
      "text/plain": [
       "   MOCAGE  TEMPE   VentMOD   VentANG    SRMH2O      LNO2       LNO\n",
       "0    93.2  21.50  6.263104 -0.239562  0.092033  0.471253 -1.224513\n",
       "1   104.6  23.46  6.704960 -0.049960  0.093862  0.751888 -0.632993\n",
       "2   103.6  27.16  9.377100 -0.305544  0.097519  0.505009 -1.010223\n",
       "3    94.8  18.80  6.263104  0.101684  0.092466  0.854415 -0.964573\n",
       "4    99.0  22.78  7.592966 -0.177184  0.085499  0.502592 -0.794073"
      ]
     },
     "execution_count": 19,
     "metadata": {},
     "output_type": "execute_result"
    }
   ],
   "source": [
    "X_kNNImp.head()"
   ]
  },
  {
   "cell_type": "markdown",
   "metadata": {},
   "source": [
    "### Imputation par `missForest`\n",
    "\n",
    "L'estimateur *ExtraTreesRegressor* entraîne une forêt aléatoire itérative et imite *missForest* dans R. *ExtraTreesRegressor* ajuste un certain nombre d'arbres aléatoires  et calcule la moyenne des résultats. Il provient du module sklearn.ensemble. Ses principaux arguments sont le nombre d'arbres dans la forêt et l'état aléatoire qui permet de contrôler les sources d'aléa.  Regarder l'aide pour plus de précisions."
   ]
  },
  {
   "cell_type": "code",
   "execution_count": 32,
   "metadata": {
    "tags": []
   },
   "outputs": [],
   "source": [
    "from sklearn.experimental import enable_iterative_imputer\n",
    "from sklearn.impute import IterativeImputer\n",
    "from sklearn.ensemble import ExtraTreesRegressor"
   ]
  },
  {
   "cell_type": "code",
   "execution_count": 33,
   "metadata": {
    "tags": []
   },
   "outputs": [
    {
     "name": "stderr",
     "output_type": "stream",
     "text": [
      "/usr/local/insa/anaconda/lib/python3.11/site-packages/sklearn/impute/_iterative.py:785: ConvergenceWarning: [IterativeImputer] Early stopping criterion not reached.\n",
      "  warnings.warn(\n"
     ]
    }
   ],
   "source": [
    "estimator_rf = ExtraTreesRegressor(n_estimators=20, random_state=0)\n",
    "X_rf = IterativeImputer(estimator=estimator_rf, random_state=0, max_iter=300).fit_transform(Xna)\n"
   ]
  },
  {
   "cell_type": "code",
   "execution_count": 24,
   "metadata": {
    "tags": []
   },
   "outputs": [
    {
     "data": {
      "text/html": [
       "<div>\n",
       "<style scoped>\n",
       "    .dataframe tbody tr th:only-of-type {\n",
       "        vertical-align: middle;\n",
       "    }\n",
       "\n",
       "    .dataframe tbody tr th {\n",
       "        vertical-align: top;\n",
       "    }\n",
       "\n",
       "    .dataframe thead th {\n",
       "        text-align: right;\n",
       "    }\n",
       "</style>\n",
       "<table border=\"1\" class=\"dataframe\">\n",
       "  <thead>\n",
       "    <tr style=\"text-align: right;\">\n",
       "      <th></th>\n",
       "      <th>MOCAGE</th>\n",
       "      <th>TEMPE</th>\n",
       "      <th>VentMOD</th>\n",
       "      <th>VentANG</th>\n",
       "      <th>SRMH2O</th>\n",
       "      <th>LNO2</th>\n",
       "      <th>LNO</th>\n",
       "    </tr>\n",
       "  </thead>\n",
       "  <tbody>\n",
       "    <tr>\n",
       "      <th>0</th>\n",
       "      <td>93.2</td>\n",
       "      <td>21.5</td>\n",
       "      <td>9.5000</td>\n",
       "      <td>-0.64350</td>\n",
       "      <td>0.092033</td>\n",
       "      <td>0.471253</td>\n",
       "      <td>-0.858022</td>\n",
       "    </tr>\n",
       "    <tr>\n",
       "      <th>1</th>\n",
       "      <td>104.6</td>\n",
       "      <td>20.2</td>\n",
       "      <td>8.0100</td>\n",
       "      <td>-0.04996</td>\n",
       "      <td>0.093862</td>\n",
       "      <td>0.751888</td>\n",
       "      <td>-0.632993</td>\n",
       "    </tr>\n",
       "    <tr>\n",
       "      <th>2</th>\n",
       "      <td>103.6</td>\n",
       "      <td>17.4</td>\n",
       "      <td>9.3771</td>\n",
       "      <td>-0.12832</td>\n",
       "      <td>0.097519</td>\n",
       "      <td>0.505009</td>\n",
       "      <td>-0.761426</td>\n",
       "    </tr>\n",
       "    <tr>\n",
       "      <th>3</th>\n",
       "      <td>94.8</td>\n",
       "      <td>18.8</td>\n",
       "      <td>9.4578</td>\n",
       "      <td>-0.34516</td>\n",
       "      <td>0.092466</td>\n",
       "      <td>0.854415</td>\n",
       "      <td>-0.355247</td>\n",
       "    </tr>\n",
       "    <tr>\n",
       "      <th>4</th>\n",
       "      <td>99.0</td>\n",
       "      <td>23.7</td>\n",
       "      <td>7.8791</td>\n",
       "      <td>-0.41822</td>\n",
       "      <td>0.085499</td>\n",
       "      <td>0.502592</td>\n",
       "      <td>-0.794073</td>\n",
       "    </tr>\n",
       "  </tbody>\n",
       "</table>\n",
       "</div>"
      ],
      "text/plain": [
       "   MOCAGE  TEMPE  VentMOD  VentANG    SRMH2O      LNO2       LNO\n",
       "0    93.2   21.5   9.5000 -0.64350  0.092033  0.471253 -0.858022\n",
       "1   104.6   20.2   8.0100 -0.04996  0.093862  0.751888 -0.632993\n",
       "2   103.6   17.4   9.3771 -0.12832  0.097519  0.505009 -0.761426\n",
       "3    94.8   18.8   9.4578 -0.34516  0.092466  0.854415 -0.355247\n",
       "4    99.0   23.7   7.8791 -0.41822  0.085499  0.502592 -0.794073"
      ]
     },
     "execution_count": 24,
     "metadata": {},
     "output_type": "execute_result"
    }
   ],
   "source": [
    "ozoneQuant.head()"
   ]
  },
  {
   "cell_type": "markdown",
   "metadata": {},
   "source": [
    "## Comparaison des erreurs de prévision par forêt aléatoire\n",
    "Prévision du dépassement d'ozone sans données manquantes et avec données manquantes imputées. Comparaison des erreurs de prévision sur l'échantillon test. Les valeurs par défaut des paramètres sont conservées. \n",
    "### Prévision sans données manquantes"
   ]
  },
  {
   "cell_type": "markdown",
   "metadata": {},
   "source": [
    "Extractions des échantillons d'apprentissage  et test. Comme le générateur est initalisé de façon identique, ce sont les mêmes échantillons dans les deux cas."
   ]
  },
  {
   "cell_type": "code",
   "execution_count": 25,
   "metadata": {
    "tags": []
   },
   "outputs": [],
   "source": [
    "from sklearn.model_selection import train_test_split  \n",
    "X_train,X_test,Yb_train,Yb_test=train_test_split(dfC,Yb,test_size=200,random_state=11)\n"
   ]
  },
  {
   "cell_type": "code",
   "execution_count": 26,
   "metadata": {
    "tags": []
   },
   "outputs": [],
   "source": [
    "from sklearn.preprocessing import StandardScaler  \n",
    "\n",
    "scaler = StandardScaler()  \n",
    "scaler.fit(X_train)  \n",
    "Xr_train = scaler.transform(X_train)  \n",
    "# Meme transformation sur le test\n",
    "Xr_test = scaler.transform(X_test)"
   ]
  },
  {
   "cell_type": "code",
   "execution_count": 27,
   "metadata": {
    "ExecuteTime": {
     "end_time": "2019-07-03T15:09:03.941566Z",
     "start_time": "2019-07-03T15:09:03.362895Z"
    },
    "tags": []
   },
   "outputs": [
    {
     "data": {
      "text/plain": [
       "0.10999999999999999"
      ]
     },
     "execution_count": 27,
     "metadata": {},
     "output_type": "execute_result"
    }
   ],
   "source": [
    "from sklearn.ensemble import RandomForestClassifier \n",
    "# prévision sans trous\n",
    "forest = RandomForestClassifier(n_estimators=500)\n",
    "# apprentissage\n",
    "rfFit = forest.fit(Xr_train,Yb_train)\n",
    "# erreur de prévision\n",
    "# erreur de prévision sur le test\n",
    "1-rfFit.score(Xr_test,Yb_test)"
   ]
  },
  {
   "cell_type": "markdown",
   "metadata": {},
   "source": [
    "### Prévision après imputation des données manquantes"
   ]
  },
  {
   "cell_type": "code",
   "execution_count": 28,
   "metadata": {
    "tags": []
   },
   "outputs": [
    {
     "data": {
      "text/html": [
       "<div>\n",
       "<style scoped>\n",
       "    .dataframe tbody tr th:only-of-type {\n",
       "        vertical-align: middle;\n",
       "    }\n",
       "\n",
       "    .dataframe tbody tr th {\n",
       "        vertical-align: top;\n",
       "    }\n",
       "\n",
       "    .dataframe thead th {\n",
       "        text-align: right;\n",
       "    }\n",
       "</style>\n",
       "<table border=\"1\" class=\"dataframe\">\n",
       "  <thead>\n",
       "    <tr style=\"text-align: right;\">\n",
       "      <th></th>\n",
       "      <th>JOUR_1</th>\n",
       "      <th>STATION_Aix</th>\n",
       "      <th>STATION_Als</th>\n",
       "      <th>STATION_Cad</th>\n",
       "      <th>STATION_Pla</th>\n",
       "      <th>STATION_Ram</th>\n",
       "      <th>MOCAGE</th>\n",
       "      <th>TEMPE</th>\n",
       "      <th>VentMOD</th>\n",
       "      <th>VentANG</th>\n",
       "      <th>SRMH2O</th>\n",
       "      <th>LNO2</th>\n",
       "      <th>LNO</th>\n",
       "    </tr>\n",
       "  </thead>\n",
       "  <tbody>\n",
       "    <tr>\n",
       "      <th>0</th>\n",
       "      <td>1</td>\n",
       "      <td>1</td>\n",
       "      <td>0</td>\n",
       "      <td>0</td>\n",
       "      <td>0</td>\n",
       "      <td>0</td>\n",
       "      <td>93.2</td>\n",
       "      <td>21.500</td>\n",
       "      <td>5.724836</td>\n",
       "      <td>0.015698</td>\n",
       "      <td>0.092033</td>\n",
       "      <td>0.471253</td>\n",
       "      <td>-0.992519</td>\n",
       "    </tr>\n",
       "    <tr>\n",
       "      <th>1</th>\n",
       "      <td>1</td>\n",
       "      <td>1</td>\n",
       "      <td>0</td>\n",
       "      <td>0</td>\n",
       "      <td>0</td>\n",
       "      <td>0</td>\n",
       "      <td>104.6</td>\n",
       "      <td>19.885</td>\n",
       "      <td>5.537961</td>\n",
       "      <td>-0.049960</td>\n",
       "      <td>0.093862</td>\n",
       "      <td>0.751888</td>\n",
       "      <td>-0.632993</td>\n",
       "    </tr>\n",
       "    <tr>\n",
       "      <th>2</th>\n",
       "      <td>0</td>\n",
       "      <td>1</td>\n",
       "      <td>0</td>\n",
       "      <td>0</td>\n",
       "      <td>0</td>\n",
       "      <td>0</td>\n",
       "      <td>103.6</td>\n",
       "      <td>22.870</td>\n",
       "      <td>9.377100</td>\n",
       "      <td>-0.398519</td>\n",
       "      <td>0.097519</td>\n",
       "      <td>0.505009</td>\n",
       "      <td>-1.002856</td>\n",
       "    </tr>\n",
       "    <tr>\n",
       "      <th>3</th>\n",
       "      <td>0</td>\n",
       "      <td>1</td>\n",
       "      <td>0</td>\n",
       "      <td>0</td>\n",
       "      <td>0</td>\n",
       "      <td>0</td>\n",
       "      <td>94.8</td>\n",
       "      <td>18.800</td>\n",
       "      <td>4.593560</td>\n",
       "      <td>0.711467</td>\n",
       "      <td>0.092466</td>\n",
       "      <td>0.854415</td>\n",
       "      <td>-0.725443</td>\n",
       "    </tr>\n",
       "    <tr>\n",
       "      <th>4</th>\n",
       "      <td>0</td>\n",
       "      <td>1</td>\n",
       "      <td>0</td>\n",
       "      <td>0</td>\n",
       "      <td>0</td>\n",
       "      <td>0</td>\n",
       "      <td>99.0</td>\n",
       "      <td>19.970</td>\n",
       "      <td>4.398523</td>\n",
       "      <td>0.717913</td>\n",
       "      <td>0.085499</td>\n",
       "      <td>0.502592</td>\n",
       "      <td>-0.794073</td>\n",
       "    </tr>\n",
       "  </tbody>\n",
       "</table>\n",
       "</div>"
      ],
      "text/plain": [
       "   JOUR_1  STATION_Aix  STATION_Als  STATION_Cad  STATION_Pla  STATION_Ram  \\\n",
       "0       1            1            0            0            0            0   \n",
       "1       1            1            0            0            0            0   \n",
       "2       0            1            0            0            0            0   \n",
       "3       0            1            0            0            0            0   \n",
       "4       0            1            0            0            0            0   \n",
       "\n",
       "   MOCAGE   TEMPE   VentMOD   VentANG    SRMH2O      LNO2       LNO  \n",
       "0    93.2  21.500  5.724836  0.015698  0.092033  0.471253 -0.992519  \n",
       "1   104.6  19.885  5.537961 -0.049960  0.093862  0.751888 -0.632993  \n",
       "2   103.6  22.870  9.377100 -0.398519  0.097519  0.505009 -1.002856  \n",
       "3    94.8  18.800  4.593560  0.711467  0.092466  0.854415 -0.725443  \n",
       "4    99.0  19.970  4.398523  0.717913  0.085499  0.502592 -0.794073  "
      ]
     },
     "execution_count": 28,
     "metadata": {},
     "output_type": "execute_result"
    }
   ],
   "source": [
    "dfCImp=pd.concat([ozoneDum,X_rfImp],axis=1)\n",
    "dfCImp.head()"
   ]
  },
  {
   "cell_type": "code",
   "execution_count": 29,
   "metadata": {
    "tags": []
   },
   "outputs": [],
   "source": [
    "from sklearn.model_selection import train_test_split  \n",
    "XnaImp_train,XnaImp_test,Yb_train,Yb_test=train_test_split(dfCImp,Yb,test_size=200,random_state=11)\n"
   ]
  },
  {
   "cell_type": "code",
   "execution_count": 30,
   "metadata": {
    "tags": []
   },
   "outputs": [],
   "source": [
    "from sklearn.preprocessing import StandardScaler  \n",
    "\n",
    "scaler = StandardScaler()  \n",
    "scaler.fit(X_train)  \n",
    "Xr_train = scaler.transform(XnaImp_train)  \n",
    "# Meme transformation sur le test\n",
    "Xr_test = scaler.transform(XnaImp_test)"
   ]
  },
  {
   "cell_type": "code",
   "execution_count": 31,
   "metadata": {
    "ExecuteTime": {
     "end_time": "2019-07-03T15:09:05.304552Z",
     "start_time": "2019-07-03T15:09:04.733321Z"
    },
    "tags": []
   },
   "outputs": [
    {
     "data": {
      "text/plain": [
       "0.14"
      ]
     },
     "execution_count": 31,
     "metadata": {},
     "output_type": "execute_result"
    }
   ],
   "source": [
    "# prévision avec trous imputés\n",
    "forest = RandomForestClassifier(n_estimators=500)\n",
    "# apprentissage\n",
    "rfFit = forest.fit(XnaImp_train,Yb_train)\n",
    "# erreur de prévision\n",
    "# erreur de prévision sur le test\n",
    "1-rfFit.score(XnaImp_test,Yb_test)"
   ]
  },
  {
   "cell_type": "markdown",
   "metadata": {},
   "source": [
    "**Question** Que dire de la qualité de prévision avec 30% de données manquantes ? Comparer avec ce qui est obtenu pour les autres types d'imputation.\n",
    "\n",
    "Faites varier ce taux et étudiez la dégradation de la prévision.\n",
    "\n",
    "\n"
   ]
  },
  {
   "cell_type": "code",
   "execution_count": 23,
   "metadata": {
    "tags": []
   },
   "outputs": [
    {
     "data": {
      "text/html": [
       "<div>\n",
       "<style scoped>\n",
       "    .dataframe tbody tr th:only-of-type {\n",
       "        vertical-align: middle;\n",
       "    }\n",
       "\n",
       "    .dataframe tbody tr th {\n",
       "        vertical-align: top;\n",
       "    }\n",
       "\n",
       "    .dataframe thead th {\n",
       "        text-align: right;\n",
       "    }\n",
       "</style>\n",
       "<table border=\"1\" class=\"dataframe\">\n",
       "  <thead>\n",
       "    <tr style=\"text-align: right;\">\n",
       "      <th></th>\n",
       "      <th>MOCAGE</th>\n",
       "      <th>TEMPE</th>\n",
       "      <th>VentMOD</th>\n",
       "      <th>VentANG</th>\n",
       "      <th>SRMH2O</th>\n",
       "      <th>LNO2</th>\n",
       "      <th>LNO</th>\n",
       "    </tr>\n",
       "  </thead>\n",
       "  <tbody>\n",
       "    <tr>\n",
       "      <th>0</th>\n",
       "      <td>93.2</td>\n",
       "      <td>21.500</td>\n",
       "      <td>5.724836</td>\n",
       "      <td>0.015698</td>\n",
       "      <td>0.092033</td>\n",
       "      <td>0.471253</td>\n",
       "      <td>-0.992519</td>\n",
       "    </tr>\n",
       "    <tr>\n",
       "      <th>1</th>\n",
       "      <td>104.6</td>\n",
       "      <td>19.885</td>\n",
       "      <td>5.537961</td>\n",
       "      <td>-0.049960</td>\n",
       "      <td>0.093862</td>\n",
       "      <td>0.751888</td>\n",
       "      <td>-0.632993</td>\n",
       "    </tr>\n",
       "    <tr>\n",
       "      <th>2</th>\n",
       "      <td>103.6</td>\n",
       "      <td>22.870</td>\n",
       "      <td>9.377100</td>\n",
       "      <td>-0.398519</td>\n",
       "      <td>0.097519</td>\n",
       "      <td>0.505009</td>\n",
       "      <td>-1.002856</td>\n",
       "    </tr>\n",
       "    <tr>\n",
       "      <th>3</th>\n",
       "      <td>94.8</td>\n",
       "      <td>18.800</td>\n",
       "      <td>4.593560</td>\n",
       "      <td>0.711467</td>\n",
       "      <td>0.092466</td>\n",
       "      <td>0.854415</td>\n",
       "      <td>-0.725443</td>\n",
       "    </tr>\n",
       "    <tr>\n",
       "      <th>4</th>\n",
       "      <td>99.0</td>\n",
       "      <td>19.970</td>\n",
       "      <td>4.398523</td>\n",
       "      <td>0.717913</td>\n",
       "      <td>0.085499</td>\n",
       "      <td>0.502592</td>\n",
       "      <td>-0.794073</td>\n",
       "    </tr>\n",
       "  </tbody>\n",
       "</table>\n",
       "</div>"
      ],
      "text/plain": [
       "   MOCAGE   TEMPE   VentMOD   VentANG    SRMH2O      LNO2       LNO\n",
       "0    93.2  21.500  5.724836  0.015698  0.092033  0.471253 -0.992519\n",
       "1   104.6  19.885  5.537961 -0.049960  0.093862  0.751888 -0.632993\n",
       "2   103.6  22.870  9.377100 -0.398519  0.097519  0.505009 -1.002856\n",
       "3    94.8  18.800  4.593560  0.711467  0.092466  0.854415 -0.725443\n",
       "4    99.0  19.970  4.398523  0.717913  0.085499  0.502592 -0.794073"
      ]
     },
     "execution_count": 23,
     "metadata": {},
     "output_type": "execute_result"
    }
   ],
   "source": [
    "X_rfImp.head()"
   ]
  },
  {
   "cell_type": "code",
   "execution_count": null,
   "metadata": {},
   "outputs": [],
   "source": []
  },
  {
   "cell_type": "code",
   "execution_count": null,
   "metadata": {},
   "outputs": [],
   "source": []
  }
 ],
 "metadata": {
  "kernelspec": {
   "display_name": "Python 3 (ipykernel)",
   "language": "python",
   "name": "python3"
  },
  "language_info": {
   "codemirror_mode": {
    "name": "ipython",
    "version": 3
   },
   "file_extension": ".py",
   "mimetype": "text/x-python",
   "name": "python",
   "nbconvert_exporter": "python",
   "pygments_lexer": "ipython3",
   "version": "3.11.3"
  },
  "latex_envs": {
   "LaTeX_envs_menu_present": true,
   "autoclose": false,
   "autocomplete": true,
   "bibliofile": "biblio.bib",
   "cite_by": "apalike",
   "current_citInitial": 1,
   "eqLabelWithNumbers": true,
   "eqNumInitial": 1,
   "hotkeys": {
    "equation": "Ctrl-E",
    "itemize": "Ctrl-I"
   },
   "labels_anchors": false,
   "latex_user_defs": false,
   "report_style_numbering": false,
   "user_envs_cfg": false
  },
  "toc": {
   "base_numbering": 1,
   "nav_menu": {},
   "number_sections": true,
   "sideBar": true,
   "skip_h1_title": true,
   "title_cell": "Table of Contents",
   "title_sidebar": "Contents",
   "toc_cell": false,
   "toc_position": {
    "height": "333.133px",
    "left": "528px",
    "top": "179.283px",
    "width": "231.05px"
   },
   "toc_section_display": true,
   "toc_window_display": true
  }
 },
 "nbformat": 4,
 "nbformat_minor": 4
}
