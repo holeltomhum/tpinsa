{
 "cells": [
  {
   "cell_type": "markdown",
   "metadata": {},
   "source": [
    "<center>\n",
    "<a href=\"http://www.insa-toulouse.fr/\" ><img src=\"http://www.math.univ-toulouse.fr/~besse/Wikistat/Images/logo-insa.jpg\" style=\"float:left; max-width: 120px; display: inline\" alt=\"INSA\"/></a> \n",
    "\n",
    "<a href=\"http://wikistat.fr/\" ><img src=\"http://www.math.univ-toulouse.fr/~besse/Wikistat/Images/wikistat.jpg\" style=\"float:right; max-width: 250px; display: inline\"  alt=\"Wikistat\"/></a>\n",
    "</center>"
   ]
  },
  {
   "cell_type": "markdown",
   "metadata": {},
   "source": [
    "# Gestion des données manquantes sur les données d'Ozone avec <a href=\"https://cran.r-project.org/\"><img src=\"https://cran.r-project.org/Rlogo.svg\" style=\"max-width: 40px; display: inline\" alt=\"R\"/></a>"
   ]
  },
  {
   "cell_type": "markdown",
   "metadata": {},
   "source": [
    "**Résumé**: \n",
    "- Création d'un jeu de données contenant des données manquantes à partir des données ozone \n",
    "- Visualisation des données manquantes \n",
    "- Comparaison de diverses méthodes de complétion pour les données quantitatives\n",
    "- Complétion avec MissForest de l'ensemble des données (quantitaives et qualitatives) et impact sur les résultats de classification relativement au jeu de données initial complet"
   ]
  },
  {
   "cell_type": "markdown",
   "metadata": {},
   "source": [
    "## <FONT COLOR=\"Red\">Prise en charge des données </font>"
   ]
  },
  {
   "cell_type": "code",
   "execution_count": 69,
   "metadata": {
    "tags": []
   },
   "outputs": [],
   "source": [
    "# Chargement des librairies nécessaires\n",
    "library(ggplot2)\n"
   ]
  },
  {
   "cell_type": "code",
   "execution_count": 70,
   "metadata": {
    "tags": []
   },
   "outputs": [
    {
     "name": "stderr",
     "output_type": "stream",
     "text": [
      "Installation du package dans ‘/home/h_pham/R/libs’\n",
      "(car ‘lib’ n'est pas spécifié)\n",
      "\n"
     ]
    }
   ],
   "source": [
    "install.packages('naniar')"
   ]
  },
  {
   "cell_type": "code",
   "execution_count": 71,
   "metadata": {
    "tags": []
   },
   "outputs": [],
   "source": [
    "# Chargement des librairies nécessaires pour le traitement des données manquantes\n",
    "library(missForest)\n",
    "library(VIM)\n",
    "library(naniar)"
   ]
  },
  {
   "cell_type": "markdown",
   "metadata": {},
   "source": [
    "Les données ont été extraites et mises en forme par le service concerné de Météo France. Elles sont décrites par les variables suivantes :\n",
    "\n",
    "* **JOUR** : type de jour ; férié (1) ou pas (0) ;\n",
    "* **O3obs** : concentration d'ozone effectivement observée le lendemain à 17h locales correspondant souvent au maximum de pollution observée ;\n",
    "* **MOCAGE** : prévision de cette pollution obtenue par un modèle déterministe de mécanique des fluides (équation de Navier et Stockes);\n",
    "* **TEMPE** : température prévue par MétéoFrance pour le lendemain 17h ;\n",
    "* **RMH2O** : rapport d'humidité ;\n",
    "* **NO2** : concentration en dioxyde d'azote ;\n",
    "* **NO** : concentration en monoxyde d'azote ;\n",
    "* **STATION** : lieu de l'observation : Aix-en-Provence, Rambouillet, Munchhausen, Cadarache et Plan de Cuques ;\n",
    "* **VentMOD** : force du vent ;\n",
    "* **VentANG** : orientation du vent. \n",
    "\n"
   ]
  },
  {
   "cell_type": "markdown",
   "metadata": {},
   "source": [
    "### Lecture des données"
   ]
  },
  {
   "cell_type": "code",
   "execution_count": 72,
   "metadata": {
    "ExecuteTime": {
     "end_time": "2019-11-22T09:48:06.646161Z",
     "start_time": "2019-11-22T09:48:06.591Z"
    },
    "tags": []
   },
   "outputs": [
    {
     "data": {
      "text/html": [
       "<table class=\"dataframe\">\n",
       "<caption>A data.frame: 6 × 10</caption>\n",
       "<thead>\n",
       "\t<tr><th></th><th scope=col>JOUR</th><th scope=col>O3obs</th><th scope=col>MOCAGE</th><th scope=col>TEMPE</th><th scope=col>RMH2O</th><th scope=col>NO2</th><th scope=col>NO</th><th scope=col>STATION</th><th scope=col>VentMOD</th><th scope=col>VentANG</th></tr>\n",
       "\t<tr><th></th><th scope=col>&lt;int&gt;</th><th scope=col>&lt;int&gt;</th><th scope=col>&lt;dbl&gt;</th><th scope=col>&lt;dbl&gt;</th><th scope=col>&lt;dbl&gt;</th><th scope=col>&lt;dbl&gt;</th><th scope=col>&lt;dbl&gt;</th><th scope=col>&lt;chr&gt;</th><th scope=col>&lt;dbl&gt;</th><th scope=col>&lt;dbl&gt;</th></tr>\n",
       "</thead>\n",
       "<tbody>\n",
       "\t<tr><th scope=row>1</th><td>1</td><td> 91</td><td> 93.2</td><td>21.5</td><td>0.00847</td><td>1.602</td><td>0.424</td><td>Aix</td><td>9.5000</td><td>-0.64350</td></tr>\n",
       "\t<tr><th scope=row>2</th><td>1</td><td>100</td><td>104.6</td><td>20.2</td><td>0.00881</td><td>2.121</td><td>0.531</td><td>Aix</td><td>8.0100</td><td>-0.04996</td></tr>\n",
       "\t<tr><th scope=row>3</th><td>0</td><td> 82</td><td>103.6</td><td>17.4</td><td>0.00951</td><td>1.657</td><td>0.467</td><td>Aix</td><td>9.3771</td><td>-0.12832</td></tr>\n",
       "\t<tr><th scope=row>4</th><td>0</td><td> 94</td><td> 94.8</td><td>18.8</td><td>0.00855</td><td>2.350</td><td>0.701</td><td>Aix</td><td>9.4578</td><td>-0.34516</td></tr>\n",
       "\t<tr><th scope=row>5</th><td>0</td><td>107</td><td> 99.0</td><td>23.7</td><td>0.00731</td><td>1.653</td><td>0.452</td><td>Aix</td><td>7.8791</td><td>-0.41822</td></tr>\n",
       "\t<tr><th scope=row>6</th><td>0</td><td>150</td><td>114.3</td><td>23.6</td><td>0.01182</td><td>5.316</td><td>1.343</td><td>Aix</td><td>6.3127</td><td> 0.06341</td></tr>\n",
       "</tbody>\n",
       "</table>\n"
      ],
      "text/latex": [
       "A data.frame: 6 × 10\n",
       "\\begin{tabular}{r|llllllllll}\n",
       "  & JOUR & O3obs & MOCAGE & TEMPE & RMH2O & NO2 & NO & STATION & VentMOD & VentANG\\\\\n",
       "  & <int> & <int> & <dbl> & <dbl> & <dbl> & <dbl> & <dbl> & <chr> & <dbl> & <dbl>\\\\\n",
       "\\hline\n",
       "\t1 & 1 &  91 &  93.2 & 21.5 & 0.00847 & 1.602 & 0.424 & Aix & 9.5000 & -0.64350\\\\\n",
       "\t2 & 1 & 100 & 104.6 & 20.2 & 0.00881 & 2.121 & 0.531 & Aix & 8.0100 & -0.04996\\\\\n",
       "\t3 & 0 &  82 & 103.6 & 17.4 & 0.00951 & 1.657 & 0.467 & Aix & 9.3771 & -0.12832\\\\\n",
       "\t4 & 0 &  94 &  94.8 & 18.8 & 0.00855 & 2.350 & 0.701 & Aix & 9.4578 & -0.34516\\\\\n",
       "\t5 & 0 & 107 &  99.0 & 23.7 & 0.00731 & 1.653 & 0.452 & Aix & 7.8791 & -0.41822\\\\\n",
       "\t6 & 0 & 150 & 114.3 & 23.6 & 0.01182 & 5.316 & 1.343 & Aix & 6.3127 &  0.06341\\\\\n",
       "\\end{tabular}\n"
      ],
      "text/markdown": [
       "\n",
       "A data.frame: 6 × 10\n",
       "\n",
       "| <!--/--> | JOUR &lt;int&gt; | O3obs &lt;int&gt; | MOCAGE &lt;dbl&gt; | TEMPE &lt;dbl&gt; | RMH2O &lt;dbl&gt; | NO2 &lt;dbl&gt; | NO &lt;dbl&gt; | STATION &lt;chr&gt; | VentMOD &lt;dbl&gt; | VentANG &lt;dbl&gt; |\n",
       "|---|---|---|---|---|---|---|---|---|---|---|\n",
       "| 1 | 1 |  91 |  93.2 | 21.5 | 0.00847 | 1.602 | 0.424 | Aix | 9.5000 | -0.64350 |\n",
       "| 2 | 1 | 100 | 104.6 | 20.2 | 0.00881 | 2.121 | 0.531 | Aix | 8.0100 | -0.04996 |\n",
       "| 3 | 0 |  82 | 103.6 | 17.4 | 0.00951 | 1.657 | 0.467 | Aix | 9.3771 | -0.12832 |\n",
       "| 4 | 0 |  94 |  94.8 | 18.8 | 0.00855 | 2.350 | 0.701 | Aix | 9.4578 | -0.34516 |\n",
       "| 5 | 0 | 107 |  99.0 | 23.7 | 0.00731 | 1.653 | 0.452 | Aix | 7.8791 | -0.41822 |\n",
       "| 6 | 0 | 150 | 114.3 | 23.6 | 0.01182 | 5.316 | 1.343 | Aix | 6.3127 |  0.06341 |\n",
       "\n"
      ],
      "text/plain": [
       "  JOUR O3obs MOCAGE TEMPE RMH2O   NO2   NO    STATION VentMOD VentANG \n",
       "1 1     91    93.2  21.5  0.00847 1.602 0.424 Aix     9.5000  -0.64350\n",
       "2 1    100   104.6  20.2  0.00881 2.121 0.531 Aix     8.0100  -0.04996\n",
       "3 0     82   103.6  17.4  0.00951 1.657 0.467 Aix     9.3771  -0.12832\n",
       "4 0     94    94.8  18.8  0.00855 2.350 0.701 Aix     9.4578  -0.34516\n",
       "5 0    107    99.0  23.7  0.00731 1.653 0.452 Aix     7.8791  -0.41822\n",
       "6 0    150   114.3  23.6  0.01182 5.316 1.343 Aix     6.3127   0.06341"
      ]
     },
     "metadata": {},
     "output_type": "display_data"
    },
    {
     "data": {
      "text/plain": [
       "      JOUR            O3obs           MOCAGE          TEMPE      \n",
       " Min.   :0.0000   Min.   : 19.0   Min.   : 46.4   Min.   :10.40  \n",
       " 1st Qu.:0.0000   1st Qu.: 87.0   1st Qu.: 97.5   1st Qu.:20.20  \n",
       " Median :0.0000   Median :109.0   Median :125.6   Median :23.80  \n",
       " Mean   :0.3045   Mean   :115.4   Mean   :127.2   Mean   :23.88  \n",
       " 3rd Qu.:1.0000   3rd Qu.:135.0   3rd Qu.:153.6   3rd Qu.:27.60  \n",
       " Max.   :1.0000   Max.   :319.0   Max.   :284.7   Max.   :38.00  \n",
       "     RMH2O              NO2               NO           STATION         \n",
       " Min.   :0.00285   Min.   : 0.258   Min.   :0.0010   Length:1041       \n",
       " 1st Qu.:0.00763   1st Qu.: 1.248   1st Qu.:0.2360   Class :character  \n",
       " Median :0.00985   Median : 2.109   Median :0.3880   Mode  :character  \n",
       " Mean   :0.01025   Mean   : 3.505   Mean   :0.6574                     \n",
       " 3rd Qu.:0.01244   3rd Qu.: 4.062   3rd Qu.:0.7440                     \n",
       " Max.   :0.02753   Max.   :44.396   Max.   :9.4290                     \n",
       "    VentMOD           VentANG       \n",
       " Min.   : 0.1414   Min.   :-1.5708  \n",
       " 1st Qu.: 3.9623   1st Qu.:-0.3948  \n",
       " Median : 5.5973   Median : 0.2783  \n",
       " Mean   : 5.9072   Mean   : 0.1631  \n",
       " 3rd Qu.: 7.1063   3rd Qu.: 0.6926  \n",
       " Max.   :19.8910   Max.   : 1.5708  "
      ]
     },
     "metadata": {},
     "output_type": "display_data"
    }
   ],
   "source": [
    "# \n",
    "# path=\"http://www.math.univ-toulouse.fr/~besse/Wikistat/data/\"\n",
    "path <- \"\"\n",
    "ozone <- read.table(paste(path, \"depSeuil.dat\", sep = \"\"),\n",
    "                    sep = \",\", header = TRUE)\n",
    "# Premières lignes du jeu de données\n",
    "head(ozone)\n",
    "# Vérification du contenu\n",
    "summary(ozone)"
   ]
  },
  {
   "cell_type": "code",
   "execution_count": 73,
   "metadata": {
    "tags": []
   },
   "outputs": [
    {
     "name": "stdout",
     "output_type": "stream",
     "text": [
      "'data.frame':\t1041 obs. of  10 variables:\n",
      " $ JOUR   : int  1 1 0 0 0 0 0 1 1 0 ...\n",
      " $ O3obs  : int  91 100 82 94 107 150 164 135 121 129 ...\n",
      " $ MOCAGE : num  93.2 104.6 103.6 94.8 99 ...\n",
      " $ TEMPE  : num  21.5 20.2 17.4 18.8 23.7 23.6 26.6 23.5 23.3 23.7 ...\n",
      " $ RMH2O  : num  0.00847 0.00881 0.00951 0.00855 0.00731 ...\n",
      " $ NO2    : num  1.6 2.12 1.66 2.35 1.65 ...\n",
      " $ NO     : num  0.424 0.531 0.467 0.701 0.452 ...\n",
      " $ STATION: chr  \"Aix\" \"Aix\" \"Aix\" \"Aix\" ...\n",
      " $ VentMOD: num  9.5 8.01 9.38 9.46 7.88 ...\n",
      " $ VentANG: num  -0.643 -0.05 -0.128 -0.345 -0.418 ...\n"
     ]
    }
   ],
   "source": [
    "str(ozone)"
   ]
  },
  {
   "cell_type": "code",
   "execution_count": 74,
   "metadata": {
    "ExecuteTime": {
     "end_time": "2019-11-18T09:23:37.832339Z",
     "start_time": "2019-11-18T09:21:59.889Z"
    }
   },
   "outputs": [],
   "source": [
    "# Changement du type des variables qualitatives en facteur\n",
    "ozone[, \"JOUR\"] <- as.factor(ozone[, \"JOUR\"])\n",
    "ozone[, \"STATION\"] <- as.factor(ozone[, \"STATION\"])"
   ]
  },
  {
   "cell_type": "code",
   "execution_count": 75,
   "metadata": {},
   "outputs": [
    {
     "data": {
      "text/plain": [
       " JOUR        O3obs           MOCAGE          TEMPE           RMH2O        \n",
       " 0:724   Min.   : 19.0   Min.   : 46.4   Min.   :10.40   Min.   :0.00285  \n",
       " 1:317   1st Qu.: 87.0   1st Qu.: 97.5   1st Qu.:20.20   1st Qu.:0.00763  \n",
       "         Median :109.0   Median :125.6   Median :23.80   Median :0.00985  \n",
       "         Mean   :115.4   Mean   :127.2   Mean   :23.88   Mean   :0.01025  \n",
       "         3rd Qu.:135.0   3rd Qu.:153.6   3rd Qu.:27.60   3rd Qu.:0.01244  \n",
       "         Max.   :319.0   Max.   :284.7   Max.   :38.00   Max.   :0.02753  \n",
       "      NO2               NO         STATION      VentMOD       \n",
       " Min.   : 0.258   Min.   :0.0010   Aix:199   Min.   : 0.1414  \n",
       " 1st Qu.: 1.248   1st Qu.:0.2360   Als:222   1st Qu.: 3.9623  \n",
       " Median : 2.109   Median :0.3880   Cad:202   Median : 5.5973  \n",
       " Mean   : 3.505   Mean   :0.6574   Pla:208   Mean   : 5.9072  \n",
       " 3rd Qu.: 4.062   3rd Qu.:0.7440   Ram:210   3rd Qu.: 7.1063  \n",
       " Max.   :44.396   Max.   :9.4290             Max.   :19.8910  \n",
       "    VentANG       \n",
       " Min.   :-1.5708  \n",
       " 1st Qu.:-0.3948  \n",
       " Median : 0.2783  \n",
       " Mean   : 0.1631  \n",
       " 3rd Qu.: 0.6926  \n",
       " Max.   : 1.5708  "
      ]
     },
     "metadata": {},
     "output_type": "display_data"
    }
   ],
   "source": [
    "# Vérification dans le summary\n",
    "summary(ozone)"
   ]
  },
  {
   "cell_type": "markdown",
   "metadata": {},
   "source": [
    "### Transformations de variables"
   ]
  },
  {
   "cell_type": "markdown",
   "metadata": {},
   "source": [
    "Des transformations sont proposées pour rendre certaines distributions plus symétriques et ainsi plus \"gaussiennes\". C'est nécessaire pour certaines méthodes de modélisation ou de complétion des données manquantes. "
   ]
  },
  {
   "cell_type": "code",
   "execution_count": 76,
   "metadata": {},
   "outputs": [],
   "source": [
    "ozone[, \"SRMH2O\"] <- sqrt(ozone[, \"RMH2O\"])\n",
    "ozone[, \"LNO2\"] <- log(ozone[, \"NO2\"])\n",
    "ozone[, \"LNO\"] <- log(ozone[, \"NO\"])"
   ]
  },
  {
   "cell_type": "code",
   "execution_count": 77,
   "metadata": {},
   "outputs": [],
   "source": [
    "\n",
    "ozone <- ozone[, c(1:4, 8:13)]"
   ]
  },
  {
   "cell_type": "markdown",
   "metadata": {},
   "source": [
    "On construit maintenant la variable de dépassement de seuil `DepSeuil` pour obtenir le fichier qui sera effectivement utilisé."
   ]
  },
  {
   "cell_type": "code",
   "execution_count": 78,
   "metadata": {},
   "outputs": [
    {
     "data": {
      "text/plain": [
       " JOUR        O3obs           MOCAGE          TEMPE       STATION  \n",
       " 0:724   Min.   : 19.0   Min.   : 46.4   Min.   :10.40   Aix:199  \n",
       " 1:317   1st Qu.: 87.0   1st Qu.: 97.5   1st Qu.:20.20   Als:222  \n",
       "         Median :109.0   Median :125.6   Median :23.80   Cad:202  \n",
       "         Mean   :115.4   Mean   :127.2   Mean   :23.88   Pla:208  \n",
       "         3rd Qu.:135.0   3rd Qu.:153.6   3rd Qu.:27.60   Ram:210  \n",
       "         Max.   :319.0   Max.   :284.7   Max.   :38.00            \n",
       "    VentMOD           VentANG            SRMH2O             LNO2        \n",
       " Min.   : 0.1414   Min.   :-1.5708   Min.   :0.05339   Min.   :-1.3548  \n",
       " 1st Qu.: 3.9623   1st Qu.:-0.3948   1st Qu.:0.08735   1st Qu.: 0.2215  \n",
       " Median : 5.5973   Median : 0.2783   Median :0.09925   Median : 0.7462  \n",
       " Mean   : 5.9072   Mean   : 0.1631   Mean   :0.09957   Mean   : 0.8440  \n",
       " 3rd Qu.: 7.1063   3rd Qu.: 0.6926   3rd Qu.:0.11153   3rd Qu.: 1.4017  \n",
       " Max.   :19.8910   Max.   : 1.5708   Max.   :0.16592   Max.   : 3.7931  \n",
       "      LNO           DepSeuil  \n",
       " Min.   :-6.9078   FALSE:863  \n",
       " 1st Qu.:-1.4439   TRUE :178  \n",
       " Median :-0.9467              \n",
       " Mean   :-0.8399              \n",
       " 3rd Qu.:-0.2957              \n",
       " Max.   : 2.2438              "
      ]
     },
     "metadata": {},
     "output_type": "display_data"
    }
   ],
   "source": [
    "ozone[, \"DepSeuil\"] <- as.factor(ozone[, \"O3obs\"] > 150)\n",
    "summary(ozone)"
   ]
  },
  {
   "cell_type": "markdown",
   "metadata": {},
   "source": [
    "   "
   ]
  },
  {
   "cell_type": "code",
   "execution_count": 79,
   "metadata": {},
   "outputs": [],
   "source": [
    "gplot.res <- function(x, y, titre = \"titre\"){\n",
    "    ggplot(data.frame(x=x, y=y),aes(x,y))+\n",
    "    geom_point(col = \"blue\")+xlim(0, 250)+ylim(-150, 150)+\n",
    "    ylab(\"Résidus\")+ xlab(\"Valeurs prédites\")+\n",
    "    ggtitle(titre)+\n",
    "    geom_hline(yintercept = 0,col=\"green\")\n",
    "}"
   ]
  },
  {
   "cell_type": "markdown",
   "metadata": {},
   "source": [
    "## <FONT COLOR=\"Red\"> [Gestion des données manquantes](http://wikistat.fr/pdf/st-m-app-idm.pdf) </font>\n"
   ]
  },
  {
   "cell_type": "markdown",
   "metadata": {},
   "source": [
    "\n",
    "Les vraies données sont le plus souvent mitées par l'absence de données, conséquence d'erreurs de saisie, de pannes de capteurs... Les librairies de R offrent de très nombreux choix pour faire des imputations de données manquantes quand celles-ci le sont de façon complètement aléatoire. \n",
    "\n",
    "Plusieurs stratégies sont exécutées et comparées après avoir généré aléatoirement un pourcentage de défaillances (trous) dans les valeurs des variables explicatives.\n",
    "\n",
    "**Question** Pourquoi la structure des variables explicatives incite-t-elle à exécuter l'algorithme missForest de la librairie éponyme? \n",
    "\n",
    "**Dans un premier temps**, nous allons comparer quelques méthodes d'imputation sur les données explicatives quantitatives : LOCF, imputation par la moyenne ou la médiane, kNN, MissForest et Amelia II.\n",
    "\n",
    "\n",
    "**Dans un deuxième temps**, nous nous concentrerons sur la méthode Missforest et l'objectif sera d'étudier l'impact de l'imputation des données sur les performances de classification pour prédire la variable \"depassement de seuil\" en comparant deux stratégies :\n",
    "\n",
    "\n",
    "La **première stratégie** commence par imputer les données manquantes en les prévoyant par l'algorithme MissForest. \n",
    "\n",
    "Une fois les données manquantes imputées, différentes méthodes de prévision sont utilisables comme précédemment. Deux sont exécutées: forêts aléatoires et *extrem gradient boosting*.\n",
    "\n",
    "La **deuxième stratégie** évite l'étape d'imputation en exécutant directement un algorithme de prévision tolérant des données manquantes. Peu d'algorithmesle font, c'est le cas de `XGBoost`.\n",
    "\n",
    "Attention, les commandes ci-dessous font appel à de nombreux fichiers qu'il est facile de mélanger.\n",
    "- `X` données complètes initiales et `Xd` la version où les variables qualitatives sont remplacées par des indicatrices, \n",
    "- `Xna` les données avec des trous, `Xdna` la version avec indicatrices,\n",
    "\n",
    "- `XnaImp` les données avec imputations et `XdnaImp` la version avec indicatrices.\n",
    "\n",
    "Le remplacement des variables qualitatives par des variables indicatrices est imposé par l'utilisation de la librairie `XGBoost` et cela ne change en rien les résultats des forêts aléatoires.\n",
    "\n",
    "### Préparation des trous dans `ozone`\n",
    "Les données initiales de la base `ozone` sont reprises. Seule la variable à expliquer de dépassement de seuil est conservée. La librairie `missForest`propose une fonction pour générer un pourcentage fixé a priori de données manquantes dans une base."
   ]
  },
  {
   "cell_type": "code",
   "execution_count": 80,
   "metadata": {
    "ExecuteTime": {
     "start_time": "2019-11-18T09:22:26.834Z"
    }
   },
   "outputs": [
    {
     "data": {
      "text/html": [
       "<style>\n",
       ".dl-inline {width: auto; margin:0; padding: 0}\n",
       ".dl-inline>dt, .dl-inline>dd {float: none; width: auto; display: inline-block}\n",
       ".dl-inline>dt::after {content: \":\\0020\"; padding-right: .5ex}\n",
       ".dl-inline>dt:not(:first-of-type) {padding-left: .5ex}\n",
       "</style><dl class=dl-inline><dt>FALSE</dt><dd>863</dd><dt>TRUE</dt><dd>178</dd></dl>\n"
      ],
      "text/latex": [
       "\\begin{description*}\n",
       "\\item[FALSE] 863\n",
       "\\item[TRUE] 178\n",
       "\\end{description*}\n"
      ],
      "text/markdown": [
       "FALSE\n",
       ":   863TRUE\n",
       ":   178\n",
       "\n"
      ],
      "text/plain": [
       "FALSE  TRUE \n",
       "  863   178 "
      ]
     },
     "metadata": {},
     "output_type": "display_data"
    },
    {
     "data": {
      "text/plain": [
       " JOUR        MOCAGE          TEMPE       STATION      VentMOD       \n",
       " 0:724   Min.   : 46.4   Min.   :10.40   Aix:199   Min.   : 0.1414  \n",
       " 1:317   1st Qu.: 97.5   1st Qu.:20.20   Als:222   1st Qu.: 3.9623  \n",
       "         Median :125.6   Median :23.80   Cad:202   Median : 5.5973  \n",
       "         Mean   :127.2   Mean   :23.88   Pla:208   Mean   : 5.9072  \n",
       "         3rd Qu.:153.6   3rd Qu.:27.60   Ram:210   3rd Qu.: 7.1063  \n",
       "         Max.   :284.7   Max.   :38.00             Max.   :19.8910  \n",
       "    VentANG            SRMH2O             LNO2              LNO         \n",
       " Min.   :-1.5708   Min.   :0.05339   Min.   :-1.3548   Min.   :-6.9078  \n",
       " 1st Qu.:-0.3948   1st Qu.:0.08735   1st Qu.: 0.2215   1st Qu.:-1.4439  \n",
       " Median : 0.2783   Median :0.09925   Median : 0.7462   Median :-0.9467  \n",
       " Mean   : 0.1631   Mean   :0.09957   Mean   : 0.8440   Mean   :-0.8399  \n",
       " 3rd Qu.: 0.6926   3rd Qu.:0.11153   3rd Qu.: 1.4017   3rd Qu.:-0.2957  \n",
       " Max.   : 1.5708   Max.   :0.16592   Max.   : 3.7931   Max.   : 2.2438  "
      ]
     },
     "metadata": {},
     "output_type": "display_data"
    }
   ],
   "source": [
    "# Variable cible\n",
    "Y=ozone[,\"DepSeuil\"]\n",
    "# Variables explicatives\n",
    "X=ozone[,-c(2,11)]\n",
    "n=nrow(X); p=ncol(X)\n",
    "summary(Y) \n",
    "summary(X)"
   ]
  },
  {
   "cell_type": "code",
   "execution_count": 81,
   "metadata": {
    "ExecuteTime": {
     "start_time": "2019-11-18T09:22:26.842Z"
    }
   },
   "outputs": [
    {
     "data": {
      "text/plain": [
       "   JOUR         MOCAGE           TEMPE       STATION       VentMOD      \n",
       " 0   :132   Min.   : 58.80   Min.   :11.60   Aix : 41   Min.   : 0.300  \n",
       " 1   : 76   1st Qu.: 94.28   1st Qu.:19.60   Als : 49   1st Qu.: 4.000  \n",
       " NA's:833   Median :122.40   Median :22.85   Cad : 47   Median : 5.708  \n",
       "            Mean   :125.84   Mean   :23.37   Pla : 36   Mean   : 5.785  \n",
       "            3rd Qu.:150.32   3rd Qu.:27.20   Ram : 45   3rd Qu.: 6.935  \n",
       "            Max.   :284.70   Max.   :37.90   NA's:823   Max.   :17.687  \n",
       "            NA's   :841      NA's   :837                NA's   :816     \n",
       "    VentANG            SRMH2O            LNO2              LNO         \n",
       " Min.   :-1.5519   Min.   :0.0607   Min.   :-1.2730   Min.   :-2.9565  \n",
       " 1st Qu.:-0.4939   1st Qu.:0.0867   1st Qu.: 0.1790   1st Qu.:-1.3413  \n",
       " Median : 0.1882   Median :0.1007   Median : 0.8078   Median :-0.8783  \n",
       " Mean   : 0.0891   Mean   :0.0999   Mean   : 0.8216   Mean   :-0.7878  \n",
       " 3rd Qu.: 0.6799   3rd Qu.:0.1123   3rd Qu.: 1.3838   3rd Qu.:-0.2924  \n",
       " Max.   : 1.5708   Max.   :0.1659   Max.   : 3.0610   Max.   : 2.2438  \n",
       " NA's   :856       NA's   :836      NA's   :820       NA's   :833      "
      ]
     },
     "metadata": {},
     "output_type": "display_data"
    }
   ],
   "source": [
    "library(missForest)\n",
    "# faire une proportion tauxNA de trous aléatoires dans X\n",
    "# Données missing at random\n",
    "tauxNa=0.8\n",
    "set.seed(11)\n",
    "Xna=prodNA(X,tauxNa)\n",
    "summary(Xna)"
   ]
  },
  {
   "cell_type": "markdown",
   "metadata": {},
   "source": [
    "**Question** Quel est en moyenne le nombre de données manquantes par colonne?"
   ]
  },
  {
   "cell_type": "code",
   "execution_count": 82,
   "metadata": {
    "tags": []
   },
   "outputs": [
    {
     "data": {
      "text/html": [
       "2810.7"
      ],
      "text/latex": [
       "2810.7"
      ],
      "text/markdown": [
       "2810.7"
      ],
      "text/plain": [
       "[1] 2810.7"
      ]
     },
     "metadata": {},
     "output_type": "display_data"
    }
   ],
   "source": [
    "1041*0.3*9"
   ]
  },
  {
   "cell_type": "code",
   "execution_count": 83,
   "metadata": {},
   "outputs": [
    {
     "data": {
      "text/html": [
       "<style>\n",
       ".list-inline {list-style: none; margin:0; padding: 0}\n",
       ".list-inline>li {display: inline-block}\n",
       ".list-inline>li:not(:last-child)::after {content: \"\\00b7\"; padding: 0 .5ex}\n",
       "</style>\n",
       "<ol class=list-inline><li>0</li><li>9</li></ol>\n"
      ],
      "text/latex": [
       "\\begin{enumerate*}\n",
       "\\item 0\n",
       "\\item 9\n",
       "\\end{enumerate*}\n"
      ],
      "text/markdown": [
       "1. 0\n",
       "2. 9\n",
       "\n",
       "\n"
      ],
      "text/plain": [
       "[1] 0 9"
      ]
     },
     "metadata": {},
     "output_type": "display_data"
    }
   ],
   "source": [
    "dim(na.omit(Xna))"
   ]
  },
  {
   "cell_type": "markdown",
   "metadata": {},
   "source": [
    "**Question** Serait-il raisonnable de supprimer toutes  les lignes contenant des données manquantes ? Combien resterait-il d'observations ? "
   ]
  },
  {
   "cell_type": "markdown",
   "metadata": {},
   "source": [
    "### Visualisation des données manquantes"
   ]
  },
  {
   "cell_type": "code",
   "execution_count": 84,
   "metadata": {},
   "outputs": [
    {
     "data": {
      "image/png": "[encoded data removed]",
      "text/plain": [
       "plot without title"
      ]
     },
     "metadata": {
      "image/png": {
       "height": 420,
       "width": 420
      }
     },
     "output_type": "display_data"
    }
   ],
   "source": [
    "library(naniar)\n",
    "gg_miss_var(Xna)"
   ]
  },
  {
   "cell_type": "code",
   "execution_count": 85,
   "metadata": {
    "tags": []
   },
   "outputs": [],
   "source": [
    "library(VIM)"
   ]
  },
  {
   "cell_type": "code",
   "execution_count": 86,
   "metadata": {},
   "outputs": [
    {
     "name": "stdout",
     "output_type": "stream",
     "text": [
      "\n",
      " Variables sorted by number of missings: \n",
      " Variable     Count\n",
      "  VentANG 0.8222863\n",
      "   MOCAGE 0.8078770\n",
      "    TEMPE 0.8040346\n",
      "   SRMH2O 0.8030740\n",
      "     JOUR 0.8001921\n",
      "      LNO 0.8001921\n",
      "  STATION 0.7905860\n",
      "     LNO2 0.7877041\n",
      "  VentMOD 0.7838617\n"
     ]
    },
    {
     "data": {
      "image/png": "[encoded data removed]",
      "text/plain": [
       "plot without title"
      ]
     },
     "metadata": {
      "image/png": {
       "height": 420,
       "width": 420
      }
     },
     "output_type": "display_data"
    }
   ],
   "source": [
    "res<-summary(aggr(Xna, sortVar=TRUE))$combinations"
   ]
  },
  {
   "cell_type": "code",
   "execution_count": 87,
   "metadata": {
    "tags": []
   },
   "outputs": [
    {
     "data": {
      "text/html": [
       "\n",
       "<table style=\"width: 100%;\"><tr><td>aggr {VIM}</td><td style=\"text-align: right;\">R Documentation</td></tr></table>\n",
       "\n",
       "<h2 id='aggr'>Aggregations for missing/imputed values</h2>\n",
       "\n",
       "<h3>Description</h3>\n",
       "\n",
       "<p>Calculate or plot the amount of missing/imputed values in each variable and\n",
       "the amount of missing/imputed values in certain combinations of variables.\n",
       "</p>\n",
       "<p>Print method for objects of class <code>\"aggr\"</code>.\n",
       "</p>\n",
       "<p>Summary method for objects of class <code>\"aggr\"</code>.\n",
       "</p>\n",
       "<p>Print method for objects of class <code>\"summary.aggr\"</code>.\n",
       "</p>\n",
       "\n",
       "\n",
       "<h3>Usage</h3>\n",
       "\n",
       "<pre><code class='language-R'>aggr(x, delimiter = NULL, plot = TRUE, ...)\n",
       "\n",
       "## S3 method for class 'aggr'\n",
       "plot(\n",
       "  x,\n",
       "  col = c(\"skyblue\", \"red\", \"orange\"),\n",
       "  bars = TRUE,\n",
       "  numbers = FALSE,\n",
       "  prop = TRUE,\n",
       "  combined = FALSE,\n",
       "  varheight = FALSE,\n",
       "  only.miss = FALSE,\n",
       "  border = par(\"fg\"),\n",
       "  sortVars = FALSE,\n",
       "  sortCombs = TRUE,\n",
       "  ylabs = NULL,\n",
       "  axes = TRUE,\n",
       "  labels = axes,\n",
       "  cex.lab = 1.2,\n",
       "  cex.axis = par(\"cex\"),\n",
       "  cex.numbers = par(\"cex\"),\n",
       "  gap = 4,\n",
       "  ...\n",
       ")\n",
       "\n",
       "## S3 method for class 'aggr'\n",
       "print(x, ..., digits = NULL)\n",
       "\n",
       "## S3 method for class 'aggr'\n",
       "summary(object, ...)\n",
       "\n",
       "## S3 method for class 'summary.aggr'\n",
       "print(x, ...)\n",
       "</code></pre>\n",
       "\n",
       "\n",
       "<h3>Arguments</h3>\n",
       "\n",
       "<table>\n",
       "<tr><td><code id=\"aggr_:_x\">x</code></td>\n",
       "<td>\n",
       "<p>an object of class <code>\"summary.aggr\"</code>.</p>\n",
       "</td></tr>\n",
       "<tr><td><code id=\"aggr_:_delimiter\">delimiter</code></td>\n",
       "<td>\n",
       "<p>a character-vector to distinguish between variables and\n",
       "imputation-indices for imputed variables (therefore, <code>x</code> needs to have\n",
       "<code>colnames()</code>). If given, it is used to determine the corresponding\n",
       "imputation-index for any imputed variable (a logical-vector indicating which\n",
       "values of the variable have been imputed). If such imputation-indices are\n",
       "found, they are used for highlighting and the colors are adjusted according\n",
       "to the given colors for imputed variables (see <code>col</code>).</p>\n",
       "</td></tr>\n",
       "<tr><td><code id=\"aggr_:_plot\">plot</code></td>\n",
       "<td>\n",
       "<p>a logical indicating whether the results should be plotted (the\n",
       "default is <code>TRUE</code>).</p>\n",
       "</td></tr>\n",
       "<tr><td><code id=\"aggr_:_...\">...</code></td>\n",
       "<td>\n",
       "<p>Further arguments, currently ignored.</p>\n",
       "</td></tr>\n",
       "<tr><td><code id=\"aggr_:_col\">col</code></td>\n",
       "<td>\n",
       "<p>a vector of length three giving the colors to be used for\n",
       "observed, missing and imputed data. If only one color is supplied, it is\n",
       "used for missing and imputed data and observed data is transparent. If only\n",
       "two colors are supplied, the first one is used for observed data and the\n",
       "second color is used for missing and imputed data.</p>\n",
       "</td></tr>\n",
       "<tr><td><code id=\"aggr_:_bars\">bars</code></td>\n",
       "<td>\n",
       "<p>a logical indicating whether a small barplot for the frequencies\n",
       "of the different combinations should be drawn.</p>\n",
       "</td></tr>\n",
       "<tr><td><code id=\"aggr_:_numbers\">numbers</code></td>\n",
       "<td>\n",
       "<p>a logical indicating whether the proportion or frequencies of\n",
       "the different combinations should be represented by numbers.</p>\n",
       "</td></tr>\n",
       "<tr><td><code id=\"aggr_:_prop\">prop</code></td>\n",
       "<td>\n",
       "<p>a logical indicating whether the proportion of missing/imputed\n",
       "values and combinations should be used rather than the total amount.</p>\n",
       "</td></tr>\n",
       "<tr><td><code id=\"aggr_:_combined\">combined</code></td>\n",
       "<td>\n",
       "<p>a logical indicating whether the two plots should be\n",
       "combined.  If <code>FALSE</code>, a separate barplot on the left hand side shows\n",
       "the amount of missing/imputed values in each variable.  If <code>TRUE</code>, a\n",
       "small version of this barplot is drawn on top of the plot for the\n",
       "combinations of missing/imputed and non-missing values.  See\n",
       "&ldquo;Details&rdquo; for more information.</p>\n",
       "</td></tr>\n",
       "<tr><td><code id=\"aggr_:_varheight\">varheight</code></td>\n",
       "<td>\n",
       "<p>a logical indicating whether the cell heights are given by\n",
       "the frequencies of occurrence of the corresponding combinations.</p>\n",
       "</td></tr>\n",
       "<tr><td><code id=\"aggr_:_only.miss\">only.miss</code></td>\n",
       "<td>\n",
       "<p>a logical indicating whether the small barplot for the\n",
       "frequencies of the combinations should only be drawn for combinations\n",
       "including missing/imputed values (if <code>bars</code> is <code>TRUE</code>).  This is\n",
       "useful if most observations are complete, in which case the corresponding\n",
       "bar would dominate the barplot such that the remaining bars are too\n",
       "compressed.  The proportion or frequency of complete observations (as\n",
       "determined by <code>prop</code>) is then represented by a number instead of a bar.</p>\n",
       "</td></tr>\n",
       "<tr><td><code id=\"aggr_:_border\">border</code></td>\n",
       "<td>\n",
       "<p>the color to be used for the border of the bars and\n",
       "rectangles.  Use <code>border=NA</code> to omit borders.</p>\n",
       "</td></tr>\n",
       "<tr><td><code id=\"aggr_:_sortVars\">sortVars</code></td>\n",
       "<td>\n",
       "<p>a logical indicating whether the variables should be sorted\n",
       "by the number of missing/imputed values.</p>\n",
       "</td></tr>\n",
       "<tr><td><code id=\"aggr_:_sortCombs\">sortCombs</code></td>\n",
       "<td>\n",
       "<p>a logical indicating whether the combinations should be\n",
       "sorted by the frequency of occurrence.</p>\n",
       "</td></tr>\n",
       "<tr><td><code id=\"aggr_:_ylabs\">ylabs</code></td>\n",
       "<td>\n",
       "<p>if <code>combined</code> is <code>TRUE</code>, a character string giving\n",
       "the y-axis label of the combined plot, otherwise a character vector of\n",
       "length two giving the y-axis labels for the two plots.</p>\n",
       "</td></tr>\n",
       "<tr><td><code id=\"aggr_:_axes\">axes</code></td>\n",
       "<td>\n",
       "<p>a logical indicating whether axes should be drawn.</p>\n",
       "</td></tr>\n",
       "<tr><td><code id=\"aggr_:_labels\">labels</code></td>\n",
       "<td>\n",
       "<p>either a logical indicating whether labels should be plotted\n",
       "on the x-axis, or a character vector giving the labels.</p>\n",
       "</td></tr>\n",
       "<tr><td><code id=\"aggr_:_cex.lab\">cex.lab</code></td>\n",
       "<td>\n",
       "<p>the character expansion factor to be used for the axis\n",
       "labels.</p>\n",
       "</td></tr>\n",
       "<tr><td><code id=\"aggr_:_cex.axis\">cex.axis</code></td>\n",
       "<td>\n",
       "<p>the character expansion factor to be used for the axis\n",
       "annotation.</p>\n",
       "</td></tr>\n",
       "<tr><td><code id=\"aggr_:_cex.numbers\">cex.numbers</code></td>\n",
       "<td>\n",
       "<p>the character expansion factor to be used for the\n",
       "proportion or frequencies of the different combinations</p>\n",
       "</td></tr>\n",
       "<tr><td><code id=\"aggr_:_gap\">gap</code></td>\n",
       "<td>\n",
       "<p>if <code>combined</code> is <code>FALSE</code>, a numeric value giving the\n",
       "distance between the two plots in margin lines.</p>\n",
       "</td></tr>\n",
       "<tr><td><code id=\"aggr_:_digits\">digits</code></td>\n",
       "<td>\n",
       "<p>the minimum number of significant digits to be used (see\n",
       "<code>print.default()</code>).</p>\n",
       "</td></tr>\n",
       "<tr><td><code id=\"aggr_:_object\">object</code></td>\n",
       "<td>\n",
       "<p>an object of class <code>\"aggr\"</code>.</p>\n",
       "</td></tr>\n",
       "</table>\n",
       "\n",
       "\n",
       "<h3>Details</h3>\n",
       "\n",
       "<p>Often it is of interest how many missing/imputed values are contained in\n",
       "each variable.  Even more interesting, there may be certain combinations of\n",
       "variables with a high number of missing/imputed values.\n",
       "</p>\n",
       "<p>If <code>combined</code> is <code>FALSE</code>, two separate plots are drawn for the\n",
       "missing/imputed values in each variable and the combinations of\n",
       "missing/imputed and non-missing values. The barplot on the left hand side\n",
       "shows the amount of missing/imputed values in each variable.  In the\n",
       "<em>aggregation plot</em> on the right hand side, all existing combinations of\n",
       "missing/imputed and non-missing values in the observations are visualized.\n",
       "Available, missing and imputed data are color coded as given by <code>col</code>.\n",
       "Additionally, there are two possibilities to represent the frequencies of\n",
       "occurrence of the different combinations.  The first option is to visualize\n",
       "the proportions or frequencies by a small bar plot and/or numbers.  The\n",
       "second option is to let the cell heights be given by the frequencies of the\n",
       "corresponding combinations. Furthermore, variables may be sorted by the\n",
       "number of missing/imputed values and combinations by the frequency of\n",
       "occurrence to give more power to finding the structure of missing/imputed\n",
       "values.\n",
       "</p>\n",
       "<p>If <code>combined</code> is <code>TRUE</code>, a small version of the barplot showing\n",
       "the amount of missing/imputed values in each variable is drawn on top of the\n",
       "aggregation plot.\n",
       "</p>\n",
       "<p>The graphical parameter <code>oma</code> will be set unless supplied as an\n",
       "argument.\n",
       "</p>\n",
       "\n",
       "\n",
       "<h3>Value</h3>\n",
       "\n",
       "<p>for <code>aggr</code>, a list of class <code>\"aggr\"</code> containing the\n",
       "following components:\n",
       "</p>\n",
       "\n",
       "<ul>\n",
       "<li><p> x the data used.\n",
       "</p>\n",
       "</li>\n",
       "<li><p> combinations a character vector representing the combinations of\n",
       "variables.\n",
       "</p>\n",
       "</li>\n",
       "<li><p> count the frequencies of these combinations.\n",
       "</p>\n",
       "</li>\n",
       "<li><p> percent the percentage of these combinations.\n",
       "</p>\n",
       "</li>\n",
       "<li><p> missings a <code>data.frame</code> containing the amount of\n",
       "missing/imputed values in each variable.\n",
       "</p>\n",
       "</li>\n",
       "<li><p> tabcomb the indicator matrix for the combinations of variables.\n",
       "</p>\n",
       "</li></ul>\n",
       "\n",
       "<p>a list of class <code>\"summary.aggr\"</code> containing the following\n",
       "components:\n",
       "</p>\n",
       "\n",
       "<ul>\n",
       "<li><p> missings a <code>data.frame</code> containing the amount of missing or\n",
       "imputed values in each variable.\n",
       "</p>\n",
       "</li>\n",
       "<li><p> combinations a <code>data.frame</code> containing a character vector\n",
       "representing the combinations of variables along with their frequencies and\n",
       "percentages.\n",
       "</p>\n",
       "</li></ul>\n",
       "\n",
       "\n",
       "\n",
       "<h3>Note</h3>\n",
       "\n",
       "<p>Some of the argument names and positions have changed with version 1.3\n",
       "due to extended functionality and for more consistency with other plot\n",
       "functions in <code>VIM</code>.  For back compatibility, the arguments <code>labs</code>\n",
       "and <code>names.arg</code> can still be supplied to <code>...{}</code> and are handled\n",
       "correctly.  Nevertheless, they are deprecated and no longer documented.  Use\n",
       "<code>ylabs</code> and <code>labels</code> instead.\n",
       "</p>\n",
       "\n",
       "\n",
       "<h3>Author(s)</h3>\n",
       "\n",
       "<p>Andreas Alfons, Matthias Templ, modifications for displaying imputed\n",
       "values by Bernd Prantner\n",
       "</p>\n",
       "<p>Matthias Templ, modifications by Andreas Alfons and Bernd Prantner\n",
       "</p>\n",
       "<p>Matthias Templ, modifications by Andreas Alfons\n",
       "</p>\n",
       "<p>Andreas Alfons, modifications by Bernd Prantner\n",
       "</p>\n",
       "\n",
       "\n",
       "<h3>References</h3>\n",
       "\n",
       "<p>M. Templ, A. Alfons, P. Filzmoser (2012) Exploring incomplete\n",
       "data using visualization tools.  <em>Journal of Advances in Data Analysis\n",
       "and Classification</em>, Online first. DOI: 10.1007/s11634-011-0102-y.\n",
       "</p>\n",
       "\n",
       "\n",
       "<h3>See Also</h3>\n",
       "\n",
       "<p><code>print.aggr()</code>, <code>summary.aggr()</code>\n",
       "</p>\n",
       "<p><code>aggr()</code>\n",
       "</p>\n",
       "<p><code>print.summary.aggr()</code>, <code>aggr()</code>\n",
       "</p>\n",
       "<p><code>summary.aggr()</code>, <code>aggr()</code>\n",
       "</p>\n",
       "<p>Other plotting functions: \n",
       "<code>barMiss()</code>,\n",
       "<code>histMiss()</code>,\n",
       "<code>marginmatrix()</code>,\n",
       "<code>marginplot()</code>,\n",
       "<code>matrixplot()</code>,\n",
       "<code>mosaicMiss()</code>,\n",
       "<code>pairsVIM()</code>,\n",
       "<code>parcoordMiss()</code>,\n",
       "<code>pbox()</code>,\n",
       "<code>scattJitt()</code>,\n",
       "<code>scattMiss()</code>,\n",
       "<code>scattmatrixMiss()</code>,\n",
       "<code>spineMiss()</code>\n",
       "</p>\n",
       "\n",
       "\n",
       "<h3>Examples</h3>\n",
       "\n",
       "<pre><code class='language-R'>\n",
       "data(sleep, package=\"VIM\")\n",
       "## for missing values\n",
       "a &lt;- aggr(sleep)\n",
       "a\n",
       "summary(a)\n",
       "\n",
       "## for imputed values\n",
       "sleep_IMPUTED &lt;- kNN(sleep)\n",
       "a &lt;- aggr(sleep_IMPUTED, delimiter=\"_imp\")\n",
       "a\n",
       "summary(a)\n",
       "\n",
       "\n",
       "data(sleep, package = \"VIM\")\n",
       "a &lt;- aggr(sleep, plot=FALSE)\n",
       "a\n",
       "\n",
       "\n",
       "data(sleep, package = \"VIM\")\n",
       "summary(aggr(sleep, plot=FALSE))\n",
       "\n",
       "\n",
       "data(sleep, package = \"VIM\")\n",
       "s &lt;- summary(aggr(sleep, plot=FALSE))\n",
       "s\n",
       "\n",
       "</code></pre>\n",
       "\n",
       "<hr /><div style=\"text-align: center;\">[Package <em>VIM</em> version 6.2.2 ]</div>\n",
       "</div>"
      ],
      "text/latex": [
       "\\inputencoding{utf8}\n",
       "\\HeaderA{aggr}{Aggregations for missing/imputed values}{aggr}\n",
       "\\aliasA{plot.aggr}{aggr}{plot.aggr}\n",
       "\\aliasA{print.aggr}{aggr}{print.aggr}\n",
       "\\aliasA{print.summary.aggr}{aggr}{print.summary.aggr}\n",
       "\\aliasA{summary.aggr}{aggr}{summary.aggr}\n",
       "\\keyword{plotting functions}{aggr}\n",
       "\\keyword{hplot}{aggr}\n",
       "\\keyword{print}{aggr}\n",
       "%\n",
       "\\begin{Description}\n",
       "Calculate or plot the amount of missing/imputed values in each variable and\n",
       "the amount of missing/imputed values in certain combinations of variables.\n",
       "\n",
       "Print method for objects of class \\code{\"aggr\"}.\n",
       "\n",
       "Summary method for objects of class \\code{\"aggr\"}.\n",
       "\n",
       "Print method for objects of class \\code{\"summary.aggr\"}.\n",
       "\\end{Description}\n",
       "%\n",
       "\\begin{Usage}\n",
       "\\begin{verbatim}\n",
       "aggr(x, delimiter = NULL, plot = TRUE, ...)\n",
       "\n",
       "## S3 method for class 'aggr'\n",
       "plot(\n",
       "  x,\n",
       "  col = c(\"skyblue\", \"red\", \"orange\"),\n",
       "  bars = TRUE,\n",
       "  numbers = FALSE,\n",
       "  prop = TRUE,\n",
       "  combined = FALSE,\n",
       "  varheight = FALSE,\n",
       "  only.miss = FALSE,\n",
       "  border = par(\"fg\"),\n",
       "  sortVars = FALSE,\n",
       "  sortCombs = TRUE,\n",
       "  ylabs = NULL,\n",
       "  axes = TRUE,\n",
       "  labels = axes,\n",
       "  cex.lab = 1.2,\n",
       "  cex.axis = par(\"cex\"),\n",
       "  cex.numbers = par(\"cex\"),\n",
       "  gap = 4,\n",
       "  ...\n",
       ")\n",
       "\n",
       "## S3 method for class 'aggr'\n",
       "print(x, ..., digits = NULL)\n",
       "\n",
       "## S3 method for class 'aggr'\n",
       "summary(object, ...)\n",
       "\n",
       "## S3 method for class 'summary.aggr'\n",
       "print(x, ...)\n",
       "\\end{verbatim}\n",
       "\\end{Usage}\n",
       "%\n",
       "\\begin{Arguments}\n",
       "\\begin{ldescription}\n",
       "\\item[\\code{x}] an object of class \\code{\"summary.aggr\"}.\n",
       "\n",
       "\\item[\\code{delimiter}] a character-vector to distinguish between variables and\n",
       "imputation-indices for imputed variables (therefore, \\code{x} needs to have\n",
       "\\code{\\LinkA{colnames()}{colnames}}). If given, it is used to determine the corresponding\n",
       "imputation-index for any imputed variable (a logical-vector indicating which\n",
       "values of the variable have been imputed). If such imputation-indices are\n",
       "found, they are used for highlighting and the colors are adjusted according\n",
       "to the given colors for imputed variables (see \\code{col}).\n",
       "\n",
       "\\item[\\code{plot}] a logical indicating whether the results should be plotted (the\n",
       "default is \\code{TRUE}).\n",
       "\n",
       "\\item[\\code{...}] Further arguments, currently ignored.\n",
       "\n",
       "\\item[\\code{col}] a vector of length three giving the colors to be used for\n",
       "observed, missing and imputed data. If only one color is supplied, it is\n",
       "used for missing and imputed data and observed data is transparent. If only\n",
       "two colors are supplied, the first one is used for observed data and the\n",
       "second color is used for missing and imputed data.\n",
       "\n",
       "\\item[\\code{bars}] a logical indicating whether a small barplot for the frequencies\n",
       "of the different combinations should be drawn.\n",
       "\n",
       "\\item[\\code{numbers}] a logical indicating whether the proportion or frequencies of\n",
       "the different combinations should be represented by numbers.\n",
       "\n",
       "\\item[\\code{prop}] a logical indicating whether the proportion of missing/imputed\n",
       "values and combinations should be used rather than the total amount.\n",
       "\n",
       "\\item[\\code{combined}] a logical indicating whether the two plots should be\n",
       "combined.  If \\code{FALSE}, a separate barplot on the left hand side shows\n",
       "the amount of missing/imputed values in each variable.  If \\code{TRUE}, a\n",
       "small version of this barplot is drawn on top of the plot for the\n",
       "combinations of missing/imputed and non-missing values.  See\n",
       "``Details'' for more information.\n",
       "\n",
       "\\item[\\code{varheight}] a logical indicating whether the cell heights are given by\n",
       "the frequencies of occurrence of the corresponding combinations.\n",
       "\n",
       "\\item[\\code{only.miss}] a logical indicating whether the small barplot for the\n",
       "frequencies of the combinations should only be drawn for combinations\n",
       "including missing/imputed values (if \\code{bars} is \\code{TRUE}).  This is\n",
       "useful if most observations are complete, in which case the corresponding\n",
       "bar would dominate the barplot such that the remaining bars are too\n",
       "compressed.  The proportion or frequency of complete observations (as\n",
       "determined by \\code{prop}) is then represented by a number instead of a bar.\n",
       "\n",
       "\\item[\\code{border}] the color to be used for the border of the bars and\n",
       "rectangles.  Use \\code{border=NA} to omit borders.\n",
       "\n",
       "\\item[\\code{sortVars}] a logical indicating whether the variables should be sorted\n",
       "by the number of missing/imputed values.\n",
       "\n",
       "\\item[\\code{sortCombs}] a logical indicating whether the combinations should be\n",
       "sorted by the frequency of occurrence.\n",
       "\n",
       "\\item[\\code{ylabs}] if \\code{combined} is \\code{TRUE}, a character string giving\n",
       "the y-axis label of the combined plot, otherwise a character vector of\n",
       "length two giving the y-axis labels for the two plots.\n",
       "\n",
       "\\item[\\code{axes}] a logical indicating whether axes should be drawn.\n",
       "\n",
       "\\item[\\code{labels}] either a logical indicating whether labels should be plotted\n",
       "on the x-axis, or a character vector giving the labels.\n",
       "\n",
       "\\item[\\code{cex.lab}] the character expansion factor to be used for the axis\n",
       "labels.\n",
       "\n",
       "\\item[\\code{cex.axis}] the character expansion factor to be used for the axis\n",
       "annotation.\n",
       "\n",
       "\\item[\\code{cex.numbers}] the character expansion factor to be used for the\n",
       "proportion or frequencies of the different combinations\n",
       "\n",
       "\\item[\\code{gap}] if \\code{combined} is \\code{FALSE}, a numeric value giving the\n",
       "distance between the two plots in margin lines.\n",
       "\n",
       "\\item[\\code{digits}] the minimum number of significant digits to be used (see\n",
       "\\code{\\LinkA{print.default()}{print.default}}).\n",
       "\n",
       "\\item[\\code{object}] an object of class \\code{\"aggr\"}.\n",
       "\\end{ldescription}\n",
       "\\end{Arguments}\n",
       "%\n",
       "\\begin{Details}\n",
       "Often it is of interest how many missing/imputed values are contained in\n",
       "each variable.  Even more interesting, there may be certain combinations of\n",
       "variables with a high number of missing/imputed values.\n",
       "\n",
       "If \\code{combined} is \\code{FALSE}, two separate plots are drawn for the\n",
       "missing/imputed values in each variable and the combinations of\n",
       "missing/imputed and non-missing values. The barplot on the left hand side\n",
       "shows the amount of missing/imputed values in each variable.  In the\n",
       "\\emph{aggregation plot} on the right hand side, all existing combinations of\n",
       "missing/imputed and non-missing values in the observations are visualized.\n",
       "Available, missing and imputed data are color coded as given by \\code{col}.\n",
       "Additionally, there are two possibilities to represent the frequencies of\n",
       "occurrence of the different combinations.  The first option is to visualize\n",
       "the proportions or frequencies by a small bar plot and/or numbers.  The\n",
       "second option is to let the cell heights be given by the frequencies of the\n",
       "corresponding combinations. Furthermore, variables may be sorted by the\n",
       "number of missing/imputed values and combinations by the frequency of\n",
       "occurrence to give more power to finding the structure of missing/imputed\n",
       "values.\n",
       "\n",
       "If \\code{combined} is \\code{TRUE}, a small version of the barplot showing\n",
       "the amount of missing/imputed values in each variable is drawn on top of the\n",
       "aggregation plot.\n",
       "\n",
       "The graphical parameter \\code{oma} will be set unless supplied as an\n",
       "argument.\n",
       "\\end{Details}\n",
       "%\n",
       "\\begin{Value}\n",
       "for \\code{aggr}, a list of class \\code{\"aggr\"} containing the\n",
       "following components:\n",
       "\\begin{itemize}\n",
       "\n",
       "\\item{} x the data used.\n",
       "\\item{} combinations a character vector representing the combinations of\n",
       "variables.\n",
       "\\item{} count the frequencies of these combinations.\n",
       "\\item{} percent the percentage of these combinations.\n",
       "\\item{} missings a \\code{data.frame} containing the amount of\n",
       "missing/imputed values in each variable.\n",
       "\\item{} tabcomb the indicator matrix for the combinations of variables.\n",
       "\n",
       "\\end{itemize}\n",
       "\n",
       "\n",
       "a list of class \\code{\"summary.aggr\"} containing the following\n",
       "components:\n",
       "\\begin{itemize}\n",
       "\n",
       "\\item{} missings a \\code{data.frame} containing the amount of missing or\n",
       "imputed values in each variable.\n",
       "\\item{} combinations a \\code{data.frame} containing a character vector\n",
       "representing the combinations of variables along with their frequencies and\n",
       "percentages.\n",
       "\n",
       "\\end{itemize}\n",
       "\n",
       "\\end{Value}\n",
       "%\n",
       "\\begin{Note}\n",
       "Some of the argument names and positions have changed with version 1.3\n",
       "due to extended functionality and for more consistency with other plot\n",
       "functions in \\code{VIM}.  For back compatibility, the arguments \\code{labs}\n",
       "and \\code{names.arg} can still be supplied to \\code{...\\{\\}} and are handled\n",
       "correctly.  Nevertheless, they are deprecated and no longer documented.  Use\n",
       "\\code{ylabs} and \\code{labels} instead.\n",
       "\\end{Note}\n",
       "%\n",
       "\\begin{Author}\n",
       "Andreas Alfons, Matthias Templ, modifications for displaying imputed\n",
       "values by Bernd Prantner\n",
       "\n",
       "Matthias Templ, modifications by Andreas Alfons and Bernd Prantner\n",
       "\n",
       "Matthias Templ, modifications by Andreas Alfons\n",
       "\n",
       "Andreas Alfons, modifications by Bernd Prantner\n",
       "\\end{Author}\n",
       "%\n",
       "\\begin{References}\n",
       "M. Templ, A. Alfons, P. Filzmoser (2012) Exploring incomplete\n",
       "data using visualization tools.  \\emph{Journal of Advances in Data Analysis\n",
       "and Classification}, Online first. DOI: 10.1007/s11634-011-0102-y.\n",
       "\\end{References}\n",
       "%\n",
       "\\begin{SeeAlso}\n",
       "\\code{\\LinkA{print.aggr()}{print.aggr}}, \\code{\\LinkA{summary.aggr()}{summary.aggr}}\n",
       "\n",
       "\\code{\\LinkA{aggr()}{aggr}}\n",
       "\n",
       "\\code{\\LinkA{print.summary.aggr()}{print.summary.aggr}}, \\code{\\LinkA{aggr()}{aggr}}\n",
       "\n",
       "\\code{\\LinkA{summary.aggr()}{summary.aggr}}, \\code{\\LinkA{aggr()}{aggr}}\n",
       "\n",
       "Other plotting functions: \n",
       "\\code{\\LinkA{barMiss}{barMiss}()},\n",
       "\\code{\\LinkA{histMiss}{histMiss}()},\n",
       "\\code{\\LinkA{marginmatrix}{marginmatrix}()},\n",
       "\\code{\\LinkA{marginplot}{marginplot}()},\n",
       "\\code{\\LinkA{matrixplot}{matrixplot}()},\n",
       "\\code{\\LinkA{mosaicMiss}{mosaicMiss}()},\n",
       "\\code{\\LinkA{pairsVIM}{pairsVIM}()},\n",
       "\\code{\\LinkA{parcoordMiss}{parcoordMiss}()},\n",
       "\\code{\\LinkA{pbox}{pbox}()},\n",
       "\\code{\\LinkA{scattJitt}{scattJitt}()},\n",
       "\\code{\\LinkA{scattMiss}{scattMiss}()},\n",
       "\\code{\\LinkA{scattmatrixMiss}{scattmatrixMiss}()},\n",
       "\\code{\\LinkA{spineMiss}{spineMiss}()}\n",
       "\\end{SeeAlso}\n",
       "%\n",
       "\\begin{Examples}\n",
       "\\begin{ExampleCode}\n",
       "\n",
       "data(sleep, package=\"VIM\")\n",
       "## for missing values\n",
       "a <- aggr(sleep)\n",
       "a\n",
       "summary(a)\n",
       "\n",
       "## for imputed values\n",
       "sleep_IMPUTED <- kNN(sleep)\n",
       "a <- aggr(sleep_IMPUTED, delimiter=\"_imp\")\n",
       "a\n",
       "summary(a)\n",
       "\n",
       "\n",
       "data(sleep, package = \"VIM\")\n",
       "a <- aggr(sleep, plot=FALSE)\n",
       "a\n",
       "\n",
       "\n",
       "data(sleep, package = \"VIM\")\n",
       "summary(aggr(sleep, plot=FALSE))\n",
       "\n",
       "\n",
       "data(sleep, package = \"VIM\")\n",
       "s <- summary(aggr(sleep, plot=FALSE))\n",
       "s\n",
       "\n",
       "\\end{ExampleCode}\n",
       "\\end{Examples}"
      ],
      "text/plain": [
       "aggr                    package:VIM                    R Documentation\n",
       "\n",
       "_\bA_\bg_\bg_\br_\be_\bg_\ba_\bt_\bi_\bo_\bn_\bs _\bf_\bo_\br _\bm_\bi_\bs_\bs_\bi_\bn_\bg/_\bi_\bm_\bp_\bu_\bt_\be_\bd _\bv_\ba_\bl_\bu_\be_\bs\n",
       "\n",
       "_\bD_\be_\bs_\bc_\br_\bi_\bp_\bt_\bi_\bo_\bn:\n",
       "\n",
       "     Calculate or plot the amount of missing/imputed values in each\n",
       "     variable and the amount of missing/imputed values in certain\n",
       "     combinations of variables.\n",
       "\n",
       "     Print method for objects of class ‘\"aggr\"’.\n",
       "\n",
       "     Summary method for objects of class ‘\"aggr\"’.\n",
       "\n",
       "     Print method for objects of class ‘\"summary.aggr\"’.\n",
       "\n",
       "_\bU_\bs_\ba_\bg_\be:\n",
       "\n",
       "     aggr(x, delimiter = NULL, plot = TRUE, ...)\n",
       "     \n",
       "     ## S3 method for class 'aggr'\n",
       "     plot(\n",
       "       x,\n",
       "       col = c(\"skyblue\", \"red\", \"orange\"),\n",
       "       bars = TRUE,\n",
       "       numbers = FALSE,\n",
       "       prop = TRUE,\n",
       "       combined = FALSE,\n",
       "       varheight = FALSE,\n",
       "       only.miss = FALSE,\n",
       "       border = par(\"fg\"),\n",
       "       sortVars = FALSE,\n",
       "       sortCombs = TRUE,\n",
       "       ylabs = NULL,\n",
       "       axes = TRUE,\n",
       "       labels = axes,\n",
       "       cex.lab = 1.2,\n",
       "       cex.axis = par(\"cex\"),\n",
       "       cex.numbers = par(\"cex\"),\n",
       "       gap = 4,\n",
       "       ...\n",
       "     )\n",
       "     \n",
       "     ## S3 method for class 'aggr'\n",
       "     print(x, ..., digits = NULL)\n",
       "     \n",
       "     ## S3 method for class 'aggr'\n",
       "     summary(object, ...)\n",
       "     \n",
       "     ## S3 method for class 'summary.aggr'\n",
       "     print(x, ...)\n",
       "     \n",
       "_\bA_\br_\bg_\bu_\bm_\be_\bn_\bt_\bs:\n",
       "\n",
       "       x: an object of class ‘\"summary.aggr\"’.\n",
       "\n",
       "delimiter: a character-vector to distinguish between variables and\n",
       "          imputation-indices for imputed variables (therefore, ‘x’\n",
       "          needs to have ‘colnames()’). If given, it is used to\n",
       "          determine the corresponding imputation-index for any imputed\n",
       "          variable (a logical-vector indicating which values of the\n",
       "          variable have been imputed). If such imputation-indices are\n",
       "          found, they are used for highlighting and the colors are\n",
       "          adjusted according to the given colors for imputed variables\n",
       "          (see ‘col’).\n",
       "\n",
       "    plot: a logical indicating whether the results should be plotted\n",
       "          (the default is ‘TRUE’).\n",
       "\n",
       "     ...: Further arguments, currently ignored.\n",
       "\n",
       "     col: a vector of length three giving the colors to be used for\n",
       "          observed, missing and imputed data. If only one color is\n",
       "          supplied, it is used for missing and imputed data and\n",
       "          observed data is transparent. If only two colors are\n",
       "          supplied, the first one is used for observed data and the\n",
       "          second color is used for missing and imputed data.\n",
       "\n",
       "    bars: a logical indicating whether a small barplot for the\n",
       "          frequencies of the different combinations should be drawn.\n",
       "\n",
       " numbers: a logical indicating whether the proportion or frequencies of\n",
       "          the different combinations should be represented by numbers.\n",
       "\n",
       "    prop: a logical indicating whether the proportion of\n",
       "          missing/imputed values and combinations should be used rather\n",
       "          than the total amount.\n",
       "\n",
       "combined: a logical indicating whether the two plots should be\n",
       "          combined.  If ‘FALSE’, a separate barplot on the left hand\n",
       "          side shows the amount of missing/imputed values in each\n",
       "          variable.  If ‘TRUE’, a small version of this barplot is\n",
       "          drawn on top of the plot for the combinations of\n",
       "          missing/imputed and non-missing values.  See “Details” for\n",
       "          more information.\n",
       "\n",
       "varheight: a logical indicating whether the cell heights are given by\n",
       "          the frequencies of occurrence of the corresponding\n",
       "          combinations.\n",
       "\n",
       "only.miss: a logical indicating whether the small barplot for the\n",
       "          frequencies of the combinations should only be drawn for\n",
       "          combinations including missing/imputed values (if ‘bars’ is\n",
       "          ‘TRUE’).  This is useful if most observations are complete,\n",
       "          in which case the corresponding bar would dominate the\n",
       "          barplot such that the remaining bars are too compressed.  The\n",
       "          proportion or frequency of complete observations (as\n",
       "          determined by ‘prop’) is then represented by a number instead\n",
       "          of a bar.\n",
       "\n",
       "  border: the color to be used for the border of the bars and\n",
       "          rectangles.  Use ‘border=NA’ to omit borders.\n",
       "\n",
       "sortVars: a logical indicating whether the variables should be sorted\n",
       "          by the number of missing/imputed values.\n",
       "\n",
       "sortCombs: a logical indicating whether the combinations should be\n",
       "          sorted by the frequency of occurrence.\n",
       "\n",
       "   ylabs: if ‘combined’ is ‘TRUE’, a character string giving the y-axis\n",
       "          label of the combined plot, otherwise a character vector of\n",
       "          length two giving the y-axis labels for the two plots.\n",
       "\n",
       "    axes: a logical indicating whether axes should be drawn.\n",
       "\n",
       "  labels: either a logical indicating whether labels should be plotted\n",
       "          on the x-axis, or a character vector giving the labels.\n",
       "\n",
       " cex.lab: the character expansion factor to be used for the axis\n",
       "          labels.\n",
       "\n",
       "cex.axis: the character expansion factor to be used for the axis\n",
       "          annotation.\n",
       "\n",
       "cex.numbers: the character expansion factor to be used for the\n",
       "          proportion or frequencies of the different combinations\n",
       "\n",
       "     gap: if ‘combined’ is ‘FALSE’, a numeric value giving the distance\n",
       "          between the two plots in margin lines.\n",
       "\n",
       "  digits: the minimum number of significant digits to be used (see\n",
       "          ‘print.default()’).\n",
       "\n",
       "  object: an object of class ‘\"aggr\"’.\n",
       "\n",
       "_\bD_\be_\bt_\ba_\bi_\bl_\bs:\n",
       "\n",
       "     Often it is of interest how many missing/imputed values are\n",
       "     contained in each variable.  Even more interesting, there may be\n",
       "     certain combinations of variables with a high number of\n",
       "     missing/imputed values.\n",
       "\n",
       "     If ‘combined’ is ‘FALSE’, two separate plots are drawn for the\n",
       "     missing/imputed values in each variable and the combinations of\n",
       "     missing/imputed and non-missing values. The barplot on the left\n",
       "     hand side shows the amount of missing/imputed values in each\n",
       "     variable.  In the _aggregation plot_ on the right hand side, all\n",
       "     existing combinations of missing/imputed and non-missing values in\n",
       "     the observations are visualized. Available, missing and imputed\n",
       "     data are color coded as given by ‘col’. Additionally, there are\n",
       "     two possibilities to represent the frequencies of occurrence of\n",
       "     the different combinations.  The first option is to visualize the\n",
       "     proportions or frequencies by a small bar plot and/or numbers.\n",
       "     The second option is to let the cell heights be given by the\n",
       "     frequencies of the corresponding combinations. Furthermore,\n",
       "     variables may be sorted by the number of missing/imputed values\n",
       "     and combinations by the frequency of occurrence to give more power\n",
       "     to finding the structure of missing/imputed values.\n",
       "\n",
       "     If ‘combined’ is ‘TRUE’, a small version of the barplot showing\n",
       "     the amount of missing/imputed values in each variable is drawn on\n",
       "     top of the aggregation plot.\n",
       "\n",
       "     The graphical parameter ‘oma’ will be set unless supplied as an\n",
       "     argument.\n",
       "\n",
       "_\bV_\ba_\bl_\bu_\be:\n",
       "\n",
       "     for ‘aggr’, a list of class ‘\"aggr\"’ containing the following\n",
       "     components:\n",
       "\n",
       "        • x the data used.\n",
       "\n",
       "        • combinations a character vector representing the combinations\n",
       "          of variables.\n",
       "\n",
       "        • count the frequencies of these combinations.\n",
       "\n",
       "        • percent the percentage of these combinations.\n",
       "\n",
       "        • missings a ‘data.frame’ containing the amount of\n",
       "          missing/imputed values in each variable.\n",
       "\n",
       "        • tabcomb the indicator matrix for the combinations of\n",
       "          variables.\n",
       "\n",
       "     a list of class ‘\"summary.aggr\"’ containing the following\n",
       "     components:\n",
       "\n",
       "        • missings a ‘data.frame’ containing the amount of missing or\n",
       "          imputed values in each variable.\n",
       "\n",
       "        • combinations a ‘data.frame’ containing a character vector\n",
       "          representing the combinations of variables along with their\n",
       "          frequencies and percentages.\n",
       "\n",
       "_\bN_\bo_\bt_\be:\n",
       "\n",
       "     Some of the argument names and positions have changed with version\n",
       "     1.3 due to extended functionality and for more consistency with\n",
       "     other plot functions in ‘VIM’.  For back compatibility, the\n",
       "     arguments ‘labs’ and ‘names.arg’ can still be supplied to ‘...{}’\n",
       "     and are handled correctly.  Nevertheless, they are deprecated and\n",
       "     no longer documented.  Use ‘ylabs’ and ‘labels’ instead.\n",
       "\n",
       "_\bA_\bu_\bt_\bh_\bo_\br(_\bs):\n",
       "\n",
       "     Andreas Alfons, Matthias Templ, modifications for displaying\n",
       "     imputed values by Bernd Prantner\n",
       "\n",
       "     Matthias Templ, modifications by Andreas Alfons and Bernd Prantner\n",
       "\n",
       "     Matthias Templ, modifications by Andreas Alfons\n",
       "\n",
       "     Andreas Alfons, modifications by Bernd Prantner\n",
       "\n",
       "_\bR_\be_\bf_\be_\br_\be_\bn_\bc_\be_\bs:\n",
       "\n",
       "     M. Templ, A. Alfons, P. Filzmoser (2012) Exploring incomplete data\n",
       "     using visualization tools.  _Journal of Advances in Data Analysis\n",
       "     and Classification_, Online first. DOI: 10.1007/s11634-011-0102-y.\n",
       "\n",
       "_\bS_\be_\be _\bA_\bl_\bs_\bo:\n",
       "\n",
       "     ‘print.aggr()’, ‘summary.aggr()’\n",
       "\n",
       "     ‘aggr()’\n",
       "\n",
       "     ‘print.summary.aggr()’, ‘aggr()’\n",
       "\n",
       "     ‘summary.aggr()’, ‘aggr()’\n",
       "\n",
       "     Other plotting functions: ‘barMiss()’, ‘histMiss()’,\n",
       "     ‘marginmatrix()’, ‘marginplot()’, ‘matrixplot()’, ‘mosaicMiss()’,\n",
       "     ‘pairsVIM()’, ‘parcoordMiss()’, ‘pbox()’, ‘scattJitt()’,\n",
       "     ‘scattMiss()’, ‘scattmatrixMiss()’, ‘spineMiss()’\n",
       "\n",
       "_\bE_\bx_\ba_\bm_\bp_\bl_\be_\bs:\n",
       "\n",
       "     data(sleep, package=\"VIM\")\n",
       "     ## for missing values\n",
       "     a <- aggr(sleep)\n",
       "     a\n",
       "     summary(a)\n",
       "     \n",
       "     ## for imputed values\n",
       "     sleep_IMPUTED <- kNN(sleep)\n",
       "     a <- aggr(sleep_IMPUTED, delimiter=\"_imp\")\n",
       "     a\n",
       "     summary(a)\n",
       "     \n",
       "     \n",
       "     data(sleep, package = \"VIM\")\n",
       "     a <- aggr(sleep, plot=FALSE)\n",
       "     a\n",
       "     \n",
       "     \n",
       "     data(sleep, package = \"VIM\")\n",
       "     summary(aggr(sleep, plot=FALSE))\n",
       "     \n",
       "     \n",
       "     data(sleep, package = \"VIM\")\n",
       "     s <- summary(aggr(sleep, plot=FALSE))\n",
       "     s\n",
       "     "
      ]
     },
     "metadata": {},
     "output_type": "display_data"
    }
   ],
   "source": [
    "help(aggr)"
   ]
  },
  {
   "cell_type": "code",
   "execution_count": 88,
   "metadata": {},
   "outputs": [
    {
     "data": {
      "image/png": "[encoded data removed]",
      "text/plain": [
       "plot without title"
      ]
     },
     "metadata": {
      "image/png": {
       "height": 420,
       "width": 420
      }
     },
     "output_type": "display_data"
    }
   ],
   "source": [
    "library(ggplot2)\n",
    "ggplot(Xna, \n",
    "       aes(x = TEMPE, \n",
    "           y = MOCAGE)) + \n",
    "  geom_miss_point() + \n",
    "  facet_wrap(~STATION)+ \n",
    "  theme_dark()"
   ]
  },
  {
   "cell_type": "code",
   "execution_count": 89,
   "metadata": {
    "tags": []
   },
   "outputs": [
    {
     "name": "stderr",
     "output_type": "stream",
     "text": [
      "Warning message in fetch(key):\n",
      "“internal error -3 in R_decompress1”\n",
      "ERROR while rich displaying an object: Error in fetch(key): lazy-load database '/home/h_pham/R/libs/naniar/help/naniar.rdb' is corrupt\n",
      "\n",
      "Traceback:\n",
      "1. tryCatch(withCallingHandlers({\n",
      " .     if (!mime %in% names(repr::mime2repr)) \n",
      " .         stop(\"No repr_* for mimetype \", mime, \" in repr::mime2repr\")\n",
      " .     rpr <- repr::mime2repr[[mime]](obj)\n",
      " .     if (is.null(rpr)) \n",
      " .         return(NULL)\n",
      " .     prepare_content(is.raw(rpr), rpr)\n",
      " . }, error = error_handler), error = outer_handler)\n",
      "2. tryCatchList(expr, classes, parentenv, handlers)\n",
      "3. tryCatchOne(expr, names, parentenv, handlers[[1L]])\n",
      "4. doTryCatch(return(expr), name, parentenv, handler)\n",
      "5. withCallingHandlers({\n",
      " .     if (!mime %in% names(repr::mime2repr)) \n",
      " .         stop(\"No repr_* for mimetype \", mime, \" in repr::mime2repr\")\n",
      " .     rpr <- repr::mime2repr[[mime]](obj)\n",
      " .     if (is.null(rpr)) \n",
      " .         return(NULL)\n",
      " .     prepare_content(is.raw(rpr), rpr)\n",
      " . }, error = error_handler)\n",
      "6. repr::mime2repr[[mime]](obj)\n",
      "7. repr_text.help_files_with_topic(obj)\n",
      "8. repr_help_files_with_topic_generic(obj, Rd2txt)\n",
      "9. get_help_file(file)\n",
      "10. fetch_rd_db(rd_db, basename(file))\n",
      "11. lazyLoadDBexec(filebase, fun)\n",
      "12. fun(environment())\n",
      "13. fetch(key)\n"
     ]
    }
   ],
   "source": [
    "help(geom_miss_point)"
   ]
  },
  {
   "cell_type": "markdown",
   "metadata": {},
   "source": [
    "\n",
    "\n",
    "## Comparaison de méthodes d'imputation sur données quantitatives ###\n",
    "\n",
    "On conserve seulement les variables quantitatives pour comparer diverses méthodes d'imputation.\n",
    "\n",
    "On compare les différentes méthodes de complétion sur la **variable Temperature**\n"
   ]
  },
  {
   "cell_type": "code",
   "execution_count": 90,
   "metadata": {},
   "outputs": [],
   "source": [
    "#Tableau des données quantitatives\n",
    "#\n",
    "Xnaquanti=Xna[,-c(1,4)]\n",
    "Xquanti=X[,-c(1,4)]\n",
    "ind.na=which(is.na(Xnaquanti),arr.ind=TRUE)\n",
    "ind.na.Temp=which(is.na(Xnaquanti[,2]),arr.ind=TRUE)\n",
    "ind.na.Mocage=which(is.na(Xnaquanti[,1]),arr.ind=TRUE)"
   ]
  },
  {
   "cell_type": "markdown",
   "metadata": {},
   "source": [
    "### Complétion par la dernière valeur connue (LOCF) ####"
   ]
  },
  {
   "cell_type": "code",
   "execution_count": 136,
   "metadata": {
    "tags": []
   },
   "outputs": [
    {
     "data": {
      "text/html": [
       "\n",
       "<table style=\"width: 100%;\"><tr><td>na.locf {zoo}</td><td style=\"text-align: right;\">R Documentation</td></tr></table>\n",
       "\n",
       "<h2 id='na.locf'>Last Observation Carried Forward</h2>\n",
       "\n",
       "<h3>Description</h3>\n",
       "\n",
       "<p>Generic function for replacing each <code>NA</code> with the most recent\n",
       "non-<code>NA</code> prior to it.\n",
       "</p>\n",
       "\n",
       "\n",
       "<h3>Usage</h3>\n",
       "\n",
       "<pre><code class='language-R'>na.locf(object, na.rm = TRUE, ...)\n",
       "## Default S3 method:\n",
       "na.locf(object, na.rm = TRUE, fromLast, rev,\n",
       "        maxgap = Inf, rule = 2, ...)\n",
       "\n",
       "na.locf0(object, fromLast = FALSE, maxgap = Inf, coredata = NULL)\n",
       "</code></pre>\n",
       "\n",
       "\n",
       "<h3>Arguments</h3>\n",
       "\n",
       "<table>\n",
       "<tr><td><code id=\"na.locf_:_object\">object</code></td>\n",
       "<td>\n",
       "<p>an object.</p>\n",
       "</td></tr>\n",
       "<tr><td><code id=\"na.locf_:_na.rm\">na.rm</code></td>\n",
       "<td>\n",
       "<p>logical. Should leading <code>NA</code>s be removed?</p>\n",
       "</td></tr>\n",
       "<tr><td><code id=\"na.locf_:_fromLast\">fromLast</code></td>\n",
       "<td>\n",
       "<p>logical. Causes observations to be carried backward rather\n",
       "than forward.  Default is <code>FALSE</code>. With a value of <code>TRUE</code>\n",
       "this corresponds to NOCB (next observation carried backward).\n",
       "It is not supported if <code>x</code> or <code>xout</code> is specified.</p>\n",
       "</td></tr>\n",
       "<tr><td><code id=\"na.locf_:_rev\">rev</code></td>\n",
       "<td>\n",
       "<p>Use <code>fromLast</code> instead.  This argument will\n",
       "be eliminated in the future in favor of <code>fromLast</code>.</p>\n",
       "</td></tr>\n",
       "<tr><td><code id=\"na.locf_:_maxgap\">maxgap</code></td>\n",
       "<td>\n",
       "<p>Runs of more than <code>maxgap</code> <code>NA</code>s are retained,\n",
       "other <code>NA</code>s are removed and the last occurrence in the resulting series\n",
       "prior to each time point in <code>xout</code> is used as that time point's output value.\n",
       "(If <code>xout</code> is not specified this reduces to retaining runs of more than\n",
       "<code>maxgap</code> <code>NA</code>s while filling other <code>NA</code>s with the last\n",
       "occurrence of a non-<code>NA</code>.)</p>\n",
       "</td></tr>\n",
       "<tr><td><code id=\"na.locf_:_rule\">rule</code></td>\n",
       "<td>\n",
       "<p>See <code>approx</code>.</p>\n",
       "</td></tr>\n",
       "<tr><td><code id=\"na.locf_:_...\">...</code></td>\n",
       "<td>\n",
       "<p>further arguments passed to methods.</p>\n",
       "</td></tr>\n",
       "<tr><td><code id=\"na.locf_:_coredata\">coredata</code></td>\n",
       "<td>\n",
       "<p>logical. Should LOCF be applied to the core data\n",
       "of a (time series) object and then assigned to the original object\n",
       "again? By default, this strategy is applied to time series classes\n",
       "(e.g., <code>ts</code>, <code>zoo</code>, <code>xts</code>, etc.) where it preserves\n",
       "the time index.</p>\n",
       "</td></tr>\n",
       "</table>\n",
       "\n",
       "\n",
       "<h3>Value</h3>\n",
       "\n",
       "<p>An object in which each <code>NA</code> in the input object is replaced\n",
       "by the most recent non-<code>NA</code> prior to it.  If there are no earlier non-<code>NA</code>s then \n",
       "the <code>NA</code> is omitted (if <code>na.rm = TRUE</code>) or it is not replaced (if <code>na.rm = FALSE</code>).  \n",
       "</p>\n",
       "<p>The arguments <code>x</code> and <code>xout</code> can be used in which case they have\n",
       "the same meaning as in <code>approx</code>.\n",
       "</p>\n",
       "<p>Note that if a multi-column zoo object has a column entirely composed of\n",
       "<code>NA</code> then with <code>na.rm = TRUE</code>, the default,\n",
       "the above implies that the resulting object will have\n",
       "zero rows. Use <code>na.rm = FALSE</code> to preserve the <code>NA</code> values instead.\n",
       "</p>\n",
       "<p>The function <code>na.locf0</code> is the workhorse function underlying the default\n",
       "<code>na.locf</code> method. It has more limited capabilities but is faster for the\n",
       "special cases it covers. Implicitly, it uses <code>na.rm=FALSE</code>.\n",
       "</p>\n",
       "\n",
       "\n",
       "<h3>See Also</h3>\n",
       "\n",
       "<p><code>zoo</code></p>\n",
       "\n",
       "\n",
       "<h3>Examples</h3>\n",
       "\n",
       "<pre><code class='language-R'>az &lt;- zoo(1:6)\n",
       "\n",
       "bz &lt;- zoo(c(2,NA,1,4,5,2))\n",
       "na.locf(bz)\n",
       "na.locf(bz, fromLast = TRUE)\n",
       "\n",
       "cz &lt;- zoo(c(NA,9,3,2,3,2))\n",
       "na.locf(cz)\n",
       "\n",
       "# generate and fill in missing dates\n",
       "z &lt;- zoo(c(0.007306621, 0.007659046, 0.007681013,\n",
       "\t0.007817548, 0.007847579, 0.007867313),\n",
       "\tas.Date(c(\"1993-01-01\", \"1993-01-09\", \"1993-01-16\",\n",
       "\t\"1993-01-23\", \"1993-01-30\", \"1993-02-06\")))\n",
       "g &lt;- seq(start(z), end(z), \"day\")\n",
       "na.locf(z, xout = g)\n",
       "\n",
       "# similar but use a 2 second grid\n",
       "\n",
       "z &lt;- zoo(1:9, as.POSIXct(c(\"2010-01-04 09:30:02\", \"2010-01-04 09:30:06\",\n",
       " \"2010-01-04 09:30:07\", \"2010-01-04 09:30:08\", \"2010-01-04 09:30:09\", \n",
       " \"2010-01-04 09:30:10\", \"2010-01-04 09:30:11\", \"2010-01-04 09:30:13\",\n",
       " \"2010-01-04 09:30:14\")))\n",
       "\n",
       "g &lt;- seq(start(z), end(z), by = \"2 sec\")\n",
       "na.locf(z, xout = g)\n",
       "\n",
       "## get 5th of every month or most recent date prior to 5th if 5th missing.\n",
       "## Result has index of the date actually used.\n",
       "\n",
       "z &lt;- zoo(c(1311.56, 1309.04, 1295.5, 1296.6, 1286.57, 1288.12, \n",
       "1289.12, 1289.12, 1285.33, 1307.65, 1309.93, 1311.46, 1311.28, \n",
       "1308.11, 1301.74, 1305.41, 1309.72, 1310.61, 1305.19, 1313.21, \n",
       "1307.85, 1312.25, 1325.76), as.Date(c(13242, 13244, \n",
       "13245, 13248, 13249, 13250, 13251, 13252, 13255, 13256, 13257, \n",
       "13258, 13259, 13262, 13263, 13264, 13265, 13266, 13269, 13270, \n",
       "13271, 13272, 13274)))\n",
       "\n",
       "# z.na is same as z but with missing days added (with NAs)\n",
       "# It is formed by merging z with a zero with series having all the dates.\n",
       "\n",
       "rng &lt;- range(time(z))\n",
       "z.na &lt;- merge(z, zoo(, seq(rng[1], rng[2], by = \"day\")))\n",
       "\n",
       "# use na.locf to bring values forward picking off 5th of month\n",
       "na.locf(z.na)[as.POSIXlt(time(z.na))$mday == 5]\n",
       "\n",
       "## this is the same as the last one except instead of always using the\n",
       "## 5th of month in the result we show the date actually used\n",
       "\n",
       "# idx has NAs wherever z.na does but has 1, 2, 3, ... instead of\n",
       "# z.na's data values (so idx can be used for indexing)\n",
       "\n",
       "idx &lt;- coredata(na.locf(seq_along(z.na) + (0 * z.na)))\n",
       "\n",
       "# pick off those elements of z.na that correspond to 5th\n",
       "\n",
       "z.na[idx[as.POSIXlt(time(z.na))$mday == 5]]\n",
       "\n",
       "## only fill single-day gaps\n",
       "\n",
       "merge(z.na, filled1 = na.locf(z.na, maxgap = 1))\n",
       "\n",
       "## fill NAs in first column by inflating the most recent non-NA\n",
       "## by the growth in second column.  Note that elements of x-x\n",
       "## are NA if the corresponding element of x is NA and zero else\n",
       "\n",
       "m &lt;- zoo(cbind(c(1, 2, NA, NA, 5, NA, NA), seq(7)^2), as.Date(1:7))\n",
       "\n",
       "r &lt;- na.locf(m[,1]) * m[,2] / na.locf(m[,2] + (m[,1]-m[,1]))\n",
       "cbind(V1 = r, V2 = m[,2])\n",
       "\n",
       "## repeat a quarterly value every month\n",
       "## preserving NAs\n",
       "zq &lt;- zoo(c(1, NA, 3, 4), as.yearqtr(2000) + 0:3/4)\n",
       "tt &lt;- as.yearmon(start(zq)) + seq(0, len = 3 * length(zq))/12\n",
       "na.locf(zq, xout = tt, maxgap = 0)\n",
       "\n",
       "## na.locf() can also be mimicked with ave()\n",
       "x &lt;- c(NA, 10, NA, NA, 20, NA)\n",
       "f &lt;- function(x) x[1]\n",
       "ave(x, cumsum(!is.na(x)), FUN = f)\n",
       "\n",
       "## by replacing f() with other functions various generalizations can be\n",
       "## obtained, e.g.,\n",
       "f &lt;- function(x) if (length(x) &gt; 3) x else x[1]  # like maxgap\n",
       "f &lt;- function(x) replace(x, 1:min(length(x)), 3) # replace up to 2 NAs\n",
       "f &lt;- function(x) if (!is.na(x[1]) &amp;&amp; x[1] &gt; 0) x[1] else x  # only positve numbers\n",
       "</code></pre>\n",
       "\n",
       "<hr /><div style=\"text-align: center;\">[Package <em>zoo</em> version 1.8-11 ]</div>\n",
       "</div>"
      ],
      "text/latex": [
       "\\inputencoding{utf8}\n",
       "\\HeaderA{na.locf}{Last Observation Carried Forward}{na.locf}\n",
       "\\methaliasA{na.locf.data.frame}{na.locf}{na.locf.data.frame}\n",
       "\\methaliasA{na.locf.default}{na.locf}{na.locf.default}\n",
       "\\methaliasA{na.locf.list}{na.locf}{na.locf.list}\n",
       "\\aliasA{na.locf0}{na.locf}{na.locf0}\n",
       "\\keyword{ts}{na.locf}\n",
       "%\n",
       "\\begin{Description}\n",
       "Generic function for replacing each \\code{NA} with the most recent\n",
       "non-\\code{NA} prior to it.\n",
       "\\end{Description}\n",
       "%\n",
       "\\begin{Usage}\n",
       "\\begin{verbatim}\n",
       "na.locf(object, na.rm = TRUE, ...)\n",
       "## Default S3 method:\n",
       "na.locf(object, na.rm = TRUE, fromLast, rev,\n",
       "        maxgap = Inf, rule = 2, ...)\n",
       "\n",
       "na.locf0(object, fromLast = FALSE, maxgap = Inf, coredata = NULL)\n",
       "\\end{verbatim}\n",
       "\\end{Usage}\n",
       "%\n",
       "\\begin{Arguments}\n",
       "\\begin{ldescription}\n",
       "\\item[\\code{object}] an object.\n",
       "\\item[\\code{na.rm}] logical. Should leading \\code{NA}s be removed?\n",
       "\\item[\\code{fromLast}] logical. Causes observations to be carried backward rather\n",
       "than forward.  Default is \\code{FALSE}. With a value of \\code{TRUE}\n",
       "this corresponds to NOCB (next observation carried backward).\n",
       "It is not supported if \\code{x} or \\code{xout} is specified.\n",
       "\\item[\\code{rev}] Use \\code{fromLast} instead.  This argument will\n",
       "be eliminated in the future in favor of \\code{fromLast}.\n",
       "\\item[\\code{maxgap}] Runs of more than \\code{maxgap} \\code{NA}s are retained,\n",
       "other \\code{NA}s are removed and the last occurrence in the resulting series\n",
       "prior to each time point in \\code{xout} is used as that time point's output value.\n",
       "(If \\code{xout} is not specified this reduces to retaining runs of more than\n",
       "\\code{maxgap} \\code{NA}s while filling other \\code{NA}s with the last\n",
       "occurrence of a non-\\code{NA}.)\n",
       "\\item[\\code{rule}] See \\code{\\LinkA{approx}{approx}}.\n",
       "\\item[\\code{...}] further arguments passed to methods.\n",
       "\\item[\\code{coredata}] logical. Should LOCF be applied to the core data\n",
       "of a (time series) object and then assigned to the original object\n",
       "again? By default, this strategy is applied to time series classes\n",
       "(e.g., \\code{ts}, \\code{zoo}, \\code{xts}, etc.) where it preserves\n",
       "the time index.\n",
       "\\end{ldescription}\n",
       "\\end{Arguments}\n",
       "%\n",
       "\\begin{Value}\n",
       "An object in which each \\code{NA} in the input object is replaced\n",
       "by the most recent non-\\code{NA} prior to it.  If there are no earlier non-\\code{NA}s then \n",
       "the \\code{NA} is omitted (if \\code{na.rm = TRUE}) or it is not replaced (if \\code{na.rm = FALSE}).  \n",
       "\n",
       "The arguments \\code{x} and \\code{xout} can be used in which case they have\n",
       "the same meaning as in \\code{\\LinkA{approx}{approx}}.\n",
       "\n",
       "Note that if a multi-column zoo object has a column entirely composed of\n",
       "\\code{NA} then with \\code{na.rm = TRUE}, the default,\n",
       "the above implies that the resulting object will have\n",
       "zero rows. Use \\code{na.rm = FALSE} to preserve the \\code{NA} values instead.\n",
       "\n",
       "The function \\code{na.locf0} is the workhorse function underlying the default\n",
       "\\code{na.locf} method. It has more limited capabilities but is faster for the\n",
       "special cases it covers. Implicitly, it uses \\code{na.rm=FALSE}.\n",
       "\\end{Value}\n",
       "%\n",
       "\\begin{SeeAlso}\n",
       "\\code{\\LinkA{zoo}{zoo}}\n",
       "\\end{SeeAlso}\n",
       "%\n",
       "\\begin{Examples}\n",
       "\\begin{ExampleCode}\n",
       "az <- zoo(1:6)\n",
       "\n",
       "bz <- zoo(c(2,NA,1,4,5,2))\n",
       "na.locf(bz)\n",
       "na.locf(bz, fromLast = TRUE)\n",
       "\n",
       "cz <- zoo(c(NA,9,3,2,3,2))\n",
       "na.locf(cz)\n",
       "\n",
       "# generate and fill in missing dates\n",
       "z <- zoo(c(0.007306621, 0.007659046, 0.007681013,\n",
       "\t0.007817548, 0.007847579, 0.007867313),\n",
       "\tas.Date(c(\"1993-01-01\", \"1993-01-09\", \"1993-01-16\",\n",
       "\t\"1993-01-23\", \"1993-01-30\", \"1993-02-06\")))\n",
       "g <- seq(start(z), end(z), \"day\")\n",
       "na.locf(z, xout = g)\n",
       "\n",
       "# similar but use a 2 second grid\n",
       "\n",
       "z <- zoo(1:9, as.POSIXct(c(\"2010-01-04 09:30:02\", \"2010-01-04 09:30:06\",\n",
       " \"2010-01-04 09:30:07\", \"2010-01-04 09:30:08\", \"2010-01-04 09:30:09\", \n",
       " \"2010-01-04 09:30:10\", \"2010-01-04 09:30:11\", \"2010-01-04 09:30:13\",\n",
       " \"2010-01-04 09:30:14\")))\n",
       "\n",
       "g <- seq(start(z), end(z), by = \"2 sec\")\n",
       "na.locf(z, xout = g)\n",
       "\n",
       "## get 5th of every month or most recent date prior to 5th if 5th missing.\n",
       "## Result has index of the date actually used.\n",
       "\n",
       "z <- zoo(c(1311.56, 1309.04, 1295.5, 1296.6, 1286.57, 1288.12, \n",
       "1289.12, 1289.12, 1285.33, 1307.65, 1309.93, 1311.46, 1311.28, \n",
       "1308.11, 1301.74, 1305.41, 1309.72, 1310.61, 1305.19, 1313.21, \n",
       "1307.85, 1312.25, 1325.76), as.Date(c(13242, 13244, \n",
       "13245, 13248, 13249, 13250, 13251, 13252, 13255, 13256, 13257, \n",
       "13258, 13259, 13262, 13263, 13264, 13265, 13266, 13269, 13270, \n",
       "13271, 13272, 13274)))\n",
       "\n",
       "# z.na is same as z but with missing days added (with NAs)\n",
       "# It is formed by merging z with a zero with series having all the dates.\n",
       "\n",
       "rng <- range(time(z))\n",
       "z.na <- merge(z, zoo(, seq(rng[1], rng[2], by = \"day\")))\n",
       "\n",
       "# use na.locf to bring values forward picking off 5th of month\n",
       "na.locf(z.na)[as.POSIXlt(time(z.na))$mday == 5]\n",
       "\n",
       "## this is the same as the last one except instead of always using the\n",
       "## 5th of month in the result we show the date actually used\n",
       "\n",
       "# idx has NAs wherever z.na does but has 1, 2, 3, ... instead of\n",
       "# z.na's data values (so idx can be used for indexing)\n",
       "\n",
       "idx <- coredata(na.locf(seq_along(z.na) + (0 * z.na)))\n",
       "\n",
       "# pick off those elements of z.na that correspond to 5th\n",
       "\n",
       "z.na[idx[as.POSIXlt(time(z.na))$mday == 5]]\n",
       "\n",
       "## only fill single-day gaps\n",
       "\n",
       "merge(z.na, filled1 = na.locf(z.na, maxgap = 1))\n",
       "\n",
       "## fill NAs in first column by inflating the most recent non-NA\n",
       "## by the growth in second column.  Note that elements of x-x\n",
       "## are NA if the corresponding element of x is NA and zero else\n",
       "\n",
       "m <- zoo(cbind(c(1, 2, NA, NA, 5, NA, NA), seq(7)^2), as.Date(1:7))\n",
       "\n",
       "r <- na.locf(m[,1]) * m[,2] / na.locf(m[,2] + (m[,1]-m[,1]))\n",
       "cbind(V1 = r, V2 = m[,2])\n",
       "\n",
       "## repeat a quarterly value every month\n",
       "## preserving NAs\n",
       "zq <- zoo(c(1, NA, 3, 4), as.yearqtr(2000) + 0:3/4)\n",
       "tt <- as.yearmon(start(zq)) + seq(0, len = 3 * length(zq))/12\n",
       "na.locf(zq, xout = tt, maxgap = 0)\n",
       "\n",
       "## na.locf() can also be mimicked with ave()\n",
       "x <- c(NA, 10, NA, NA, 20, NA)\n",
       "f <- function(x) x[1]\n",
       "ave(x, cumsum(!is.na(x)), FUN = f)\n",
       "\n",
       "## by replacing f() with other functions various generalizations can be\n",
       "## obtained, e.g.,\n",
       "f <- function(x) if (length(x) > 3) x else x[1]  # like maxgap\n",
       "f <- function(x) replace(x, 1:min(length(x)), 3) # replace up to 2 NAs\n",
       "f <- function(x) if (!is.na(x[1]) && x[1] > 0) x[1] else x  # only positve numbers\n",
       "\\end{ExampleCode}\n",
       "\\end{Examples}"
      ],
      "text/plain": [
       "na.locf                  package:zoo                   R Documentation\n",
       "\n",
       "_\bL_\ba_\bs_\bt _\bO_\bb_\bs_\be_\br_\bv_\ba_\bt_\bi_\bo_\bn _\bC_\ba_\br_\br_\bi_\be_\bd _\bF_\bo_\br_\bw_\ba_\br_\bd\n",
       "\n",
       "_\bD_\be_\bs_\bc_\br_\bi_\bp_\bt_\bi_\bo_\bn:\n",
       "\n",
       "     Generic function for replacing each ‘NA’ with the most recent\n",
       "     non-‘NA’ prior to it.\n",
       "\n",
       "_\bU_\bs_\ba_\bg_\be:\n",
       "\n",
       "     na.locf(object, na.rm = TRUE, ...)\n",
       "     ## Default S3 method:\n",
       "     na.locf(object, na.rm = TRUE, fromLast, rev,\n",
       "             maxgap = Inf, rule = 2, ...)\n",
       "     \n",
       "     na.locf0(object, fromLast = FALSE, maxgap = Inf, coredata = NULL)\n",
       "     \n",
       "_\bA_\br_\bg_\bu_\bm_\be_\bn_\bt_\bs:\n",
       "\n",
       "  object: an object.\n",
       "\n",
       "   na.rm: logical. Should leading ‘NA’s be removed?\n",
       "\n",
       "fromLast: logical. Causes observations to be carried backward rather\n",
       "          than forward.  Default is ‘FALSE’. With a value of ‘TRUE’\n",
       "          this corresponds to NOCB (next observation carried backward).\n",
       "          It is not supported if ‘x’ or ‘xout’ is specified.\n",
       "\n",
       "     rev: Use ‘fromLast’ instead.  This argument will be eliminated in\n",
       "          the future in favor of ‘fromLast’.\n",
       "\n",
       "  maxgap: Runs of more than ‘maxgap’ ‘NA’s are retained, other ‘NA’s\n",
       "          are removed and the last occurrence in the resulting series\n",
       "          prior to each time point in ‘xout’ is used as that time\n",
       "          point's output value.  (If ‘xout’ is not specified this\n",
       "          reduces to retaining runs of more than ‘maxgap’ ‘NA’s while\n",
       "          filling other ‘NA’s with the last occurrence of a non-‘NA’.)\n",
       "\n",
       "    rule: See ‘approx’.\n",
       "\n",
       "     ...: further arguments passed to methods.\n",
       "\n",
       "coredata: logical. Should LOCF be applied to the core data of a (time\n",
       "          series) object and then assigned to the original object\n",
       "          again? By default, this strategy is applied to time series\n",
       "          classes (e.g., ‘ts’, ‘zoo’, ‘xts’, etc.) where it preserves\n",
       "          the time index.\n",
       "\n",
       "_\bV_\ba_\bl_\bu_\be:\n",
       "\n",
       "     An object in which each ‘NA’ in the input object is replaced by\n",
       "     the most recent non-‘NA’ prior to it.  If there are no earlier\n",
       "     non-‘NA’s then the ‘NA’ is omitted (if ‘na.rm = TRUE’) or it is\n",
       "     not replaced (if ‘na.rm = FALSE’).\n",
       "\n",
       "     The arguments ‘x’ and ‘xout’ can be used in which case they have\n",
       "     the same meaning as in ‘approx’.\n",
       "\n",
       "     Note that if a multi-column zoo object has a column entirely\n",
       "     composed of ‘NA’ then with ‘na.rm = TRUE’, the default, the above\n",
       "     implies that the resulting object will have zero rows. Use ‘na.rm\n",
       "     = FALSE’ to preserve the ‘NA’ values instead.\n",
       "\n",
       "     The function ‘na.locf0’ is the workhorse function underlying the\n",
       "     default ‘na.locf’ method. It has more limited capabilities but is\n",
       "     faster for the special cases it covers. Implicitly, it uses\n",
       "     ‘na.rm=FALSE’.\n",
       "\n",
       "_\bS_\be_\be _\bA_\bl_\bs_\bo:\n",
       "\n",
       "     ‘zoo’\n",
       "\n",
       "_\bE_\bx_\ba_\bm_\bp_\bl_\be_\bs:\n",
       "\n",
       "     az <- zoo(1:6)\n",
       "     \n",
       "     bz <- zoo(c(2,NA,1,4,5,2))\n",
       "     na.locf(bz)\n",
       "     na.locf(bz, fromLast = TRUE)\n",
       "     \n",
       "     cz <- zoo(c(NA,9,3,2,3,2))\n",
       "     na.locf(cz)\n",
       "     \n",
       "     # generate and fill in missing dates\n",
       "     z <- zoo(c(0.007306621, 0.007659046, 0.007681013,\n",
       "             0.007817548, 0.007847579, 0.007867313),\n",
       "             as.Date(c(\"1993-01-01\", \"1993-01-09\", \"1993-01-16\",\n",
       "             \"1993-01-23\", \"1993-01-30\", \"1993-02-06\")))\n",
       "     g <- seq(start(z), end(z), \"day\")\n",
       "     na.locf(z, xout = g)\n",
       "     \n",
       "     # similar but use a 2 second grid\n",
       "     \n",
       "     z <- zoo(1:9, as.POSIXct(c(\"2010-01-04 09:30:02\", \"2010-01-04 09:30:06\",\n",
       "      \"2010-01-04 09:30:07\", \"2010-01-04 09:30:08\", \"2010-01-04 09:30:09\", \n",
       "      \"2010-01-04 09:30:10\", \"2010-01-04 09:30:11\", \"2010-01-04 09:30:13\",\n",
       "      \"2010-01-04 09:30:14\")))\n",
       "     \n",
       "     g <- seq(start(z), end(z), by = \"2 sec\")\n",
       "     na.locf(z, xout = g)\n",
       "     \n",
       "     ## get 5th of every month or most recent date prior to 5th if 5th missing.\n",
       "     ## Result has index of the date actually used.\n",
       "     \n",
       "     z <- zoo(c(1311.56, 1309.04, 1295.5, 1296.6, 1286.57, 1288.12, \n",
       "     1289.12, 1289.12, 1285.33, 1307.65, 1309.93, 1311.46, 1311.28, \n",
       "     1308.11, 1301.74, 1305.41, 1309.72, 1310.61, 1305.19, 1313.21, \n",
       "     1307.85, 1312.25, 1325.76), as.Date(c(13242, 13244, \n",
       "     13245, 13248, 13249, 13250, 13251, 13252, 13255, 13256, 13257, \n",
       "     13258, 13259, 13262, 13263, 13264, 13265, 13266, 13269, 13270, \n",
       "     13271, 13272, 13274)))\n",
       "     \n",
       "     # z.na is same as z but with missing days added (with NAs)\n",
       "     # It is formed by merging z with a zero with series having all the dates.\n",
       "     \n",
       "     rng <- range(time(z))\n",
       "     z.na <- merge(z, zoo(, seq(rng[1], rng[2], by = \"day\")))\n",
       "     \n",
       "     # use na.locf to bring values forward picking off 5th of month\n",
       "     na.locf(z.na)[as.POSIXlt(time(z.na))$mday == 5]\n",
       "     \n",
       "     ## this is the same as the last one except instead of always using the\n",
       "     ## 5th of month in the result we show the date actually used\n",
       "     \n",
       "     # idx has NAs wherever z.na does but has 1, 2, 3, ... instead of\n",
       "     # z.na's data values (so idx can be used for indexing)\n",
       "     \n",
       "     idx <- coredata(na.locf(seq_along(z.na) + (0 * z.na)))\n",
       "     \n",
       "     # pick off those elements of z.na that correspond to 5th\n",
       "     \n",
       "     z.na[idx[as.POSIXlt(time(z.na))$mday == 5]]\n",
       "     \n",
       "     ## only fill single-day gaps\n",
       "     \n",
       "     merge(z.na, filled1 = na.locf(z.na, maxgap = 1))\n",
       "     \n",
       "     ## fill NAs in first column by inflating the most recent non-NA\n",
       "     ## by the growth in second column.  Note that elements of x-x\n",
       "     ## are NA if the corresponding element of x is NA and zero else\n",
       "     \n",
       "     m <- zoo(cbind(c(1, 2, NA, NA, 5, NA, NA), seq(7)^2), as.Date(1:7))\n",
       "     \n",
       "     r <- na.locf(m[,1]) * m[,2] / na.locf(m[,2] + (m[,1]-m[,1]))\n",
       "     cbind(V1 = r, V2 = m[,2])\n",
       "     \n",
       "     ## repeat a quarterly value every month\n",
       "     ## preserving NAs\n",
       "     zq <- zoo(c(1, NA, 3, 4), as.yearqtr(2000) + 0:3/4)\n",
       "     tt <- as.yearmon(start(zq)) + seq(0, len = 3 * length(zq))/12\n",
       "     na.locf(zq, xout = tt, maxgap = 0)\n",
       "     \n",
       "     ## na.locf() can also be mimicked with ave()\n",
       "     x <- c(NA, 10, NA, NA, 20, NA)\n",
       "     f <- function(x) x[1]\n",
       "     ave(x, cumsum(!is.na(x)), FUN = f)\n",
       "     \n",
       "     ## by replacing f() with other functions various generalizations can be\n",
       "     ## obtained, e.g.,\n",
       "     f <- function(x) if (length(x) > 3) x else x[1]  # like maxgap\n",
       "     f <- function(x) replace(x, 1:min(length(x)), 3) # replace up to 2 NAs\n",
       "     f <- function(x) if (!is.na(x[1]) && x[1] > 0) x[1] else x  # only positve numbers\n",
       "     "
      ]
     },
     "metadata": {},
     "output_type": "display_data"
    }
   ],
   "source": [
    "help('na.locf')"
   ]
  },
  {
   "cell_type": "code",
   "execution_count": 91,
   "metadata": {},
   "outputs": [
    {
     "data": {
      "text/html": [
       "4.92724971208169"
      ],
      "text/latex": [
       "4.92724971208169"
      ],
      "text/markdown": [
       "4.92724971208169"
      ],
      "text/plain": [
       "[1] 4.92725"
      ]
     },
     "metadata": {},
     "output_type": "display_data"
    },
    {
     "data": {
      "image/png": "[encoded data removed]",
      "text/plain": [
       "plot without title"
      ]
     },
     "metadata": {
      "image/png": {
       "height": 420,
       "width": 420
      }
     },
     "output_type": "display_data"
    }
   ],
   "source": [
    "library(zoo) # chargement de la bibliothèque\n",
    "X.locf=na.locf(Xnaquanti,na.rm=FALSE)\n",
    "X.locf=na.locf(X.locf,na.rm=FALSE,fromLast=TRUE) # dans l'autre sens\n",
    "err.locf=(Xquanti-X.locf)[ind.na.Temp,2]\n",
    "sqrt(mean(err.locf^2))\n",
    "boxplot(err.locf)"
   ]
  },
  {
   "cell_type": "markdown",
   "metadata": {},
   "source": [
    "### Complétion par la moyenne ####"
   ]
  },
  {
   "cell_type": "code",
   "execution_count": 92,
   "metadata": {
    "scrolled": true
   },
   "outputs": [
    {
     "data": {
      "text/html": [
       "5.23174128744858"
      ],
      "text/latex": [
       "5.23174128744858"
      ],
      "text/markdown": [
       "5.23174128744858"
      ],
      "text/plain": [
       "[1] 5.231741"
      ]
     },
     "metadata": {},
     "output_type": "display_data"
    },
    {
     "data": {
      "image/png": "[encoded data removed]",
      "text/plain": [
       "plot without title"
      ]
     },
     "metadata": {
      "image/png": {
       "height": 420,
       "width": 420
      }
     },
     "output_type": "display_data"
    }
   ],
   "source": [
    "moy=apply(Xnaquanti,2,mean,na.rm=TRUE)\n",
    "X.moy=Xnaquanti\n",
    "ind.na=which(is.na(X.moy),arr.ind=TRUE)\n",
    "X.moy[ind.na]=moy[ind.na[,2]]\n",
    "err.moy=(Xquanti-X.moy)[ind.na.Temp,2]\n",
    "sqrt(mean(err.moy^2))\n",
    "boxplot(data.frame(err.locf,err.moy),ylim=c(-15,15))\n"
   ]
  },
  {
   "cell_type": "markdown",
   "metadata": {},
   "source": [
    "### Complétion par la mediane ####"
   ]
  },
  {
   "cell_type": "code",
   "execution_count": 93,
   "metadata": {},
   "outputs": [
    {
     "data": {
      "text/html": [
       "5.32054161551597"
      ],
      "text/latex": [
       "5.32054161551597"
      ],
      "text/markdown": [
       "5.32054161551597"
      ],
      "text/plain": [
       "[1] 5.320542"
      ]
     },
     "metadata": {},
     "output_type": "display_data"
    },
    {
     "data": {
      "image/png": "[encoded data removed]",
      "text/plain": [
       "plot without title"
      ]
     },
     "metadata": {
      "image/png": {
       "height": 420,
       "width": 420
      }
     },
     "output_type": "display_data"
    }
   ],
   "source": [
    "\n",
    "med=apply(Xnaquanti,2,median,na.rm=TRUE)\n",
    "X.med=Xnaquanti\n",
    "ind.na=which(is.na(X.med),arr.ind=TRUE)\n",
    "X.med[ind.na]=med[ind.na[,2]]\n",
    "err.med=(Xquanti-X.med)[ind.na.Temp,2]\n",
    "\n",
    "sqrt(mean(err.med^2))\n",
    "boxplot(data.frame(err.locf,err.moy,err.med),ylim=c(-15,15))\n"
   ]
  },
  {
   "cell_type": "markdown",
   "metadata": {},
   "source": [
    "### Complétion par k plus proches voisins (kNN) ####"
   ]
  },
  {
   "cell_type": "code",
   "execution_count": 94,
   "metadata": {},
   "outputs": [
    {
     "data": {
      "text/html": [
       "6.48410610794702"
      ],
      "text/latex": [
       "6.48410610794702"
      ],
      "text/markdown": [
       "6.48410610794702"
      ],
      "text/plain": [
       "[1] 6.484106"
      ]
     },
     "metadata": {},
     "output_type": "display_data"
    },
    {
     "data": {
      "image/png": "[encoded data removed]",
      "text/plain": [
       "plot without title"
      ]
     },
     "metadata": {
      "image/png": {
       "height": 420,
       "width": 420
      }
     },
     "output_type": "display_data"
    }
   ],
   "source": [
    "library(VIM) # chargement de la bibliothèque\n",
    "X.kNN=kNN(Xnaquanti, k=5, imp_var=FALSE)\n",
    "err.kNN=(Xquanti-X.kNN)[ind.na.Temp,2]\n",
    "sqrt(mean(err.kNN^2))\n",
    "boxplot(data.frame(err.locf,err.moy,err.med,err.kNN),ylim=c(-15,15))\n"
   ]
  },
  {
   "cell_type": "markdown",
   "metadata": {},
   "source": [
    "### Complétion avec Missforest ####"
   ]
  },
  {
   "cell_type": "code",
   "execution_count": 95,
   "metadata": {
    "tags": []
   },
   "outputs": [
    {
     "data": {
      "text/html": [
       "\n",
       "<table style=\"width: 100%;\"><tr><td>missForest {missForest}</td><td style=\"text-align: right;\">R Documentation</td></tr></table>\n",
       "\n",
       "<h2 id='missForest'>\n",
       "Nonparametric Missing Value Imputation using Random Forest\n",
       "</h2>\n",
       "\n",
       "<h3>Description</h3>\n",
       "\n",
       "<p>'missForest' is used to impute missing values particularly in the case\n",
       "of mixed-type data. It can be used to impute continuous and/or\n",
       "categorical data including complex interactions and nonlinear\n",
       "relations. It yields an out-of-bag (OOB) imputation error estimate. \n",
       "Moreover, it can be run parallel to save computation time.\n",
       "</p>\n",
       "\n",
       "\n",
       "<h3>Usage</h3>\n",
       "\n",
       "<pre><code class='language-R'>missForest(xmis, maxiter = 10, ntree = 100, variablewise = FALSE,\n",
       "                       decreasing = FALSE, verbose = FALSE,\n",
       "                       mtry = floor(sqrt(ncol(xmis))), replace = TRUE,\n",
       "                       classwt = NULL, cutoff = NULL, strata = NULL,\n",
       "                       sampsize = NULL, nodesize = NULL, maxnodes = NULL,\n",
       "                       xtrue = NA, parallelize = c('no', 'variables', 'forests'))\n",
       "</code></pre>\n",
       "\n",
       "\n",
       "<h3>Arguments</h3>\n",
       "\n",
       "<table>\n",
       "<tr><td><code id=\"missForest_:_xmis\">xmis</code></td>\n",
       "<td>\n",
       "\n",
       "<p>a data matrix with missing values. The columns correspond to the\n",
       "variables and the rows to the observations.\n",
       "</p>\n",
       "</td></tr>\n",
       "<tr><td><code id=\"missForest_:_maxiter\">maxiter</code></td>\n",
       "<td>\n",
       "\n",
       "<p>maximum number of iterations to be performed given the stopping criterion\n",
       "is not met beforehand.\n",
       "</p>\n",
       "</td></tr>\n",
       "<tr><td><code id=\"missForest_:_ntree\">ntree</code></td>\n",
       "<td>\n",
       "\n",
       "<p>number of trees to grow in each forest.\n",
       "</p>\n",
       "</td></tr>\n",
       "<tr><td><code id=\"missForest_:_variablewise\">variablewise</code></td>\n",
       "<td>\n",
       "\n",
       "<p>logical. If 'TRUE' the OOB error is returned for each variable\n",
       "separately. This can be useful as a reliability check for the\n",
       "imputed variables w.r.t. to a subsequent data analysis.\n",
       "</p>\n",
       "</td></tr>\n",
       "<tr><td><code id=\"missForest_:_decreasing\">decreasing</code></td>\n",
       "<td>\n",
       "\n",
       "<p>logical. If 'FALSE' then the variables are sorted w.r.t. increasing\n",
       "amount of missing entries during computation. \n",
       "</p>\n",
       "</td></tr>\n",
       "<tr><td><code id=\"missForest_:_verbose\">verbose</code></td>\n",
       "<td>\n",
       "\n",
       "<p>logical. If 'TRUE' the user is supplied with additional output between\n",
       "iterations, i.e., estimated imputation error, runtime and if complete\n",
       "data matrix is supplied the true imputation error. See 'xtrue'.\n",
       "</p>\n",
       "</td></tr>\n",
       "<tr><td><code id=\"missForest_:_mtry\">mtry</code></td>\n",
       "<td>\n",
       "\n",
       "<p>number of variables randomly sampled at each split. This argument is\n",
       "directly supplied to the 'randomForest' function. Note that the\n",
       "default value is sqrt(p) for both categorical and continuous\n",
       "variables where p is the number of variables in 'xmis'.\n",
       "</p>\n",
       "</td></tr>\n",
       "<tr><td><code id=\"missForest_:_replace\">replace</code></td>\n",
       "<td>\n",
       "\n",
       "<p>logical. If 'TRUE' bootstrap sampling (with replacements) is\n",
       "performed else subsampling (without replacements).\n",
       "</p>\n",
       "</td></tr>\n",
       "<tr><td><code id=\"missForest_:_classwt\">classwt</code></td>\n",
       "<td>\n",
       "\n",
       "<p>list of priors of the classes in the categorical variables. This is\n",
       "equivalent to the randomForest argument, however, the user has to\n",
       "set the priors for all categorical variables in the data set (for\n",
       "continuous variables set it 'NULL').\n",
       "</p>\n",
       "</td></tr>\n",
       "<tr><td><code id=\"missForest_:_cutoff\">cutoff</code></td>\n",
       "<td>\n",
       "\n",
       "<p>list of class cutoffs for each categorical variable. Same as with\n",
       "'classwt' (for continuous variables set it '1').\n",
       "</p>\n",
       "</td></tr>\n",
       "<tr><td><code id=\"missForest_:_strata\">strata</code></td>\n",
       "<td>\n",
       "\n",
       "<p>list of (factor) variables used for stratified sampling. Same as\n",
       "with 'classwt' (for continuous variables set it 'NULL').\n",
       "</p>\n",
       "</td></tr>\n",
       "<tr><td><code id=\"missForest_:_sampsize\">sampsize</code></td>\n",
       "<td>\n",
       "\n",
       "<p>list of size(s) of sample to draw. This is equivalent to the\n",
       "randomForest argument, however, the user has to set the sizes for\n",
       "all variables.\n",
       "</p>\n",
       "</td></tr>\n",
       "<tr><td><code id=\"missForest_:_nodesize\">nodesize</code></td>\n",
       "<td>\n",
       "\n",
       "<p>minimum size of terminal nodes. Has to be a vector of length 2, with\n",
       "the first entry being the number for continuous variables and the\n",
       "second entry the number for categorical variables. Default is 1 for\n",
       "continuous and 5 for categorical variables.\n",
       "</p>\n",
       "</td></tr>\n",
       "<tr><td><code id=\"missForest_:_maxnodes\">maxnodes</code></td>\n",
       "<td>\n",
       "\n",
       "<p>maximum number of terminal nodes for trees in the forest.\n",
       "</p>\n",
       "</td></tr>\n",
       "<tr><td><code id=\"missForest_:_xtrue\">xtrue</code></td>\n",
       "<td>\n",
       "\n",
       "<p>optional. Complete data matrix. This can be supplied to test the\n",
       "performance. Upon providing the complete data matrix 'verbose' will\n",
       "show the true imputation error after each iteration and the output\n",
       "will also contain the final true imputation error.\n",
       "</p>\n",
       "</td></tr>\n",
       "<tr><td><code id=\"missForest_:_parallelize\">parallelize</code></td>\n",
       "<td>\n",
       "\n",
       "<p>should 'missForest' be run parallel. Default is 'no'. If 'variables'\n",
       "the data is split into pieces of the size equal to the number of cores\n",
       "registered in the parallel backend. If 'forests' the total number of trees in \n",
       "each random forests is split in the same way. Whether 'variables' or 'forests'\n",
       "is more suitable, depends on the data. See Details.\n",
       "</p>\n",
       "</td></tr>\n",
       "</table>\n",
       "\n",
       "\n",
       "<h3>Details</h3>\n",
       "\n",
       "<p>After each iteration the difference between the previous and the new\n",
       "imputed data matrix is assessed for the continuous and categorical\n",
       "parts. The stopping criterion is defined such that the imputation\n",
       "process is stopped as soon as both differences have become larger\n",
       "once. In case of only one type of variable the computation stops as\n",
       "soon as the corresponding difference goes up for the first\n",
       "time. However, the imputation last performed where both differences\n",
       "went up is generally less accurate than the previous one. Therefore,\n",
       "whenever the computation stops due to the stopping criterion (and not\n",
       "due to 'maxiter') the before last imputation matrix is returned.\n",
       "</p>\n",
       "<p>The normalized root mean squared error (NRMSE) is defined as:\n",
       "</p>\n",
       "<p style=\"text-align: center;\"><code class=\"reqn\">\\sqrt{\\frac{mean((X_{true} - X_{imp})^2)}{var(X_{true})}}</code>\n",
       "</p>\n",
       "\n",
       "<p>where <code class=\"reqn\">X_{true}</code> the complete data matrix, <code class=\"reqn\">X_{imp}</code> the\n",
       "imputed data matrix and 'mean'/'var' being used as short notation for\n",
       "the empirical mean and variance computed over the continuous missing\n",
       "values only.\n",
       "</p>\n",
       "<p>The proportion of falsely classified (PFC) is also computed over the\n",
       "categorical missing values only.\n",
       "</p>\n",
       "<p>For feasibility reasons 'ntree', 'mtry', 'nodesize' and 'maxnodes' can\n",
       "be chosen smaller. The number of trees can be chosen fairly small\n",
       "since growing many forests (e.g. p forests in each iteration) all\n",
       "observations get predicted a few times. The runtime behaves linear\n",
       "with 'ntree'. In case of high-dimensional data we recommend using a\n",
       "small 'mtry' (e.g. 100 should work) to obtain an appropriate\n",
       "imputation result within a feasible amount of time.\n",
       "</p>\n",
       "<p>Using an appropriate backend 'missForest' can be run parallel. \n",
       "There are two possible ways to do this. One way is to create the random forest\n",
       "object in parallel (parallelize = &quot;forests&quot;). This is most useful \n",
       "if a single forest object takes long to compute and there are not \n",
       "many variables in the data. The second way is to compute multiple random\n",
       "forest classifiers parallel on different variables (parallelize = &quot;variables&quot;).\n",
       "This is most useful if the data contains many variables and computing \n",
       "the random forests is not taking too long. For details on how to register \n",
       "a parallel backend see for instance the documentation of 'doParallel').\n",
       "</p>\n",
       "<p>See the vignette for further examples on how to use missForest.\n",
       "</p>\n",
       "<p>I thank Steve Weston for his input regarding parallel computation of 'missForest'.\n",
       "</p>\n",
       "\n",
       "\n",
       "<h3>Value</h3>\n",
       "\n",
       "<table>\n",
       "<tr><td><code>ximp</code></td>\n",
       "<td>\n",
       "\n",
       "<p>imputed data matrix of same type as 'xmis'.\n",
       "</p>\n",
       "</td></tr>\n",
       "<tr><td><code>OOBerror</code></td>\n",
       "<td>\n",
       "\n",
       "<p>estimated OOB imputation error. For the set of continuous\n",
       "variables in 'xmis' the NRMSE and for the set of categorical variables\n",
       "the proportion of falsely classified entries is returned. See Details\n",
       "for the exact definition of these error measures. If 'variablewise'\n",
       "is set to 'TRUE' then this will be a vector of length 'p' where 'p' is\n",
       "the number of variables and the entries will be the OOB error for each\n",
       "variable separately.\n",
       "</p>\n",
       "</td></tr>\n",
       "<tr><td><code>error</code></td>\n",
       "<td>\n",
       "\n",
       "<p>true imputation error. This is only available if 'xtrue'\n",
       "was supplied. The error measures are the same as for 'OOBerror'.</p>\n",
       "</td></tr>\n",
       "</table>\n",
       "\n",
       "\n",
       "<h3>Author(s)</h3>\n",
       "\n",
       "<p>Daniel J. Stekhoven, &lt;stekhoven@stat.math.ethz.ch&gt;\n",
       "</p>\n",
       "\n",
       "\n",
       "<h3>References</h3>\n",
       "\n",
       "<p>Stekhoven, D.J. and Buehlmann, P. (2012), 'MissForest -\n",
       "nonparametric missing value imputation for mixed-type data',\n",
       "Bioinformatics, 28(1) 2012, 112-118, doi: 10.1093/bioinformatics/btr597</p>\n",
       "\n",
       "\n",
       "<h3>See Also</h3>\n",
       "\n",
       "<p><code>mixError</code>, <code>prodNA</code>, <code>randomForest</code>\n",
       "</p>\n",
       "\n",
       "\n",
       "<h3>Examples</h3>\n",
       "\n",
       "<pre><code class='language-R'>## Nonparametric missing value imputation on mixed-type data:\n",
       "data(iris)\n",
       "summary(iris)\n",
       "\n",
       "## The data contains four continuous and one categorical variable.\n",
       "\n",
       "## Artificially produce missing values using the 'prodNA' function:\n",
       "set.seed(81)\n",
       "iris.mis &lt;- prodNA(iris, noNA = 0.2)\n",
       "summary(iris.mis)\n",
       "\n",
       "## Impute missing values providing the complete matrix for\n",
       "## illustration. Use 'verbose' to see what happens between iterations:\n",
       "iris.imp &lt;- missForest(iris.mis, xtrue = iris, verbose = TRUE)\n",
       "\n",
       "## The imputation is finished after five iterations having a final\n",
       "## true NRMSE of 0.143 and a PFC of 0.036. The estimated final NRMSE\n",
       "## is 0.157 and the PFC is 0.025 (see Details for the reason taking\n",
       "## iteration 4 instead of iteration 5 as final value).\n",
       "\n",
       "## The final results can be accessed directly. The estimated error:\n",
       "iris.imp$OOBerror\n",
       "\n",
       "## The true imputation error (if available):\n",
       "iris.imp$error\n",
       "\n",
       "## And of course the imputed data matrix (do not run this):\n",
       "## iris.imp$ximp\n",
       "</code></pre>\n",
       "\n",
       "<hr /><div style=\"text-align: center;\">[Package <em>missForest</em> version 1.5 ]</div>\n",
       "</div>"
      ],
      "text/latex": [
       "\\inputencoding{utf8}\n",
       "\\HeaderA{missForest}{Nonparametric Missing Value Imputation using Random Forest}{missForest}\n",
       "\\keyword{nonparametric}{missForest}\n",
       "\\keyword{classes}{missForest}\n",
       "\\keyword{NA}{missForest}\n",
       "%\n",
       "\\begin{Description}\n",
       "'missForest' is used to impute missing values particularly in the case\n",
       "of mixed-type data. It can be used to impute continuous and/or\n",
       "categorical data including complex interactions and nonlinear\n",
       "relations. It yields an out-of-bag (OOB) imputation error estimate. \n",
       "Moreover, it can be run parallel to save computation time.\n",
       "\\end{Description}\n",
       "%\n",
       "\\begin{Usage}\n",
       "\\begin{verbatim}\n",
       "missForest(xmis, maxiter = 10, ntree = 100, variablewise = FALSE,\n",
       "                       decreasing = FALSE, verbose = FALSE,\n",
       "                       mtry = floor(sqrt(ncol(xmis))), replace = TRUE,\n",
       "                       classwt = NULL, cutoff = NULL, strata = NULL,\n",
       "                       sampsize = NULL, nodesize = NULL, maxnodes = NULL,\n",
       "                       xtrue = NA, parallelize = c('no', 'variables', 'forests'))\n",
       "\\end{verbatim}\n",
       "\\end{Usage}\n",
       "%\n",
       "\\begin{Arguments}\n",
       "\\begin{ldescription}\n",
       "\\item[\\code{xmis}] \n",
       "a data matrix with missing values. The columns correspond to the\n",
       "variables and the rows to the observations.\n",
       "\n",
       "\\item[\\code{maxiter}] \n",
       "maximum number of iterations to be performed given the stopping criterion\n",
       "is not met beforehand.\n",
       "\n",
       "\\item[\\code{ntree}] \n",
       "number of trees to grow in each forest.\n",
       "\n",
       "\\item[\\code{variablewise}] \n",
       "logical. If 'TRUE' the OOB error is returned for each variable\n",
       "separately. This can be useful as a reliability check for the\n",
       "imputed variables w.r.t. to a subsequent data analysis.\n",
       "\n",
       "\\item[\\code{decreasing}] \n",
       "logical. If 'FALSE' then the variables are sorted w.r.t. increasing\n",
       "amount of missing entries during computation. \n",
       "\n",
       "\\item[\\code{verbose}] \n",
       "logical. If 'TRUE' the user is supplied with additional output between\n",
       "iterations, i.e., estimated imputation error, runtime and if complete\n",
       "data matrix is supplied the true imputation error. See 'xtrue'.\n",
       "\n",
       "\\item[\\code{mtry}] \n",
       "number of variables randomly sampled at each split. This argument is\n",
       "directly supplied to the 'randomForest' function. Note that the\n",
       "default value is sqrt(p) for both categorical and continuous\n",
       "variables where p is the number of variables in 'xmis'.\n",
       "\n",
       "\\item[\\code{replace}] \n",
       "logical. If 'TRUE' bootstrap sampling (with replacements) is\n",
       "performed else subsampling (without replacements).\n",
       "\n",
       "\\item[\\code{classwt}] \n",
       "list of priors of the classes in the categorical variables. This is\n",
       "equivalent to the randomForest argument, however, the user has to\n",
       "set the priors for all categorical variables in the data set (for\n",
       "continuous variables set it 'NULL').\n",
       "\n",
       "\\item[\\code{cutoff}] \n",
       "list of class cutoffs for each categorical variable. Same as with\n",
       "'classwt' (for continuous variables set it '1').\n",
       "\n",
       "\\item[\\code{strata}] \n",
       "list of (factor) variables used for stratified sampling. Same as\n",
       "with 'classwt' (for continuous variables set it 'NULL').\n",
       "\n",
       "\\item[\\code{sampsize}] \n",
       "list of size(s) of sample to draw. This is equivalent to the\n",
       "randomForest argument, however, the user has to set the sizes for\n",
       "all variables.\n",
       "\n",
       "\\item[\\code{nodesize}] \n",
       "minimum size of terminal nodes. Has to be a vector of length 2, with\n",
       "the first entry being the number for continuous variables and the\n",
       "second entry the number for categorical variables. Default is 1 for\n",
       "continuous and 5 for categorical variables.\n",
       "\n",
       "\\item[\\code{maxnodes}] \n",
       "maximum number of terminal nodes for trees in the forest.\n",
       "\n",
       "\\item[\\code{xtrue}] \n",
       "optional. Complete data matrix. This can be supplied to test the\n",
       "performance. Upon providing the complete data matrix 'verbose' will\n",
       "show the true imputation error after each iteration and the output\n",
       "will also contain the final true imputation error.\n",
       "\n",
       "\\item[\\code{parallelize}] \n",
       "should 'missForest' be run parallel. Default is 'no'. If 'variables'\n",
       "the data is split into pieces of the size equal to the number of cores\n",
       "registered in the parallel backend. If 'forests' the total number of trees in \n",
       "each random forests is split in the same way. Whether 'variables' or 'forests'\n",
       "is more suitable, depends on the data. See Details.\n",
       "\n",
       "\\end{ldescription}\n",
       "\\end{Arguments}\n",
       "%\n",
       "\\begin{Details}\n",
       "After each iteration the difference between the previous and the new\n",
       "imputed data matrix is assessed for the continuous and categorical\n",
       "parts. The stopping criterion is defined such that the imputation\n",
       "process is stopped as soon as both differences have become larger\n",
       "once. In case of only one type of variable the computation stops as\n",
       "soon as the corresponding difference goes up for the first\n",
       "time. However, the imputation last performed where both differences\n",
       "went up is generally less accurate than the previous one. Therefore,\n",
       "whenever the computation stops due to the stopping criterion (and not\n",
       "due to 'maxiter') the before last imputation matrix is returned.\n",
       "\n",
       "The normalized root mean squared error (NRMSE) is defined as:\n",
       "\n",
       "\\deqn{\\sqrt{\\frac{mean((X_{true} - X_{imp})^2)}{var(X_{true})}}}{}\n",
       "\n",
       "where \\eqn{X_{true}}{} the complete data matrix, \\eqn{X_{imp}}{} the\n",
       "imputed data matrix and 'mean'/'var' being used as short notation for\n",
       "the empirical mean and variance computed over the continuous missing\n",
       "values only.\n",
       "\n",
       "The proportion of falsely classified (PFC) is also computed over the\n",
       "categorical missing values only.\n",
       "\n",
       "For feasibility reasons 'ntree', 'mtry', 'nodesize' and 'maxnodes' can\n",
       "be chosen smaller. The number of trees can be chosen fairly small\n",
       "since growing many forests (e.g. p forests in each iteration) all\n",
       "observations get predicted a few times. The runtime behaves linear\n",
       "with 'ntree'. In case of high-dimensional data we recommend using a\n",
       "small 'mtry' (e.g. 100 should work) to obtain an appropriate\n",
       "imputation result within a feasible amount of time.\n",
       "\n",
       "Using an appropriate backend 'missForest' can be run parallel. \n",
       "There are two possible ways to do this. One way is to create the random forest\n",
       "object in parallel (parallelize = \"forests\"). This is most useful \n",
       "if a single forest object takes long to compute and there are not \n",
       "many variables in the data. The second way is to compute multiple random\n",
       "forest classifiers parallel on different variables (parallelize = \"variables\").\n",
       "This is most useful if the data contains many variables and computing \n",
       "the random forests is not taking too long. For details on how to register \n",
       "a parallel backend see for instance the documentation of 'doParallel').\n",
       "\n",
       "See the vignette for further examples on how to use missForest.\n",
       "\n",
       "I thank Steve Weston for his input regarding parallel computation of 'missForest'.\n",
       "\\end{Details}\n",
       "%\n",
       "\\begin{Value}\n",
       "\\begin{ldescription}\n",
       "\\item[\\code{ximp}] \n",
       "imputed data matrix of same type as 'xmis'.\n",
       "\n",
       "\\item[\\code{OOBerror}] \n",
       "estimated OOB imputation error. For the set of continuous\n",
       "variables in 'xmis' the NRMSE and for the set of categorical variables\n",
       "the proportion of falsely classified entries is returned. See Details\n",
       "for the exact definition of these error measures. If 'variablewise'\n",
       "is set to 'TRUE' then this will be a vector of length 'p' where 'p' is\n",
       "the number of variables and the entries will be the OOB error for each\n",
       "variable separately.\n",
       "\n",
       "\\item[\\code{error}] \n",
       "true imputation error. This is only available if 'xtrue'\n",
       "was supplied. The error measures are the same as for 'OOBerror'.\n",
       "\\end{ldescription}\n",
       "\\end{Value}\n",
       "%\n",
       "\\begin{Author}\n",
       "Daniel J. Stekhoven, <stekhoven@stat.math.ethz.ch>\n",
       "\\end{Author}\n",
       "%\n",
       "\\begin{References}\n",
       "Stekhoven, D.J. and Buehlmann, P. (2012), 'MissForest -\n",
       "nonparametric missing value imputation for mixed-type data',\n",
       "Bioinformatics, 28(1) 2012, 112-118, doi: 10.1093/bioinformatics/btr597\n",
       "\\end{References}\n",
       "%\n",
       "\\begin{SeeAlso}\n",
       "\\code{\\LinkA{mixError}{mixError}}, \\code{\\LinkA{prodNA}{prodNA}}, \\code{\\LinkA{randomForest}{randomForest}}\n",
       "\\end{SeeAlso}\n",
       "%\n",
       "\\begin{Examples}\n",
       "\\begin{ExampleCode}\n",
       "## Nonparametric missing value imputation on mixed-type data:\n",
       "data(iris)\n",
       "summary(iris)\n",
       "\n",
       "## The data contains four continuous and one categorical variable.\n",
       "\n",
       "## Artificially produce missing values using the 'prodNA' function:\n",
       "set.seed(81)\n",
       "iris.mis <- prodNA(iris, noNA = 0.2)\n",
       "summary(iris.mis)\n",
       "\n",
       "## Impute missing values providing the complete matrix for\n",
       "## illustration. Use 'verbose' to see what happens between iterations:\n",
       "iris.imp <- missForest(iris.mis, xtrue = iris, verbose = TRUE)\n",
       "\n",
       "## The imputation is finished after five iterations having a final\n",
       "## true NRMSE of 0.143 and a PFC of 0.036. The estimated final NRMSE\n",
       "## is 0.157 and the PFC is 0.025 (see Details for the reason taking\n",
       "## iteration 4 instead of iteration 5 as final value).\n",
       "\n",
       "## The final results can be accessed directly. The estimated error:\n",
       "iris.imp$OOBerror\n",
       "\n",
       "## The true imputation error (if available):\n",
       "iris.imp$error\n",
       "\n",
       "## And of course the imputed data matrix (do not run this):\n",
       "## iris.imp$ximp\n",
       "\\end{ExampleCode}\n",
       "\\end{Examples}"
      ],
      "text/plain": [
       "missForest             package:missForest              R Documentation\n",
       "\n",
       "_\bN_\bo_\bn_\bp_\ba_\br_\ba_\bm_\be_\bt_\br_\bi_\bc _\bM_\bi_\bs_\bs_\bi_\bn_\bg _\bV_\ba_\bl_\bu_\be _\bI_\bm_\bp_\bu_\bt_\ba_\bt_\bi_\bo_\bn _\bu_\bs_\bi_\bn_\bg _\bR_\ba_\bn_\bd_\bo_\bm _\bF_\bo_\br_\be_\bs_\bt\n",
       "\n",
       "_\bD_\be_\bs_\bc_\br_\bi_\bp_\bt_\bi_\bo_\bn:\n",
       "\n",
       "     'missForest' is used to impute missing values particularly in the\n",
       "     case of mixed-type data. It can be used to impute continuous\n",
       "     and/or categorical data including complex interactions and\n",
       "     nonlinear relations. It yields an out-of-bag (OOB) imputation\n",
       "     error estimate.  Moreover, it can be run parallel to save\n",
       "     computation time.\n",
       "\n",
       "_\bU_\bs_\ba_\bg_\be:\n",
       "\n",
       "     missForest(xmis, maxiter = 10, ntree = 100, variablewise = FALSE,\n",
       "                            decreasing = FALSE, verbose = FALSE,\n",
       "                            mtry = floor(sqrt(ncol(xmis))), replace = TRUE,\n",
       "                            classwt = NULL, cutoff = NULL, strata = NULL,\n",
       "                            sampsize = NULL, nodesize = NULL, maxnodes = NULL,\n",
       "                            xtrue = NA, parallelize = c('no', 'variables', 'forests'))\n",
       "     \n",
       "_\bA_\br_\bg_\bu_\bm_\be_\bn_\bt_\bs:\n",
       "\n",
       "    xmis: a data matrix with missing values. The columns correspond to\n",
       "          the variables and the rows to the observations.\n",
       "\n",
       " maxiter: maximum number of iterations to be performed given the\n",
       "          stopping criterion is not met beforehand.\n",
       "\n",
       "   ntree: number of trees to grow in each forest.\n",
       "\n",
       "variablewise: logical. If 'TRUE' the OOB error is returned for each\n",
       "          variable separately. This can be useful as a reliability\n",
       "          check for the imputed variables w.r.t. to a subsequent data\n",
       "          analysis.\n",
       "\n",
       "decreasing: logical. If 'FALSE' then the variables are sorted w.r.t.\n",
       "          increasing amount of missing entries during computation.\n",
       "\n",
       " verbose: logical. If 'TRUE' the user is supplied with additional\n",
       "          output between iterations, i.e., estimated imputation error,\n",
       "          runtime and if complete data matrix is supplied the true\n",
       "          imputation error. See 'xtrue'.\n",
       "\n",
       "    mtry: number of variables randomly sampled at each split. This\n",
       "          argument is directly supplied to the 'randomForest' function.\n",
       "          Note that the default value is sqrt(p) for both categorical\n",
       "          and continuous variables where p is the number of variables\n",
       "          in 'xmis'.\n",
       "\n",
       " replace: logical. If 'TRUE' bootstrap sampling (with replacements) is\n",
       "          performed else subsampling (without replacements).\n",
       "\n",
       " classwt: list of priors of the classes in the categorical variables.\n",
       "          This is equivalent to the randomForest argument, however, the\n",
       "          user has to set the priors for all categorical variables in\n",
       "          the data set (for continuous variables set it 'NULL').\n",
       "\n",
       "  cutoff: list of class cutoffs for each categorical variable. Same as\n",
       "          with 'classwt' (for continuous variables set it '1').\n",
       "\n",
       "  strata: list of (factor) variables used for stratified sampling. Same\n",
       "          as with 'classwt' (for continuous variables set it 'NULL').\n",
       "\n",
       "sampsize: list of size(s) of sample to draw. This is equivalent to the\n",
       "          randomForest argument, however, the user has to set the sizes\n",
       "          for all variables.\n",
       "\n",
       "nodesize: minimum size of terminal nodes. Has to be a vector of length\n",
       "          2, with the first entry being the number for continuous\n",
       "          variables and the second entry the number for categorical\n",
       "          variables. Default is 1 for continuous and 5 for categorical\n",
       "          variables.\n",
       "\n",
       "maxnodes: maximum number of terminal nodes for trees in the forest.\n",
       "\n",
       "   xtrue: optional. Complete data matrix. This can be supplied to test\n",
       "          the performance. Upon providing the complete data matrix\n",
       "          'verbose' will show the true imputation error after each\n",
       "          iteration and the output will also contain the final true\n",
       "          imputation error.\n",
       "\n",
       "parallelize: should 'missForest' be run parallel. Default is 'no'. If\n",
       "          'variables' the data is split into pieces of the size equal\n",
       "          to the number of cores registered in the parallel backend. If\n",
       "          'forests' the total number of trees in each random forests is\n",
       "          split in the same way. Whether 'variables' or 'forests' is\n",
       "          more suitable, depends on the data. See Details.\n",
       "\n",
       "_\bD_\be_\bt_\ba_\bi_\bl_\bs:\n",
       "\n",
       "     After each iteration the difference between the previous and the\n",
       "     new imputed data matrix is assessed for the continuous and\n",
       "     categorical parts. The stopping criterion is defined such that the\n",
       "     imputation process is stopped as soon as both differences have\n",
       "     become larger once. In case of only one type of variable the\n",
       "     computation stops as soon as the corresponding difference goes up\n",
       "     for the first time. However, the imputation last performed where\n",
       "     both differences went up is generally less accurate than the\n",
       "     previous one. Therefore, whenever the computation stops due to the\n",
       "     stopping criterion (and not due to 'maxiter') the before last\n",
       "     imputation matrix is returned.\n",
       "\n",
       "     The normalized root mean squared error (NRMSE) is defined as:\n",
       "\n",
       "          sqrt{\\frac{mean((X_{true} - X_{imp})^2)}{var(X_{true})}}      \n",
       "     \n",
       "     where X_{true} the complete data matrix, X_{imp} the imputed data\n",
       "     matrix and 'mean'/'var' being used as short notation for the\n",
       "     empirical mean and variance computed over the continuous missing\n",
       "     values only.\n",
       "\n",
       "     The proportion of falsely classified (PFC) is also computed over\n",
       "     the categorical missing values only.\n",
       "\n",
       "     For feasibility reasons 'ntree', 'mtry', 'nodesize' and 'maxnodes'\n",
       "     can be chosen smaller. The number of trees can be chosen fairly\n",
       "     small since growing many forests (e.g. p forests in each\n",
       "     iteration) all observations get predicted a few times. The runtime\n",
       "     behaves linear with 'ntree'. In case of high-dimensional data we\n",
       "     recommend using a small 'mtry' (e.g. 100 should work) to obtain an\n",
       "     appropriate imputation result within a feasible amount of time.\n",
       "\n",
       "     Using an appropriate backend 'missForest' can be run parallel.\n",
       "     There are two possible ways to do this. One way is to create the\n",
       "     random forest object in parallel (parallelize = \"forests\"). This\n",
       "     is most useful if a single forest object takes long to compute and\n",
       "     there are not many variables in the data. The second way is to\n",
       "     compute multiple random forest classifiers parallel on different\n",
       "     variables (parallelize = \"variables\").  This is most useful if the\n",
       "     data contains many variables and computing the random forests is\n",
       "     not taking too long. For details on how to register a parallel\n",
       "     backend see for instance the documentation of 'doParallel').\n",
       "\n",
       "     See the vignette for further examples on how to use missForest.\n",
       "\n",
       "     I thank Steve Weston for his input regarding parallel computation\n",
       "     of 'missForest'.\n",
       "\n",
       "_\bV_\ba_\bl_\bu_\be:\n",
       "\n",
       "    ximp: imputed data matrix of same type as 'xmis'.\n",
       "\n",
       "OOBerror: estimated OOB imputation error. For the set of continuous\n",
       "          variables in 'xmis' the NRMSE and for the set of categorical\n",
       "          variables the proportion of falsely classified entries is\n",
       "          returned. See Details for the exact definition of these error\n",
       "          measures. If 'variablewise' is set to 'TRUE' then this will\n",
       "          be a vector of length 'p' where 'p' is the number of\n",
       "          variables and the entries will be the OOB error for each\n",
       "          variable separately.\n",
       "\n",
       "   error: true imputation error. This is only available if 'xtrue' was\n",
       "          supplied. The error measures are the same as for 'OOBerror'.\n",
       "\n",
       "_\bA_\bu_\bt_\bh_\bo_\br(_\bs):\n",
       "\n",
       "     Daniel J. Stekhoven, <stekhoven@stat.math.ethz.ch>\n",
       "\n",
       "_\bR_\be_\bf_\be_\br_\be_\bn_\bc_\be_\bs:\n",
       "\n",
       "     Stekhoven, D.J. and Buehlmann, P. (2012), 'MissForest -\n",
       "     nonparametric missing value imputation for mixed-type data',\n",
       "     Bioinformatics, 28(1) 2012, 112-118, doi:\n",
       "     10.1093/bioinformatics/btr597\n",
       "\n",
       "_\bS_\be_\be _\bA_\bl_\bs_\bo:\n",
       "\n",
       "     ‘mixError’, ‘prodNA’, ‘randomForest’\n",
       "\n",
       "_\bE_\bx_\ba_\bm_\bp_\bl_\be_\bs:\n",
       "\n",
       "     ## Nonparametric missing value imputation on mixed-type data:\n",
       "     data(iris)\n",
       "     summary(iris)\n",
       "     \n",
       "     ## The data contains four continuous and one categorical variable.\n",
       "     \n",
       "     ## Artificially produce missing values using the 'prodNA' function:\n",
       "     set.seed(81)\n",
       "     iris.mis <- prodNA(iris, noNA = 0.2)\n",
       "     summary(iris.mis)\n",
       "     \n",
       "     ## Impute missing values providing the complete matrix for\n",
       "     ## illustration. Use 'verbose' to see what happens between iterations:\n",
       "     iris.imp <- missForest(iris.mis, xtrue = iris, verbose = TRUE)\n",
       "     \n",
       "     ## The imputation is finished after five iterations having a final\n",
       "     ## true NRMSE of 0.143 and a PFC of 0.036. The estimated final NRMSE\n",
       "     ## is 0.157 and the PFC is 0.025 (see Details for the reason taking\n",
       "     ## iteration 4 instead of iteration 5 as final value).\n",
       "     \n",
       "     ## The final results can be accessed directly. The estimated error:\n",
       "     iris.imp$OOBerror\n",
       "     \n",
       "     ## The true imputation error (if available):\n",
       "     iris.imp$error\n",
       "     \n",
       "     ## And of course the imputed data matrix (do not run this):\n",
       "     ## iris.imp$ximp\n",
       "     "
      ]
     },
     "metadata": {},
     "output_type": "display_data"
    }
   ],
   "source": [
    "help(missForest)"
   ]
  },
  {
   "cell_type": "code",
   "execution_count": 96,
   "metadata": {},
   "outputs": [],
   "source": [
    "X.mf=missForest(Xnaquanti,xtrue=Xquanti,maxiter=100)"
   ]
  },
  {
   "cell_type": "code",
   "execution_count": 97,
   "metadata": {},
   "outputs": [
    {
     "data": {
      "text/html": [
       "5.804054687133"
      ],
      "text/latex": [
       "5.804054687133"
      ],
      "text/markdown": [
       "5.804054687133"
      ],
      "text/plain": [
       "[1] 5.804055"
      ]
     },
     "metadata": {},
     "output_type": "display_data"
    }
   ],
   "source": [
    "err.mf=(Xquanti-X.mf$ximp)[ind.na.Temp,2]\n",
    "sqrt(mean(err.mf^2))"
   ]
  },
  {
   "cell_type": "code",
   "execution_count": 98,
   "metadata": {},
   "outputs": [
    {
     "data": {
      "image/png": "[encoded data removed]",
      "text/plain": [
       "plot without title"
      ]
     },
     "metadata": {
      "image/png": {
       "height": 420,
       "width": 420
      }
     },
     "output_type": "display_data"
    }
   ],
   "source": [
    "\n",
    "boxplot(data.frame(err.locf,err.moy,err.med,err.kNN,err.mf),ylim=c(-15,15))\n"
   ]
  },
  {
   "cell_type": "code",
   "execution_count": 99,
   "metadata": {
    "collapsed": true,
    "jupyter": {
     "outputs_hidden": true
    },
    "tags": []
   },
   "outputs": [
    {
     "data": {
      "image/png": "[encoded data removed]",
      "text/plain": [
       "plot without title"
      ]
     },
     "metadata": {
      "image/png": {
       "height": 420,
       "width": 420
      }
     },
     "output_type": "display_data"
    }
   ],
   "source": [
    "plot((Xquanti-X.mf$ximp)[ind.na.Temp,2])\n",
    "abline(0,0)"
   ]
  },
  {
   "cell_type": "markdown",
   "metadata": {},
   "source": [
    "### Completion avec Amelia II ####"
   ]
  },
  {
   "cell_type": "code",
   "execution_count": 100,
   "metadata": {
    "collapsed": true,
    "jupyter": {
     "outputs_hidden": true
    },
    "tags": []
   },
   "outputs": [
    {
     "name": "stderr",
     "output_type": "stream",
     "text": [
      "Installation du package dans ‘/home/h_pham/R/libs’\n",
      "(car ‘lib’ n'est pas spécifié)\n",
      "\n"
     ]
    }
   ],
   "source": [
    "install.packages('Amelia')"
   ]
  },
  {
   "cell_type": "code",
   "execution_count": 101,
   "metadata": {},
   "outputs": [],
   "source": [
    "library(Amelia) # chargement de la bibliothèque"
   ]
  },
  {
   "cell_type": "code",
   "execution_count": 102,
   "metadata": {
    "collapsed": true,
    "jupyter": {
     "outputs_hidden": true
    },
    "tags": []
   },
   "outputs": [
    {
     "name": "stderr",
     "output_type": "stream",
     "text": [
      "Warning message in fetch(key):\n",
      "“internal error -3 in R_decompress1”\n",
      "ERROR while rich displaying an object: Error in fetch(key): lazy-load database '/home/h_pham/R/libs/Amelia/help/Amelia.rdb' is corrupt\n",
      "\n",
      "Traceback:\n",
      "1. tryCatch(withCallingHandlers({\n",
      " .     if (!mime %in% names(repr::mime2repr)) \n",
      " .         stop(\"No repr_* for mimetype \", mime, \" in repr::mime2repr\")\n",
      " .     rpr <- repr::mime2repr[[mime]](obj)\n",
      " .     if (is.null(rpr)) \n",
      " .         return(NULL)\n",
      " .     prepare_content(is.raw(rpr), rpr)\n",
      " . }, error = error_handler), error = outer_handler)\n",
      "2. tryCatchList(expr, classes, parentenv, handlers)\n",
      "3. tryCatchOne(expr, names, parentenv, handlers[[1L]])\n",
      "4. doTryCatch(return(expr), name, parentenv, handler)\n",
      "5. withCallingHandlers({\n",
      " .     if (!mime %in% names(repr::mime2repr)) \n",
      " .         stop(\"No repr_* for mimetype \", mime, \" in repr::mime2repr\")\n",
      " .     rpr <- repr::mime2repr[[mime]](obj)\n",
      " .     if (is.null(rpr)) \n",
      " .         return(NULL)\n",
      " .     prepare_content(is.raw(rpr), rpr)\n",
      " . }, error = error_handler)\n",
      "6. repr::mime2repr[[mime]](obj)\n",
      "7. repr_text.help_files_with_topic(obj)\n",
      "8. repr_help_files_with_topic_generic(obj, Rd2txt)\n",
      "9. get_help_file(file)\n",
      "10. fetch_rd_db(rd_db, basename(file))\n",
      "11. lazyLoadDBexec(filebase, fun)\n",
      "12. fun(environment())\n",
      "13. fetch(key)\n"
     ]
    }
   ],
   "source": [
    "help(amelia)"
   ]
  },
  {
   "cell_type": "code",
   "execution_count": 103,
   "metadata": {},
   "outputs": [
    {
     "data": {
      "text/plain": [
       "     MOCAGE           TEMPE          VentMOD          VentANG       \n",
       " Min.   : 58.80   Min.   :11.60   Min.   : 0.300   Min.   :-1.5519  \n",
       " 1st Qu.: 94.28   1st Qu.:19.60   1st Qu.: 4.000   1st Qu.:-0.4939  \n",
       " Median :122.40   Median :22.85   Median : 5.708   Median : 0.1882  \n",
       " Mean   :125.84   Mean   :23.37   Mean   : 5.785   Mean   : 0.0891  \n",
       " 3rd Qu.:150.32   3rd Qu.:27.20   3rd Qu.: 6.935   3rd Qu.: 0.6799  \n",
       " Max.   :284.70   Max.   :37.90   Max.   :17.687   Max.   : 1.5708  \n",
       " NA's   :841      NA's   :837     NA's   :816      NA's   :856      \n",
       "     SRMH2O            LNO2              LNO         \n",
       " Min.   :0.0607   Min.   :-1.2730   Min.   :-2.9565  \n",
       " 1st Qu.:0.0867   1st Qu.: 0.1790   1st Qu.:-1.3413  \n",
       " Median :0.1007   Median : 0.8078   Median :-0.8783  \n",
       " Mean   :0.0999   Mean   : 0.8216   Mean   :-0.7878  \n",
       " 3rd Qu.:0.1123   3rd Qu.: 1.3838   3rd Qu.:-0.2924  \n",
       " Max.   :0.1659   Max.   : 3.0610   Max.   : 2.2438  \n",
       " NA's   :836      NA's   :820       NA's   :833      "
      ]
     },
     "metadata": {},
     "output_type": "display_data"
    }
   ],
   "source": [
    "summary(Xnaquanti)"
   ]
  },
  {
   "cell_type": "code",
   "execution_count": 104,
   "metadata": {
    "collapsed": true,
    "jupyter": {
     "outputs_hidden": true
    },
    "tags": []
   },
   "outputs": [
    {
     "name": "stdout",
     "output_type": "stream",
     "text": [
      "Warning: There are observations in the data that are completely missing. \n",
      "         These observations will remain unimputed in the final datasets. \n",
      "-- Imputation 1 --\n",
      "\n",
      "  1  2  3  4  5  6  7  8  9 10 11 12 13 14 15 16 17 18 19 20\n",
      " 21 22 23 24 25 26 27 28 29 30 31 32 33 34 35 36 37 38 39 40\n",
      " 41 42 43 44 45 46 47 48 49 50 51 52 53 54 55 56 57 58 59 60\n",
      " 61 62 63 64 65 66 67 68 69 70 71 72 73 74 75 76 77 78 79 80\n",
      " 81 82 83 84 85 86 87 88 89 90 91 92 93 94 95 96 97 98 99 100\n",
      " 101 102 103 104 105 106 107 108 109 110 111 112 113 114 115 116 117 118 119 120\n",
      " 121 122 123 124 125 126 127 128 129 130 131 132 133 134 135 136 137 138 139 140\n",
      " 141 142 143 144 145 146 147 148 149 150 151 152 153 154 155 156 157 158 159 160\n",
      " 161 162 163 164 165 166 167 168 169 170 171 172 173 174 175 176 177 178 179 180\n",
      " 181 182 183 184 185 186 187 188 189 190 191 192 193 194 195 196 197 198 199 200\n",
      " 201 202 203 204 205 206 207 208 209 210 211 212 213 214 215 216 217 218 219 220\n",
      " 221 222 223 224 225 226 227 228 229 230 231 232 233 234 235 236 237 238 239 240\n",
      " 241 242 243 244 245 246 247 248 249 250 251 252 253 254 255 256 257 258 259 260\n",
      " 261 262 263 264 265 266 267 268 269 270 271 272 273 274 275 276 277 278 279 280\n",
      " 281 282 283 284 285 286 287 288 289 290 291 292 293 294 295 296 297 298 299 300\n",
      " 301 302 303 304 305 306 307 308 309 310 311 312 313 314 315 316 317 318 319 320\n",
      " 321 322 323 324 325 326 327 328 329 330 331 332 333 334 335 336 337 338 339 340\n",
      " 341 342 343 344 345 346 347 348 349 350 351 352 353 354 355 356 357 358 359 360\n",
      " 361 362 363 364 365 366 367 368 369 370 371 372 373 374 375 376 377 378 379 380\n",
      " 381 382 383 384 385 386 387 388 389 390 391 392 393 394 395 396 397 398 399 400\n",
      " 401 402 403 404 405 406 407 408 409 410 411 412 413 414 415 416 417 418 419 420\n",
      " 421 422 423 424 425 426 427 428 429 430 431 432 433 434 435 436 437 438 439 440\n",
      " 441 442 443 444 445 446 447 448 449 450 451 452 453 454 455 456 457 458 459 460\n",
      " 461 462 463 464 465 466 467 468 469 470 471 472 473 474 475 476 477 478 479 480\n",
      " 481 482 483 484 485 486 487 488 489 490 491 492 493 494 495 496 497 498 499 500\n",
      " 501 502 503 504 505 506 507 508 509 510 511 512 513 514 515 516 517 518 519 520\n",
      " 521 522 523 524 525 526 527 528 529 530 531 532 533 534 535 536 537 538 539 540\n",
      " 541 542 543 544 545 546 547 548 549 550 551 552 553 554 555 556 557 558 559 560\n",
      " 561 562 563 564 565 566 567 568 569 570 571 572 573 574 575 576 577 578 579 580\n",
      " 581 582 583 584 585 586 587 588 589 590 591 592 593 594 595 596 597 598 599 600\n",
      " 601 602 603 604 605 606 607 608 609 610 611 612 613 614 615 616 617 618 619 620\n",
      " 621 622 623 624 625 626 627 628 629 630 631 632 633 634 635 636 637 638 639 640\n",
      " 641 642 643 644 645 646 647 648 649 650 651 652 653 654 655 656 657 658 659 660\n",
      " 661 662 663 664 665 666 667 668 669 670 671 672 673 674 675 676 677 678 679 680\n",
      " 681 682 683 684 685 686 687 688 689 690 691 692 693 694 695 696 697 698 699 700\n",
      " 701\n",
      "\n",
      "-- Imputation 2 --\n",
      "\n",
      "  1  2  3  4  5  6  7  8  9 10 11 12 13 14 15 16 17 18 19 20\n",
      " 21 22 23 24 25 26 27 28 29 30 31 32 33 34 35 36 37 38 39 40\n",
      " 41 42 43 44 45 46 47 48 49 50 51 52 53 54 55 56 57 58 59 60\n",
      " 61 62 63 64 65 66 67 68 69 70 71 72 73 74 75 76 77 78 79 80\n",
      " 81 82 83 84 85 86 87 88 89 90 91 92 93 94 95 96 97 98 99 100\n",
      " 101 102 103 104 105 106 107 108 109 110 111 112 113 114 115 116 117 118 119 120\n",
      " 121 122 123 124 125 126 127 128 129 130 131 132 133 134 135 136 137 138 139 140\n",
      " 141 142 143 144 145 146 147 148 149 150 151 152 153 154 155 156 157 158 159 160\n",
      " 161 162 163 164 165 166 167 168 169 170 171 172 173 174 175 176 177 178 179 180\n",
      " 181 182 183 184 185 186 187 188 189 190 191 192 193 194 195 196 197 198 199 200\n",
      " 201 202 203 204 205 206 207 208 209 210 211 212 213 214 215 216 217 218 219 220\n",
      " 221 222 223 224 225 226 227 228 229 230 231 232 233 234 235 236 237 238 239 240\n",
      " 241 242 243 244 245 246 247 248 249 250 251 252 253 254 255 256 257 258 259 260\n",
      " 261 262 263 264 265 266 267 268 269 270 271 272 273 274 275 276 277 278 279 280\n",
      " 281 282 283 284 285 286 287 288 289 290 291 292 293 294 295 296 297 298 299 300\n",
      " 301 302 303 304 305 306 307 308 309 310 311 312 313 314 315 316 317 318 319 320\n",
      " 321 322 323 324 325 326 327 328 329 330 331 332 333 334 335 336 337 338 339 340\n",
      " 341 342 343 344 345 346 347 348 349 350 351 352 353 354 355 356 357 358 359 360\n",
      " 361 362 363 364 365 366 367 368 369 370 371 372 373 374 375 376 377 378 379 380\n",
      " 381 382 383 384 385 386 387 388 389 390 391 392 393 394 395 396 397 398 399 400\n",
      " 401 402 403 404 405 406 407 408 409 410 411 412 413 414 415 416 417 418 419 420\n",
      " 421 422 423 424 425 426 427 428 429 430 431 432\n",
      "\n",
      "-- Imputation 3 --\n",
      "\n",
      "  1  2  3  4  5  6  7  8  9 10 11 12 13 14 15 16 17 18 19 20\n",
      " 21 22 23 24 25 26 27 28 29 30 31 32 33 34 35 36 37 38 39 40\n",
      " 41 42 43 44 45 46 47 48 49 50 51 52 53 54 55 56 57 58 59 60\n",
      " 61 62 63 64 65 66 67 68 69 70 71 72 73 74 75 76 77 78 79 80\n",
      " 81 82 83 84 85 86 87 88 89 90 91 92 93 94 95 96 97 98 99 100\n",
      " 101 102 103 104 105 106 107 108 109 110 111 112 113 114 115 116 117 118 119 120\n",
      " 121 122 123 124 125 126 127 128 129 130 131 132 133 134 135 136 137 138 139 140\n",
      " 141 142 143 144 145 146 147 148 149 150 151 152 153 154 155 156 157 158 159 160\n",
      " 161 162 163 164 165 166 167 168 169 170 171 172 173 174 175 176 177 178 179 180\n",
      " 181 182 183 184 185 186 187 188 189 190 191 192 193 194 195 196 197 198 199 200\n",
      " 201 202 203 204 205 206 207 208 209 210 211 212 213 214 215 216 217 218 219 220\n",
      " 221 222 223 224 225 226 227 228 229 230 231 232 233 234 235 236 237 238 239 240\n",
      " 241 242 243 244 245 246 247 248 249 250 251 252 253 254 255 256 257 258 259 260\n",
      " 261 262 263 264 265 266 267 268 269 270 271 272 273 274 275 276 277 278 279 280\n",
      " 281 282 283 284 285 286 287 288 289 290 291 292 293 294 295 296 297 298 299 300\n",
      " 301 302 303 304 305 306 307 308 309 310 311 312 313 314 315 316 317 318 319 320\n",
      " 321 322 323 324 325 326 327 328 329 330 331 332 333 334 335 336 337 338 339 340\n",
      " 341 342 343 344 345 346 347 348 349 350 351 352 353 354 355 356 357 358 359 360\n",
      " 361 362 363 364 365 366 367 368 369 370 371 372 373 374 375 376 377 378 379 380\n",
      " 381 382 383 384 385 386 387 388 389 390 391 392 393 394 395 396 397 398 399 400\n",
      " 401 402 403 404 405 406 407 408 409 410 411 412 413 414 415 416 417 418 419 420\n",
      " 421 422 423 424 425 426 427 428 429 430 431 432 433 434 435 436 437 438 439 440\n",
      " 441 442 443 444 445 446 447 448 449 450 451 452 453 454 455 456 457 458 459 460\n",
      " 461 462 463 464 465 466 467 468 469 470 471 472 473 474 475 476 477 478 479 480\n",
      " 481 482 483 484 485 486 487 488 489 490 491 492 493 494 495 496 497 498 499 500\n",
      " 501 502 503 504 505\n",
      "\n",
      "-- Imputation 4 --\n",
      "\n",
      "  1  2  3  4  5  6  7  8  9 10 11 12 13 14 15 16 17 18 19 20\n",
      " 21 22 23 24 25 26 27 28 29 30 31 32 33 34 35 36 37 38 39 40\n",
      " 41 42 43 44 45 46 47 48 49 50 51 52 53 54 55 56 57 58 59 60\n",
      " 61 62 63 64 65 66 67 68 69 70 71 72 73 74 75 76 77 78 79 80\n",
      " 81 82 83 84 85 86 87 88 89 90 91 92 93 94 95 96 97 98 99 100\n",
      " 101 102 103 104 105 106 107 108 109 110 111 112 113 114 115 116 117 118 119 120\n",
      " 121 122 123 124 125 126 127 128 129 130 131 132 133 134 135 136 137 138 139 140\n",
      " 141 142 143 144 145 146 147 148 149 150 151 152 153 154 155 156 157 158 159 160\n",
      " 161 162 163 164 165 166 167 168 169 170 171 172 173 174 175 176 177 178 179 180\n",
      " 181 182 183 184 185 186 187 188 189 190 191 192 193 194 195 196 197 198 199 200\n",
      " 201 202 203 204 205 206 207 208 209 210 211 212 213 214 215 216 217 218 219 220\n",
      " 221 222 223 224 225 226 227 228 229 230 231 232 233 234 235 236 237 238 239 240\n",
      " 241 242 243 244 245 246 247 248 249 250 251 252 253 254 255 256 257 258 259 260\n",
      " 261 262 263 264 265 266 267 268 269 270 271 272 273 274 275 276 277 278 279 280\n",
      " 281 282 283 284 285 286 287 288 289 290 291 292 293 294 295 296 297 298 299 300\n",
      " 301 302 303 304 305 306 307 308 309 310 311 312 313 314 315 316 317 318 319 320\n",
      " 321 322 323 324 325 326 327 328 329 330 331 332 333 334 335\n",
      "\n",
      "-- Imputation 5 --\n",
      "\n",
      "  1  2  3  4  5  6  7  8  9 10 11 12 13 14 15 16 17 18 19 20\n",
      " 21 22 23 24 25 26 27 28 29 30 31 32 33 34 35 36 37 38 39 40\n",
      " 41 42 43 44 45 46 47 48 49 50 51 52 53 54 55 56 57 58 59 60\n",
      " 61 62 63 64 65 66 67 68 69 70 71 72 73 74 75 76 77 78 79 80\n",
      " 81 82 83 84 85 86 87 88 89 90 91 92 93 94 95 96 97 98 99 100\n",
      " 101 102 103 104 105 106 107 108 109 110 111 112 113 114 115 116 117 118 119 120\n",
      " 121 122 123 124 125 126 127 128 129 130 131 132 133 134 135 136 137 138 139 140\n",
      " 141 142 143 144 145 146 147 148 149 150 151 152 153 154 155 156 157 158 159 160\n",
      " 161 162 163 164 165 166 167 168 169 170 171 172 173 174 175 176 177 178 179 180\n",
      " 181 182 183 184 185 186 187 188 189 190 191 192 193 194 195 196 197 198 199 200\n",
      " 201 202 203 204 205 206 207 208 209 210 211 212 213 214 215 216 217 218 219 220\n",
      " 221 222 223 224 225 226 227 228 229 230 231 232 233 234 235 236 237 238 239 240\n",
      " 241 242 243 244 245 246 247 248 249 250 251 252 253 254 255 256 257 258 259 260\n",
      " 261 262 263 264 265 266 267 268 269 270 271 272 273 274 275 276 277 278 279 280\n",
      " 281 282 283 284 285 286 287 288 289 290 291 292 293 294 295 296 297 298 299 300\n",
      " 301 302 303 304 305 306 307 308 309 310 311 312 313 314 315 316 317 318 319 320\n",
      " 321 322 323 324 325 326 327 328 329 330 331 332 333 334 335 336 337 338 339 340\n",
      " 341 342 343 344 345 346 347 348 349 350 351 352 353 354 355 356 357 358 359 360\n",
      " 361 362 363 364 365 366 367 368 369 370 371 372 373 374 375 376 377 378 379 380\n",
      " 381 382 383 384 385 386 387 388 389 390 391 392 393 394 395 396 397 398 399 400\n",
      " 401 402 403 404 405 406 407 408 409 410 411 412 413 414 415 416 417 418 419 420\n",
      " 421 422 423 424 425 426 427 428 429 430 431 432 433 434 435 436 437 438 439 440\n",
      " 441 442 443 444 445 446 447 448 449 450 451 452 453 454 455 456 457 458 459 460\n",
      " 461 462 463 464 465 466 467 468 469 470 471 472 473 474 475 476 477 478 479 480\n",
      " 481 482 483 484 485 486 487 488 489 490 491 492 493 494 495 496 497 498 499 500\n",
      " 501 502 503 504 505 506 507 508 509 510 511 512 513 514 515 516 517 518 519 520\n",
      " 521 522 523 524 525 526 527 528 529 530 531 532 533 534 535 536 537 538 539 540\n",
      " 541 542 543 544 545 546 547 548 549 550 551 552 553 554 555 556 557 558 559 560\n",
      " 561 562 563 564 565 566 567 568 569 570 571 572 573 574 575 576 577 578 579 580\n",
      " 581 582 583 584 585 586 587 588 589 590 591 592 593 594 595 596 597 598 599 600\n",
      " 601 602 603 604 605 606 607 608 609 610 611 612 613 614 615 616 617 618 619 620\n",
      " 621 622 623 624 625 626 627 628 629 630 631 632 633 634 635 636 637 638 639 640\n",
      " 641 642 643 644 645 646 647 648 649 650 651 652 653 654 655 656 657 658 659 660\n",
      " 661 662 663 664 665 666 667 668 669 670 671 672 673 674 675 676 677 678 679 680\n",
      " 681 682 683 684 685 686 687 688 689 690 691 692 693 694 695 696 697 698 699 700\n",
      " 701 702 703 704 705 706 707 708 709 710 711 712 713 714 715 716 717 718 719 720\n",
      " 721 722 723 724 725 726 727 728 729 730 731 732 733 734 735 736 737 738 739 740\n",
      " 741 742 743 744 745 746 747 748 749 750 751 752 753 754 755 756 757 758 759 760\n",
      " 761 762 763 764 765 766 767 768 769 770 771 772 773 774 775 776 777 778 779 780\n",
      " 781 782 783 784 785 786 787 788 789 790 791 792 793 794 795 796 797 798 799 800\n",
      " 801 802 803 804 805 806 807 808 809 810 811 812 813 814 815 816 817 818 819 820\n",
      " 821 822 823 824 825 826 827 828 829 830 831\n",
      "\n"
     ]
    }
   ],
   "source": [
    "X.amelia=amelia(Xnaquanti,m=5)\n"
   ]
  },
  {
   "cell_type": "code",
   "execution_count": 105,
   "metadata": {},
   "outputs": [
    {
     "name": "stdout",
     "output_type": "stream",
     "text": [
      "\n",
      "Amelia output with 5 imputed datasets.\n",
      "Return code:  1 \n",
      "Message:  Normal EM convergence. \n",
      "\n",
      "Chain Lengths:\n",
      "--------------\n",
      "Imputation 1:  701\n",
      "Imputation 2:  432\n",
      "Imputation 3:  505\n",
      "Imputation 4:  335\n",
      "Imputation 5:  831\n",
      "\n",
      "Rows after Listwise Deletion:  0 \n",
      "Rows after Imputation:  825 \n",
      "Patterns of missingness in the data:  92 \n",
      "\n",
      "Fraction Missing for original variables: \n",
      "-----------------------------------------\n",
      "\n",
      "        Fraction Missing\n",
      "MOCAGE         0.8078770\n",
      "TEMPE          0.8040346\n",
      "VentMOD        0.7838617\n",
      "VentANG        0.8222863\n",
      "SRMH2O         0.8030740\n",
      "LNO2           0.7877041\n",
      "LNO            0.8001921\n",
      "\n"
     ]
    }
   ],
   "source": [
    "summary(X.amelia)"
   ]
  },
  {
   "cell_type": "code",
   "execution_count": 106,
   "metadata": {
    "collapsed": true,
    "jupyter": {
     "outputs_hidden": true
    },
    "tags": []
   },
   "outputs": [
    {
     "name": "stdout",
     "output_type": "stream",
     "text": [
      "Warning: There are observations in the data that are completely missing. \n",
      "         These observations will remain unimputed in the final datasets. \n",
      "-- Imputation 1 --\n",
      "\n",
      "  1  2  3  4  5  6  7  8  9 10 11 12 13 14 15 16 17 18 19 20\n",
      " 21 22 23 24 25 26 27 28 29 30 31 32 33 34 35 36 37 38 39 40\n",
      " 41 42 43 44 45 46 47 48 49 50 51 52 53 54 55 56 57 58 59 60\n",
      " 61 62 63 64 65 66 67 68 69 70 71 72 73 74 75 76 77 78 79 80\n",
      " 81 82 83 84 85 86 87 88 89 90 91 92 93 94 95 96 97 98 99 100\n",
      " 101 102 103 104 105 106 107 108 109 110 111 112 113 114 115 116 117 118 119 120\n",
      " 121 122 123 124 125 126 127 128 129 130 131 132 133 134 135 136 137 138 139 140\n",
      " 141 142 143 144 145 146 147 148 149 150 151 152 153 154 155 156 157 158 159 160\n",
      " 161 162 163 164 165 166 167 168 169 170 171 172 173 174 175 176 177 178 179 180\n",
      " 181 182 183 184 185 186 187 188 189 190 191 192 193 194 195 196 197 198 199 200\n",
      " 201 202 203 204 205 206 207 208 209 210 211 212 213 214 215 216 217 218 219 220\n",
      " 221 222 223 224 225 226 227 228 229 230 231 232 233 234 235 236 237 238 239 240\n",
      " 241 242 243 244 245 246 247 248 249 250 251 252 253 254 255 256 257 258 259 260\n",
      " 261 262 263 264 265 266 267 268 269 270 271 272 273 274 275 276 277 278 279 280\n",
      " 281 282 283 284 285 286 287 288 289 290 291 292 293 294 295 296 297 298 299 300\n",
      " 301 302 303 304 305 306 307 308 309 310 311 312 313 314 315 316 317 318 319 320\n",
      " 321 322 323 324 325 326 327 328 329 330 331 332 333 334 335 336 337 338 339 340\n",
      " 341 342 343 344 345 346 347 348 349 350 351 352 353 354 355 356 357 358 359 360\n",
      " 361 362 363 364 365 366 367 368 369 370 371 372 373 374 375 376 377 378 379 380\n",
      " 381 382 383 384 385 386 387 388 389 390 391 392 393 394 395 396 397 398 399 400\n",
      " 401 402 403 404 405 406 407 408 409 410 411 412 413 414 415 416 417 418 419 420\n",
      " 421 422 423 424 425 426 427 428 429 430 431 432 433 434 435 436 437 438 439 440\n",
      " 441 442 443 444 445 446 447 448 449 450 451 452 453 454 455 456 457 458 459 460\n",
      " 461 462 463 464 465 466 467 468 469 470 471 472 473 474 475 476 477 478 479 480\n",
      " 481 482 483 484 485 486 487 488 489 490 491 492 493 494 495 496 497 498 499 500\n",
      " 501 502 503 504 505 506 507 508 509 510 511 512 513 514 515 516 517 518 519 520\n",
      " 521 522 523 524 525 526 527 528 529 530 531 532 533 534 535 536 537 538 539 540\n",
      " 541 542 543 544\n",
      "\n"
     ]
    },
    {
     "data": {
      "text/html": [
       "&lt;NA&gt;"
      ],
      "text/latex": [
       "<NA>"
      ],
      "text/markdown": [
       "&lt;NA&gt;"
      ],
      "text/plain": [
       "[1] NA"
      ]
     },
     "metadata": {},
     "output_type": "display_data"
    },
    {
     "data": {
      "image/png": "[encoded data removed]",
      "text/plain": [
       "plot without title"
      ]
     },
     "metadata": {
      "image/png": {
       "height": 420,
       "width": 420
      }
     },
     "output_type": "display_data"
    }
   ],
   "source": [
    "X.amelia=amelia(Xnaquanti,m=1)$imputations$imp1\n",
    "\n",
    "err.amelia=(Xquanti-X.amelia)[ind.na.Temp,2]\n",
    "\n",
    "sqrt(mean(err.amelia^2))\n",
    "boxplot(data.frame(err.locf,err.moy,err.med,err.kNN,err.mf,err.amelia),ylim=c(-15,15))\n",
    "abline(h=0,col=\"red\",lty=4,lwd=3)\n"
   ]
  },
  {
   "cell_type": "markdown",
   "metadata": {},
   "source": [
    "**Question** Faire la moyenne des 5 imputations fournies par Amelia. Est-ce que l'on obtient de meilleurs résultats ? "
   ]
  },
  {
   "cell_type": "markdown",
   "metadata": {},
   "source": [
    "**Question** Que concluez vous ? Quelle méthode vous semble la plus pertinente sur ces données ? "
   ]
  },
  {
   "cell_type": "markdown",
   "metadata": {},
   "source": [
    "## Imputation avec MissForest et impact sur la classification \n",
    "\n",
    "### Imputation des données manquantes\n",
    "\n",
    "\n",
    "On reprend ici le jeu de données complet, incluant les variables explicatives quantitatives et qualitatives. \n",
    "L'algorithme missForest permet d'imputer à la fois les variables quantitatives et qualitatives. Revoyez les slides de cours pour son fonctionnement. "
   ]
  },
  {
   "cell_type": "markdown",
   "metadata": {},
   "source": [
    "Connaissant les \"vraies\" données initiales, il est possible, dans ce cas de calculer des erreurs d'imputation de `missForest`.\n",
    "\n",
    "**Question** Quelles sont elles? Quelle estimation de l'erreur est fournie quand les données manquantes le sont vraiment?"
   ]
  },
  {
   "cell_type": "code",
   "execution_count": 108,
   "metadata": {},
   "outputs": [
    {
     "data": {
      "text/plain": [
       "   JOUR         MOCAGE           TEMPE       STATION       VentMOD      \n",
       " 0   :132   Min.   : 58.80   Min.   :11.60   Aix : 41   Min.   : 0.300  \n",
       " 1   : 76   1st Qu.: 94.28   1st Qu.:19.60   Als : 49   1st Qu.: 4.000  \n",
       " NA's:833   Median :122.40   Median :22.85   Cad : 47   Median : 5.708  \n",
       "            Mean   :125.84   Mean   :23.37   Pla : 36   Mean   : 5.785  \n",
       "            3rd Qu.:150.32   3rd Qu.:27.20   Ram : 45   3rd Qu.: 6.935  \n",
       "            Max.   :284.70   Max.   :37.90   NA's:823   Max.   :17.687  \n",
       "            NA's   :841      NA's   :837                NA's   :816     \n",
       "    VentANG            SRMH2O            LNO2              LNO         \n",
       " Min.   :-1.5519   Min.   :0.0607   Min.   :-1.2730   Min.   :-2.9565  \n",
       " 1st Qu.:-0.4939   1st Qu.:0.0867   1st Qu.: 0.1790   1st Qu.:-1.3413  \n",
       " Median : 0.1882   Median :0.1007   Median : 0.8078   Median :-0.8783  \n",
       " Mean   : 0.0891   Mean   :0.0999   Mean   : 0.8216   Mean   :-0.7878  \n",
       " 3rd Qu.: 0.6799   3rd Qu.:0.1123   3rd Qu.: 1.3838   3rd Qu.:-0.2924  \n",
       " Max.   : 1.5708   Max.   :0.1659   Max.   : 3.0610   Max.   : 2.2438  \n",
       " NA's   :856       NA's   :836      NA's   :820       NA's   :833      "
      ]
     },
     "metadata": {},
     "output_type": "display_data"
    }
   ],
   "source": [
    "summary(Xna)"
   ]
  },
  {
   "cell_type": "code",
   "execution_count": 132,
   "metadata": {
    "ExecuteTime": {
     "start_time": "2019-11-18T09:22:27.103Z"
    },
    "tags": []
   },
   "outputs": [
    {
     "name": "stdout",
     "output_type": "stream",
     "text": [
      "  missForest iteration 1 in progress...done!\n",
      "    error(s): 0.3393864 0.5797101 \n",
      "    estimated error(s): 0.2690747 0.4543269 \n",
      "    difference(s): 0.0172558 0.3463016 \n",
      "    time: 0.322 seconds\n",
      "\n",
      "  missForest iteration 2 in progress...done!\n",
      "    error(s): 0.3471673 0.5833333 \n",
      "    estimated error(s): 0.2053957 0.2180443 \n",
      "    difference(s): 0.005625572 0.1027858 \n",
      "    time: 0.324 seconds\n",
      "\n",
      "  missForest iteration 3 in progress...done!\n",
      "    error(s): 0.3493842 0.6032609 \n",
      "    estimated error(s): 0.1968408 0.2135674 \n",
      "    difference(s): 0.00350091 0.06195965 \n",
      "    time: 0.326 seconds\n",
      "\n",
      "  missForest iteration 4 in progress...done!\n",
      "    error(s): 0.3557371 0.6044686 \n",
      "    estimated error(s): 0.1710342 0.1928149 \n",
      "    difference(s): 0.003100144 0.04466859 \n",
      "    time: 0.323 seconds\n",
      "\n",
      "  missForest iteration 5 in progress...done!\n",
      "    error(s): 0.3576975 0.602657 \n",
      "    estimated error(s): 0.1786948 0.180906 \n",
      "    difference(s): 0.001653075 0.03986551 \n",
      "    time: 0.323 seconds\n",
      "\n",
      "  missForest iteration 6 in progress...done!\n",
      "    error(s): 0.3586937 0.593599 \n",
      "    estimated error(s): 0.182809 0.179274 \n",
      "    difference(s): 0.001211198 0.04130644 \n",
      "    time: 0.331 seconds\n",
      "\n",
      "  missForest iteration 7 in progress...done!\n",
      "    error(s): 0.3646866 0.5929952 \n",
      "    estimated error(s): 0.1801844 0.1861547 \n",
      "    difference(s): 0.001522725 0.03554275 \n",
      "    time: 0.319 seconds\n",
      "\n",
      "  missForest iteration 8 in progress...done!\n",
      "    error(s): 0.3688794 0.6002415 \n",
      "    estimated error(s): 0.1767173 0.1672548 \n",
      "    difference(s): 0.002021007 0.02833814 \n",
      "    time: 0.328 seconds\n",
      "\n",
      "  missForest iteration 9 in progress...done!\n",
      "    error(s): 0.368364 0.5966184 \n",
      "    estimated error(s): 0.1726174 0.1719522 \n",
      "    difference(s): 0.001287966 0.02881844 \n",
      "    time: 0.327 seconds\n",
      "\n",
      "  missForest iteration 10 in progress...done!\n",
      "    error(s): 0.3671216 0.5960145 \n",
      "    estimated error(s): 0.167253 0.1429958 \n",
      "    difference(s): 0.001309656 0.02929875 \n",
      "    time: 0.321 seconds\n",
      "\n"
     ]
    }
   ],
   "source": [
    "XnaImp=missForest(Xna,xtrue=X,verbose=TRUE)\n",
    "#X.locf=na.locf(Xnaquanti,na.rm=FALSE)\n",
    "#X.locf=na.locf(X.locf,na.rm=FALSE,fromLast=TRUE) # dans l'autre sens\n",
    "#XnaImp=X.locf"
   ]
  },
  {
   "cell_type": "code",
   "execution_count": 133,
   "metadata": {
    "ExecuteTime": {
     "start_time": "2019-11-18T09:22:27.111Z"
    }
   },
   "outputs": [
    {
     "data": {
      "text/html": [
       "<style>\n",
       ".dl-inline {width: auto; margin:0; padding: 0}\n",
       ".dl-inline>dt, .dl-inline>dd {float: none; width: auto; display: inline-block}\n",
       ".dl-inline>dt::after {content: \":\\0020\"; padding-right: .5ex}\n",
       ".dl-inline>dt:not(:first-of-type) {padding-left: .5ex}\n",
       "</style><dl class=dl-inline><dt>NRMSE</dt><dd>0.167253035020338</dd><dt>PFC</dt><dd>0.142995765702188</dd></dl>\n"
      ],
      "text/latex": [
       "\\begin{description*}\n",
       "\\item[NRMSE] 0.167253035020338\n",
       "\\item[PFC] 0.142995765702188\n",
       "\\end{description*}\n"
      ],
      "text/markdown": [
       "NRMSE\n",
       ":   0.167253035020338PFC\n",
       ":   0.142995765702188\n",
       "\n"
      ],
      "text/plain": [
       "    NRMSE       PFC \n",
       "0.1672530 0.1429958 "
      ]
     },
     "metadata": {},
     "output_type": "display_data"
    },
    {
     "data": {
      "text/html": [
       "<style>\n",
       ".dl-inline {width: auto; margin:0; padding: 0}\n",
       ".dl-inline>dt, .dl-inline>dd {float: none; width: auto; display: inline-block}\n",
       ".dl-inline>dt::after {content: \":\\0020\"; padding-right: .5ex}\n",
       ".dl-inline>dt:not(:first-of-type) {padding-left: .5ex}\n",
       "</style><dl class=dl-inline><dt>NRMSE</dt><dd>0.367121641111123</dd><dt>PFC</dt><dd>0.596014492753623</dd></dl>\n"
      ],
      "text/latex": [
       "\\begin{description*}\n",
       "\\item[NRMSE] 0.367121641111123\n",
       "\\item[PFC] 0.596014492753623\n",
       "\\end{description*}\n"
      ],
      "text/markdown": [
       "NRMSE\n",
       ":   0.367121641111123PFC\n",
       ":   0.596014492753623\n",
       "\n"
      ],
      "text/plain": [
       "    NRMSE       PFC \n",
       "0.3671216 0.5960145 "
      ]
     },
     "metadata": {},
     "output_type": "display_data"
    }
   ],
   "source": [
    "XnaImp$OOBerror;XnaImp$error"
   ]
  },
  {
   "cell_type": "markdown",
   "metadata": {},
   "source": [
    "Vérifiez que les imputations sont réalisées."
   ]
  },
  {
   "cell_type": "code",
   "execution_count": 134,
   "metadata": {
    "ExecuteTime": {
     "start_time": "2019-11-18T09:22:27.381Z"
    },
    "tags": []
   },
   "outputs": [
    {
     "data": {
      "text/plain": [
       "         Length Class      Mode   \n",
       "ximp     9      data.frame list   \n",
       "OOBerror 2      -none-     numeric\n",
       "error    2      -none-     numeric"
      ]
     },
     "metadata": {},
     "output_type": "display_data"
    }
   ],
   "source": [
    "summary(XnaImp)"
   ]
  },
  {
   "cell_type": "markdown",
   "metadata": {},
   "source": [
    "### Impact sur les performances de classification"
   ]
  },
  {
   "cell_type": "markdown",
   "metadata": {},
   "source": [
    "\n",
    "On va désormais prédire la variable Depseuil à partir du jeu de données initial (sans valeur manquante) et à partir du jeu de données imputé par missForest afin de comparer les performances de classification. \n",
    "\n",
    "On transforme tout d'abord les facteurs en indicatrices."
   ]
  },
  {
   "cell_type": "code",
   "execution_count": 137,
   "metadata": {
    "ExecuteTime": {
     "start_time": "2019-11-18T09:22:27.648Z"
    }
   },
   "outputs": [],
   "source": [
    "library(FactoMineR)\n",
    "# données complètes\n",
    "Xd=data.frame(tab.disjonctif(X[,c(1,4)]),X[,-c(1,4)])\n",
    "# données avec trous\n",
    "Xdna=data.frame(tab.disjonctif(Xna[,c(1,4)]),Xna[,-c(1,4)]) \n",
    "# données avec imputations\n",
    "XdnaImp=data.frame(tab.disjonctif(XnaImp$ximp[,c(1,4)]),XnaImp$ximp[,-c(1,4)]) \n",
    "#XdnaImp=data.frame(tab.disjonctif(XnaImp[,c(1,4)]),XnaImp[,-c(1,4)]) "
   ]
  },
  {
   "cell_type": "code",
   "execution_count": 138,
   "metadata": {
    "tags": []
   },
   "outputs": [
    {
     "data": {
      "text/plain": [
       "   JOUR         MOCAGE           TEMPE       STATION       VentMOD      \n",
       " 0   :132   Min.   : 58.80   Min.   :11.60   Aix : 41   Min.   : 0.300  \n",
       " 1   : 76   1st Qu.: 94.28   1st Qu.:19.60   Als : 49   1st Qu.: 4.000  \n",
       " NA's:833   Median :122.40   Median :22.85   Cad : 47   Median : 5.708  \n",
       "            Mean   :125.84   Mean   :23.37   Pla : 36   Mean   : 5.785  \n",
       "            3rd Qu.:150.32   3rd Qu.:27.20   Ram : 45   3rd Qu.: 6.935  \n",
       "            Max.   :284.70   Max.   :37.90   NA's:823   Max.   :17.687  \n",
       "            NA's   :841      NA's   :837                NA's   :816     \n",
       "    VentANG            SRMH2O            LNO2              LNO         \n",
       " Min.   :-1.5519   Min.   :0.0607   Min.   :-1.2730   Min.   :-2.9565  \n",
       " 1st Qu.:-0.4939   1st Qu.:0.0867   1st Qu.: 0.1790   1st Qu.:-1.3413  \n",
       " Median : 0.1882   Median :0.1007   Median : 0.8078   Median :-0.8783  \n",
       " Mean   : 0.0891   Mean   :0.0999   Mean   : 0.8216   Mean   :-0.7878  \n",
       " 3rd Qu.: 0.6799   3rd Qu.:0.1123   3rd Qu.: 1.3838   3rd Qu.:-0.2924  \n",
       " Max.   : 1.5708   Max.   :0.1659   Max.   : 3.0610   Max.   : 2.2438  \n",
       " NA's   :856       NA's   :836      NA's   :820       NA's   :833      "
      ]
     },
     "metadata": {},
     "output_type": "display_data"
    }
   ],
   "source": [
    "summary(Xna)"
   ]
  },
  {
   "cell_type": "markdown",
   "metadata": {},
   "source": [
    "La librairie `caret` facilite beaucoup la syntaxe pour l'exécution, elle est donc reprise. Il faudrait sinon transformer les données sous un autre format. C'est intégré par `caret`.\n",
    "\n",
    "Construction des mêmes échantillons d'apprentissage et de test dans les trois cas: données initiales, manquantes, imputées."
   ]
  },
  {
   "cell_type": "code",
   "execution_count": 139,
   "metadata": {
    "tags": []
   },
   "outputs": [
    {
     "name": "stderr",
     "output_type": "stream",
     "text": [
      "Installation du package dans ‘/home/h_pham/R/libs’\n",
      "(car ‘lib’ n'est pas spécifié)\n",
      "\n"
     ]
    }
   ],
   "source": [
    "install.packages('doParallel')"
   ]
  },
  {
   "cell_type": "code",
   "execution_count": 140,
   "metadata": {
    "ExecuteTime": {
     "start_time": "2019-11-18T09:22:27.913Z"
    }
   },
   "outputs": [],
   "source": [
    "library(caret)\n",
    "# parallélisation\n",
    "library(doParallel)\n",
    "cl <- makeCluster(4)\n",
    "registerDoParallel(cl) \n",
    "# indices de l’échantillon d’apprentissage\n",
    "xx=11 # Changer cette valeur pour personnaliser l'échantillonnage\n",
    "set.seed(xx)\n",
    "inTrain = createDataPartition(X[,1],p = 0.8, list = FALSE)\n",
    "# Extraction des échantillons\n",
    "trainDescr=Xd[inTrain,]\n",
    "testDescr=Xd[-inTrain,]\n",
    "# Les mêmes avec trous\n",
    "trainDescrNA=Xdna[inTrain,]\n",
    "testDescrNA=Xdna[-inTrain,]\n",
    "# Les mêmes avec données manquantes imputées\n",
    "trainDescrNAimp=XdnaImp[inTrain,]\n",
    "testDescrNAimp=XdnaImp[-inTrain,]\n",
    "testY=Y[-inTrain]\n",
    "trainY=Y[inTrain]\n",
    "cvControl=trainControl(method=\"cv\",number=10)"
   ]
  },
  {
   "cell_type": "code",
   "execution_count": 141,
   "metadata": {
    "ExecuteTime": {
     "start_time": "2019-11-18T09:22:27.921Z"
    }
   },
   "outputs": [],
   "source": [
    "# prévision avec random forest sur données initiales sans valeurs manquantes\n",
    "set.seed(2)\n",
    "rfFit = train(trainDescr, trainY,method = \"rf\", tuneLength = 8,\n",
    "              trControl = cvControl, trace=FALSE)"
   ]
  },
  {
   "cell_type": "code",
   "execution_count": 142,
   "metadata": {
    "ExecuteTime": {
     "start_time": "2019-11-18T09:22:28.212Z"
    }
   },
   "outputs": [],
   "source": [
    "\n",
    "# Prévision avec random forest sur données imputées\n",
    "set.seed(2)\n",
    "rfFitNAimp = train(trainDescrNAimp, trainY,method = \"rf\", tuneLength = 8,\n",
    "              trControl = cvControl, trace=FALSE)\n"
   ]
  },
  {
   "cell_type": "code",
   "execution_count": 143,
   "metadata": {
    "ExecuteTime": {
     "start_time": "2019-11-18T09:22:28.205Z"
    }
   },
   "outputs": [
    {
     "data": {
      "text/html": [
       "<dl>\n",
       "\t<dt>$rf</dt>\n",
       "\t\t<dd>0.888888888888889</dd>\n",
       "\t<dt>$rfNAimp</dt>\n",
       "\t\t<dd>0.816425120772947</dd>\n",
       "</dl>\n"
      ],
      "text/latex": [
       "\\begin{description}\n",
       "\\item[\\$rf] 0.888888888888889\n",
       "\\item[\\$rfNAimp] 0.816425120772947\n",
       "\\end{description}\n"
      ],
      "text/markdown": [
       "$rf\n",
       ":   0.888888888888889\n",
       "$rfNAimp\n",
       ":   0.816425120772947\n",
       "\n",
       "\n"
      ],
      "text/plain": [
       "$rf\n",
       "[1] 0.8888889\n",
       "\n",
       "$rfNAimp\n",
       "[1] 0.8164251\n"
      ]
     },
     "metadata": {},
     "output_type": "display_data"
    }
   ],
   "source": [
    "# Taux de bonnes prévisions sur le test avec données initiales\n",
    "models=list(rf=rfFit,rfNAimp=rfFitNAimp)\n",
    "\n",
    "testPred=predict(models, newdata = testDescr)\n",
    "# taux de bien classés\n",
    "lapply(testPred,function(x)mean(x==testY))"
   ]
  },
  {
   "cell_type": "markdown",
   "metadata": {},
   "source": [
    "**Question** Qu'en déduisez vous sur la qualité des résultats après imputation ? Augmentez le taux de données manquantes (jusqu'à 80 %) pour voir l'impact de ce taux sur la qualité de prédiction après imputation des valeurs manquantes. \n"
   ]
  },
  {
   "cell_type": "markdown",
   "metadata": {},
   "source": [
    "### Prévision sans imputation \n",
    "\n",
    "La phase d'imputation est rendue obligatoire par l'usage de nombreuses méthodes qui n'acceptent pas les données manquantes. Il peut être intéressant de s'en passer car les informations reconstruites ne sont pas utilisables à d'autres fins; `XGBoost` offre cette oppotunité. Pendant qu'il tourne, [essayer de comprendre](https://arxiv.org/abs/1603.02754) les astuces mises en oeuvre pour tolérer des données manquantes."
   ]
  },
  {
   "cell_type": "code",
   "execution_count": 150,
   "metadata": {
    "tags": []
   },
   "outputs": [
    {
     "name": "stderr",
     "output_type": "stream",
     "text": [
      "Installation du package dans ‘/home/h_pham/R/libs’\n",
      "(car ‘lib’ n'est pas spécifié)\n",
      "\n"
     ]
    }
   ],
   "source": [
    "install.packages('xgboost')"
   ]
  },
  {
   "cell_type": "code",
   "execution_count": null,
   "metadata": {},
   "outputs": [],
   "source": [
    "# Prévision avec XGBoost avec données manquantes\n",
    "library(xgboost)\n",
    "xgbFitNA = train(trainDescrNA, trainY,method = \"xgbTree\", tuneLength = 6,\n",
    "               trControl = cvControl)"
   ]
  },
  {
   "cell_type": "code",
   "execution_count": 145,
   "metadata": {
    "ExecuteTime": {
     "start_time": "2019-11-18T09:22:28.793Z"
    }
   },
   "outputs": [
    {
     "ename": "ERROR",
     "evalue": "Error in eval(expr, envir, enclos): objet 'xgbFitNA' introuvable\n",
     "output_type": "error",
     "traceback": [
      "Error in eval(expr, envir, enclos): objet 'xgbFitNA' introuvable\nTraceback:\n",
      "1. predict(xgbFitNA, newdata = testDescrNA)"
     ]
    }
   ],
   "source": [
    "#  Taux de bonnes  prévisions avec XGBoot tolérant les données manquantes.\n",
    "testPred=predict(xgbFitNA, newdata = testDescrNA)\n",
    "mean(testPred==testY)"
   ]
  },
  {
   "cell_type": "markdown",
   "metadata": {},
   "source": [
    "**Question** Comparer les résultats obtenus par les différentes stratégies. En tenant compte des temps de calcul, laquelle semble la plus efficace sur ces données. \n",
    "\n",
    "*NB* L'utilisation avancée de `XGBoost` nécessite plus de puissance de calcul afin d'affiner le réglage des nombreux paramètres.\n",
    "\n",
    "**Question** Qu'en serait-il en utlisant Python au lieu de R?\n",
    "\n"
   ]
  },
  {
   "cell_type": "code",
   "execution_count": null,
   "metadata": {},
   "outputs": [],
   "source": []
  }
 ],
 "metadata": {
  "kernelspec": {
   "display_name": "R",
   "language": "R",
   "name": "ir"
  },
  "language_info": {
   "codemirror_mode": "r",
   "file_extension": ".r",
   "mimetype": "text/x-r-source",
   "name": "R",
   "pygments_lexer": "r",
   "version": "4.3.3"
  },
  "latex_envs": {
   "LaTeX_envs_menu_present": true,
   "autoclose": false,
   "autocomplete": true,
   "bibliofile": "biblio.bib",
   "cite_by": "apalike",
   "current_citInitial": 1,
   "eqLabelWithNumbers": true,
   "eqNumInitial": 1,
   "hotkeys": {
    "equation": "Ctrl-E",
    "itemize": "Ctrl-I"
   },
   "labels_anchors": false,
   "latex_user_defs": false,
   "report_style_numbering": false,
   "user_envs_cfg": false
  },
  "toc": {
   "base_numbering": 1,
   "nav_menu": {},
   "number_sections": true,
   "sideBar": true,
   "skip_h1_title": true,
   "title_cell": "Table of Contents",
   "title_sidebar": "Contents",
   "toc_cell": false,
   "toc_position": {
    "height": "630.933px",
    "left": "30px",
    "right": "1081.6px",
    "top": "139.133px",
    "width": "165px"
   },
   "toc_section_display": true,
   "toc_window_display": true
  }
 },
 "nbformat": 4,
 "nbformat_minor": 4
}
