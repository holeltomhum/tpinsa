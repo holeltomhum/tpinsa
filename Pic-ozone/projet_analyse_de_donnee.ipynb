{
 "cells": [
  {
   "cell_type": "markdown",
   "id": "ea3a89d8-6233-4d0f-b128-45219cacbc70",
   "metadata": {},
   "source": [
    "# Data Analysis - Velib Project in <a href=\"https://cran.r-project.org/\"><img src=\"https://cran.r-project.org/Rlogo.svg\" style=\"max-width: 40px; display: inline\" alt=\"R\"/></a>\n",
    "_Authors:_ H. Pham (<small>INSA Toulouse</small>)"
   ]
  },
  {
   "cell_type": "code",
   "execution_count": 1,
   "id": "91e52a57-283f-4666-ae6f-abc7594e1230",
   "metadata": {
    "tags": []
   },
   "outputs": [],
   "source": [
    "rm(list = ls())   # erase everything, start from scratch!"
   ]
  },
  {
   "cell_type": "code",
   "execution_count": 2,
   "id": "572143e5-15a3-485e-a31c-5737b3a03ad5",
   "metadata": {
    "tags": []
   },
   "outputs": [],
   "source": [
    "library(ggplot2)\n",
    "library(reshape2)\n",
    "library(gridExtra)"
   ]
  },
  {
   "cell_type": "code",
   "execution_count": 3,
   "id": "85c6ee18-5707-4576-9e12-f9186d56f6de",
   "metadata": {
    "tags": []
   },
   "outputs": [
    {
     "name": "stderr",
     "output_type": "stream",
     "text": [
      "Installation du package dans ‘/home/h_pham/R/libs’\n",
      "(car ‘lib’ n'est pas spécifié)\n",
      "\n",
      "installation des dépendances ‘locfit’, ‘ash’, ‘FNN’, ‘kernlab’, ‘mclust’, ‘multicool’, ‘pracma’, ‘pcaPP’, ‘hdrcde’, ‘ks’, ‘rainbow’, ‘fds’, ‘deSolve’, ‘lars’, ‘fda’, ‘elasticnet’\n",
      "\n",
      "\n"
     ]
    }
   ],
   "source": [
    "install.packages('funFEM')"
   ]
  },
  {
   "cell_type": "code",
   "execution_count": 6,
   "id": "5cbfdfe7-b482-4cdd-abab-078ce41a2130",
   "metadata": {
    "tags": []
   },
   "outputs": [
    {
     "data": {
      "text/html": [
       "\n",
       "<table style=\"width: 100%;\"><tr><td>velib {funFEM}</td><td style=\"text-align: right;\">R Documentation</td></tr></table>\n",
       "\n",
       "<h2 id='velib'>\n",
       "The Vélib data set\n",
       "</h2>\n",
       "\n",
       "<h3>Description</h3>\n",
       "\n",
       "<p>This data set contains data from the bike sharing system of Paris, called Vélib. The data are loading profiles of the bike stations over one week. The data were collected every hour during the period Sunday 1st Sept. - Sunday 7th Sept., 2014.\n",
       "</p>\n",
       "\n",
       "\n",
       "<h3>Usage</h3>\n",
       "\n",
       "<pre><code class='language-R'>data(velib)</code></pre>\n",
       "\n",
       "\n",
       "<h3>Format</h3>\n",
       "\n",
       "<p>The format is:\n",
       "</p>\n",
       "<p>- data: the loading profiles (nb of available bikes / nb of bike docks) of the 1189 stations at 181 time points.\n",
       "</p>\n",
       "<p>- position: the longitude and latitude of the 1189 bike stations.\n",
       "</p>\n",
       "<p>- dates: the download dates.\n",
       "</p>\n",
       "<p>- bonus: indicates if the station is on a hill (bonus = 1).\n",
       "</p>\n",
       "<p>- names: the names of the stations.\n",
       "</p>\n",
       "\n",
       "\n",
       "<h3>Source</h3>\n",
       "\n",
       "<p>The real time data are available at https://developer.jcdecaux.com/ (with an api key).\n",
       "</p>\n",
       "\n",
       "\n",
       "<h3>References</h3>\n",
       "\n",
       "<p>The data were first used in C. Bouveyron, E. Côme and J. Jacques, The discriminative functional mixture model for the analysis of bike sharing systems, Preprint HAL n.01024186, University Paris Descartes, 2014.\n",
       "</p>\n",
       "\n",
       "\n",
       "<h3>Examples</h3>\n",
       "\n",
       "<pre><code class='language-R'>data(velib)\n",
       "matplot(t(velib$data[1:5,]),type='l',lty=1,col=2:5,xaxt='n',lwd=2,ylim=c(0,1))\n",
       "axis(1,at=seq(5,181,6),labels=velib$dates[seq(5,181,6)],las=2)\n",
       "</code></pre>\n",
       "\n",
       "<hr /><div style=\"text-align: center;\">[Package <em>funFEM</em> version 1.2 ]</div>\n",
       "</div>"
      ],
      "text/latex": [
       "\\inputencoding{utf8}\n",
       "\\HeaderA{velib}{The Vélib data set}{velib}\n",
       "\\keyword{datasets}{velib}\n",
       "%\n",
       "\\begin{Description}\n",
       "This data set contains data from the bike sharing system of Paris, called Vélib. The data are loading profiles of the bike stations over one week. The data were collected every hour during the period Sunday 1st Sept. - Sunday 7th Sept., 2014.\n",
       "\\end{Description}\n",
       "%\n",
       "\\begin{Usage}\n",
       "\\begin{verbatim}\n",
       "data(velib)\n",
       "\\end{verbatim}\n",
       "\\end{Usage}\n",
       "%\n",
       "\\begin{Format}\n",
       "The format is:\n",
       "\n",
       "- data: the loading profiles (nb of available bikes / nb of bike docks) of the 1189 stations at 181 time points.\n",
       "\n",
       "- position: the longitude and latitude of the 1189 bike stations.\n",
       "\n",
       "- dates: the download dates.\n",
       "\n",
       "- bonus: indicates if the station is on a hill (bonus = 1).\n",
       "\n",
       "- names: the names of the stations.\n",
       "\\end{Format}\n",
       "%\n",
       "\\begin{Source}\n",
       "The real time data are available at https://developer.jcdecaux.com/ (with an api key).\n",
       "\\end{Source}\n",
       "%\n",
       "\\begin{References}\n",
       "The data were first used in C. Bouveyron, E. Côme and J. Jacques, The discriminative functional mixture model for the analysis of bike sharing systems, Preprint HAL n.01024186, University Paris Descartes, 2014.\n",
       "\\end{References}\n",
       "%\n",
       "\\begin{Examples}\n",
       "\\begin{ExampleCode}\n",
       "data(velib)\n",
       "matplot(t(velib$data[1:5,]),type='l',lty=1,col=2:5,xaxt='n',lwd=2,ylim=c(0,1))\n",
       "axis(1,at=seq(5,181,6),labels=velib$dates[seq(5,181,6)],las=2)\n",
       "\\end{ExampleCode}\n",
       "\\end{Examples}"
      ],
      "text/plain": [
       "velib                  package:funFEM                  R Documentation\n",
       "\n",
       "_\bT_\bh_\be _\bV_\bé_\bl_\bi_\bb _\bd_\ba_\bt_\ba _\bs_\be_\bt\n",
       "\n",
       "_\bD_\be_\bs_\bc_\br_\bi_\bp_\bt_\bi_\bo_\bn:\n",
       "\n",
       "     This data set contains data from the bike sharing system of Paris,\n",
       "     called Vélib. The data are loading profiles of the bike stations\n",
       "     over one week. The data were collected every hour during the\n",
       "     period Sunday 1st Sept. - Sunday 7th Sept., 2014.\n",
       "\n",
       "_\bU_\bs_\ba_\bg_\be:\n",
       "\n",
       "     data(velib)\n",
       "     \n",
       "_\bF_\bo_\br_\bm_\ba_\bt:\n",
       "\n",
       "     The format is:\n",
       "\n",
       "     - data: the loading profiles (nb of available bikes / nb of bike\n",
       "     docks) of the 1189 stations at 181 time points.\n",
       "\n",
       "     - position: the longitude and latitude of the 1189 bike stations.\n",
       "\n",
       "     - dates: the download dates.\n",
       "\n",
       "     - bonus: indicates if the station is on a hill (bonus = 1).\n",
       "\n",
       "     - names: the names of the stations.\n",
       "\n",
       "_\bS_\bo_\bu_\br_\bc_\be:\n",
       "\n",
       "     The real time data are available at\n",
       "     https://developer.jcdecaux.com/ (with an api key).\n",
       "\n",
       "_\bR_\be_\bf_\be_\br_\be_\bn_\bc_\be_\bs:\n",
       "\n",
       "     The data were first used in C. Bouveyron, E. Côme and J. Jacques,\n",
       "     The discriminative functional mixture model for the analysis of\n",
       "     bike sharing systems, Preprint HAL n.01024186, University Paris\n",
       "     Descartes, 2014.\n",
       "\n",
       "_\bE_\bx_\ba_\bm_\bp_\bl_\be_\bs:\n",
       "\n",
       "     data(velib)\n",
       "     matplot(t(velib$data[1:5,]),type='l',lty=1,col=2:5,xaxt='n',lwd=2,ylim=c(0,1))\n",
       "     axis(1,at=seq(5,181,6),labels=velib$dates[seq(5,181,6)],las=2)\n",
       "     "
      ]
     },
     "metadata": {},
     "output_type": "display_data"
    }
   ],
   "source": [
    "# direct loading from stored data on PLMlab\n",
    "#load('data/velib.RData')\n",
    "#summary(velib)\n",
    "\n",
    "# alternative: load the data from package funFEM, where you have more information (help page)\n",
    "library(funFEM)\n",
    "data(velib)\n",
    "help(\"velib\")\n"
   ]
  },
  {
   "cell_type": "code",
   "execution_count": 5,
   "id": "206758fb-68ff-41b1-a5ad-46b2b61ae3c0",
   "metadata": {
    "tags": []
   },
   "outputs": [
    {
     "data": {
      "text/plain": [
       "         Length Class      Mode     \n",
       "data      181   data.frame list     \n",
       "position    2   data.frame list     \n",
       "dates     181   -none-     character\n",
       "bonus    1189   -none-     numeric  \n",
       "names    1189   -none-     character"
      ]
     },
     "metadata": {},
     "output_type": "display_data"
    }
   ],
   "source": [
    "summary(velib)"
   ]
  },
  {
   "cell_type": "code",
   "execution_count": null,
   "id": "ec966b60-5241-4996-baba-03c4d0584751",
   "metadata": {},
   "outputs": [],
   "source": []
  },
  {
   "cell_type": "code",
   "execution_count": null,
   "id": "165b1863-3863-474a-8904-f7472d5a5d55",
   "metadata": {},
   "outputs": [],
   "source": []
  }
 ],
 "metadata": {
  "kernelspec": {
   "display_name": "R",
   "language": "R",
   "name": "ir"
  },
  "language_info": {
   "codemirror_mode": "r",
   "file_extension": ".r",
   "mimetype": "text/x-r-source",
   "name": "R",
   "pygments_lexer": "r",
   "version": "4.3.2"
  }
 },
 "nbformat": 4,
 "nbformat_minor": 5
}
